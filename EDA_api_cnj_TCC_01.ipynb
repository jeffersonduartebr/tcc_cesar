{
  "cells": [
    {
      "cell_type": "code",
      "execution_count": 1,
      "metadata": {
        "id": "wwDWkrHvGD5N"
      },
      "outputs": [],
      "source": [
        "import pandas as pd\n",
        "import requests\n",
        "import json\n",
        "import datetime\n",
        "import concurrent.futures\n",
        "import swifter\n",
        "import os"
      ]
    },
    {
      "cell_type": "code",
      "execution_count": 2,
      "metadata": {
        "id": "zgfVV605bUpu"
      },
      "outputs": [],
      "source": [
        "pd.set_option('display.max_columns', None)  # or 1000\n",
        "pd.set_option('display.max_rows', None)  # or 1000\n",
        "pd.set_option('display.max_colwidth', None)  # or 199"
      ]
    },
    {
      "cell_type": "code",
      "execution_count": 3,
      "metadata": {},
      "outputs": [],
      "source": [
        "def converte_data(data_str):\n",
        "    return pd.to_datetime(data_str).tz_convert('America/Sao_Paulo')\n",
        "\n",
        "\n",
        "def gera_lista_assuntos(assuntos_do_df):\n",
        "    lst_assuntos=[]\n",
        "    for assunto in assuntos_do_df:\n",
        "        try:\n",
        "            lst_assuntos.append(assunto.get('nome'))\n",
        "        except:\n",
        "            lst_assuntos.append('')\n",
        "\n",
        "    return lst_assuntos\n",
        "\n",
        "\n",
        "def gera_lista_movimentos(movimentos):\n",
        "    lst_movimentos_final =[]\n",
        "    for movimento in movimentos:\n",
        "        codigo = movimento.get('codigo')\n",
        "        nome = movimento.get('nome')\n",
        "        data_hora = movimento.get('dataHora')\n",
        "        if data_hora:\n",
        "            data_hora = converte_data(data_hora)\n",
        "        lst_movimentos_final.append([ codigo, nome, data_hora])\n",
        "    return lst_movimentos_final\n",
        "\n",
        "def process_movimento(movimento):\n",
        "    codigo = movimento.get('codigo')\n",
        "    nome = movimento.get('nome')\n",
        "    data_hora = movimento.get('dataHora')\n",
        "    if data_hora:\n",
        "        data_hora = converte_data(data_hora)\n",
        "    return [codigo, nome, data_hora]\n",
        "\n",
        "def gera_lista_movimentos_multithread(movimentos):\n",
        "    lst_movimentos_final = []\n",
        "    with concurrent.futures.ThreadPoolExecutor() as executor:\n",
        "        results = list(executor.map(process_movimento, movimentos))\n",
        "        lst_movimentos_final.extend(results)\n",
        "    return lst_movimentos_final"
      ]
    },
    {
      "cell_type": "code",
      "execution_count": 4,
      "metadata": {
        "id": "fCRLqGiKGD5Q"
      },
      "outputs": [],
      "source": [
        "def lista_para_dataframe(dados_dict):\n",
        "  processos = []\n",
        "  for processo in dados_dict['hits']['hits']:\n",
        "    numero_processo = processo['_source']['numeroProcesso']\n",
        "    grau = processo['_source']['grau']\n",
        "    classe = processo['_source']['classe']['nome']\n",
        "    try:\n",
        "      assuntos = processo['_source']['assuntos'] # Pode ter mais de um\n",
        "    except:\n",
        "      assuntos = []\n",
        "    data_ajuizamento = processo['_source']['dataAjuizamento']\n",
        "    ultima_atualizacao = processo['_source']['dataHoraUltimaAtualizacao']\n",
        "    #formato = processo['_source']['formato']['nome']\n",
        "    codigo = processo['_source']['orgaoJulgador']['codigo']\n",
        "    orgao_julgador = processo['_source']['orgaoJulgador']['nome']\n",
        "    municipio = processo['_source']['orgaoJulgador']['codigoMunicipioIBGE']\n",
        "    sort = processo['sort'][0]\n",
        "    try:\n",
        "      movimentos = processo['_source']['movimentos']\n",
        "    except:\n",
        "      movimentos = []\n",
        "\n",
        "    processos.append([numero_processo, classe, data_ajuizamento, ultima_atualizacao, \\\n",
        "                      codigo, orgao_julgador, municipio, grau, assuntos, movimentos, sort])\n",
        "\n",
        "  df = pd.DataFrame(processos, columns=['numero_processo', 'classe', 'data_ajuizamento', 'ultima_atualizacao', \\\n",
        "                        'codigo', 'orgao_julgador', 'municipio', 'grau', 'assuntos', 'movimentos', 'sort'])\n",
        "  #ddf = dd.from_pandas(df)\n",
        "  #ddf.sample(frac=0.001)\n",
        "  df['movimentos'] = df['movimentos'].swifter.apply(gera_lista_movimentos_multithread)\n",
        "  df['assuntos'] = df['assuntos'].swifter.apply(gera_lista_assuntos)\n",
        "  #df['movimentos'] = df['movimentos'].swifter.apply(gera_lista_movimentos_multithread)\n",
        "  df['data_ajuizamento'] = df['data_ajuizamento'].swifter.apply(converte_data)\n",
        "  df['ultima_atualizacao'] = df['ultima_atualizacao'].swifter.apply(converte_data)\n",
        "  try:\n",
        "    df['movimentos']= df['movimentos'].swifter.apply(lambda x: sorted(x, key=lambda tup: tup[2], reverse=False))\n",
        "  except:\n",
        "    pass\n",
        "  #df.sample(5)\n",
        "  #df.iloc[df.astype(str).drop_duplicates(inplace=True).index]\n",
        "  return df"
      ]
    },
    {
      "cell_type": "code",
      "execution_count": 5,
      "metadata": {
        "colab": {
          "base_uri": "https://localhost:8080/"
        },
        "id": "2L6SQFgbGD5O",
        "outputId": "b5955baf-6132-4b09-f181-3a68bc5ca34c"
      },
      "outputs": [],
      "source": [
        "def criar_dataset(orgao, grau, data):\n",
        "  \n",
        "  df_tjrn = pd.DataFrame()\n",
        "  url = \"https://api-publica.datajud.cnj.jus.br/api_publica_tjrn/_search\"\n",
        "  api_key = \"APIKey cDZHYzlZa0JadVREZDJCendQbXY6SkJlTzNjLV9TRENyQk1RdnFKZGRQdw==\" # Chave pública\n",
        "  tribunal = 'TJRN'\n",
        "  grau = grau\n",
        "  orgaoJulgador = orgao\n",
        "  size = 5000\n",
        "  data = data\n",
        "\n",
        "  payload = json.dumps(\n",
        "  {\n",
        "  \"size\": size,\n",
        "  \"query\": {\n",
        "      \"bool\": {\n",
        "        \"must\": [\n",
        "            {\"match\": {\"tribunal\": tribunal}},\n",
        "            {\"match\": {\"orgaoJulgador.nome\": orgaoJulgador}},\n",
        "            {\"match\": {\"grau\": grau}},\n",
        "            {\"range\": {\"dataAjuizamento\": {\"gte\": data }}}\n",
        "        ]\n",
        "      }\n",
        "  },\n",
        "    \"sort\": [{\"@timestamp\": {\"order\": \"asc\"}}]\n",
        "  })\n",
        "\n",
        "  headers = {\n",
        "    'Authorization': api_key,\n",
        "    'Content-Type': 'application/json'\n",
        "  }\n",
        "\n",
        "  response = requests.request(\"POST\", url, headers=headers, data=payload)  # <Response [200]>\n",
        "  dados_dict = response.json() # <class 'dict'>\n",
        "  df_tjrn = lista_para_dataframe(dados_dict)\n",
        "  numero_processos = size\n",
        "\n",
        "  while numero_processos == size:\n",
        "    numero_processos = len(dados_dict['hits']['hits'])\n",
        "    ultima_posicao_dicionario = dados_dict['hits']['hits'][(len(dados_dict['hits']['hits'])-1)]['sort'][0]\n",
        "    #print(f'Partindo da posição: {ultima_posicao_dicionario}')\n",
        "    payload = json.dumps(\n",
        "    {\n",
        "    \"size\": size,\n",
        "    \"query\": {\n",
        "        \"bool\": {\n",
        "          \"must\": [\n",
        "            {\"match\": {\"tribunal\": tribunal}},\n",
        "            {\"match\": {\"orgaoJulgador.nome\": orgaoJulgador}},\n",
        "            {\"match\": {\"grau\": grau}},\n",
        "            {\"range\": {\"dataAjuizamento\": {\"gte\": data}}}\n",
        "            \n",
        "          ]\n",
        "        }\n",
        "    },\n",
        "      \"search_after\": [ ultima_posicao_dicionario ],\n",
        "      \"sort\": [{\"@timestamp\": {\"order\": \"asc\"}}]\n",
        "    })\n",
        "\n",
        "    headers = {\n",
        "      'Authorization': api_key,\n",
        "      'Content-Type': 'application/json'\n",
        "    }\n",
        "\n",
        "    response = requests.request(\"POST\", url, headers=headers, data=payload)  # <Response [200]>\n",
        "    dados_dict = response.json() # <class 'dict'>\n",
        "    numero_processos = len(dados_dict['hits']['hits'])\n",
        "    ultima_posicao_dicionario = dados_dict['hits']['hits'][(len(dados_dict['hits']['hits'])-1)]['sort']\n",
        "    df_tjrn = pd.concat([df_tjrn, lista_para_dataframe(dados_dict)])\n",
        "    df_tjrn = df_tjrn[df_tjrn['orgao_julgador'] == orgao]\n",
        "    tamanho_dataset = len(df_tjrn.index)\n",
        "    ultima_data_ajuizamento = dados_dict['hits']['hits'][len(dados_dict['hits']['hits'])-1]['_source']['dataAjuizamento']\n",
        "    print(f'{datetime.datetime.now()}\\t Serventia: {orgao}\\tNúmero de processos: {tamanho_dataset} \\t Data do último processo adicionado: {ultima_data_ajuizamento}' )\n",
        "    #if tamanho_dataset > 2000000:\n",
        "    #  break\n",
        "\n",
        "  print(f'Número de processos incorporados: {tamanho_dataset}')\n",
        "  \n",
        "  return df_tjrn"
      ]
    },
    {
      "cell_type": "code",
      "execution_count": 6,
      "metadata": {},
      "outputs": [],
      "source": [
        "def salvar_dataset(df, orgao, grau, data):        \n",
        "    orgao = orgao.replace(' ', '_')\n",
        "    nome_df = 'TJRN_' + orgao + '_' + data + '.csv'\n",
        "    nome_df = nome_df.replace(\" \", \"_\")\n",
        "    os.chdir('dados')\n",
        "    df.to_csv(nome_df, sep=';', header=True, index=False, compression='zip')"
      ]
    },
    {
      "cell_type": "code",
      "execution_count": 7,
      "metadata": {},
      "outputs": [
        {
          "data": {
            "application/vnd.jupyter.widget-view+json": {
              "model_id": "3e6e5358b27446a4bc896aa6e8f4b7d2",
              "version_major": 2,
              "version_minor": 0
            },
            "text/plain": [
              "Pandas Apply:   0%|          | 0/5000 [00:00<?, ?it/s]"
            ]
          },
          "metadata": {},
          "output_type": "display_data"
        },
        {
          "data": {
            "application/vnd.jupyter.widget-view+json": {
              "model_id": "deeb522cfb264a6db65c4163880a0a46",
              "version_major": 2,
              "version_minor": 0
            },
            "text/plain": [
              "Pandas Apply:   0%|          | 0/5000 [00:00<?, ?it/s]"
            ]
          },
          "metadata": {},
          "output_type": "display_data"
        },
        {
          "data": {
            "application/vnd.jupyter.widget-view+json": {
              "model_id": "21cf5c7a938d4ce8a616ec199a0864af",
              "version_major": 2,
              "version_minor": 0
            },
            "text/plain": [
              "Pandas Apply:   0%|          | 0/5000 [00:00<?, ?it/s]"
            ]
          },
          "metadata": {},
          "output_type": "display_data"
        },
        {
          "data": {
            "application/vnd.jupyter.widget-view+json": {
              "model_id": "3aea241cec68409aa19e38eb78eec8df",
              "version_major": 2,
              "version_minor": 0
            },
            "text/plain": [
              "Pandas Apply:   0%|          | 0/5000 [00:00<?, ?it/s]"
            ]
          },
          "metadata": {},
          "output_type": "display_data"
        },
        {
          "data": {
            "application/vnd.jupyter.widget-view+json": {
              "model_id": "e456fb872f394ea98f13ed1dc4bdbf2a",
              "version_major": 2,
              "version_minor": 0
            },
            "text/plain": [
              "Pandas Apply:   0%|          | 0/5000 [00:00<?, ?it/s]"
            ]
          },
          "metadata": {},
          "output_type": "display_data"
        },
        {
          "data": {
            "application/vnd.jupyter.widget-view+json": {
              "model_id": "192014f124814bcf8ba4ce7f95a2aa05",
              "version_major": 2,
              "version_minor": 0
            },
            "text/plain": [
              "Pandas Apply:   0%|          | 0/5000 [00:00<?, ?it/s]"
            ]
          },
          "metadata": {},
          "output_type": "display_data"
        },
        {
          "data": {
            "application/vnd.jupyter.widget-view+json": {
              "model_id": "e6a472b623984ef8aed10a1e4f86fee2",
              "version_major": 2,
              "version_minor": 0
            },
            "text/plain": [
              "Pandas Apply:   0%|          | 0/5000 [00:00<?, ?it/s]"
            ]
          },
          "metadata": {},
          "output_type": "display_data"
        },
        {
          "data": {
            "application/vnd.jupyter.widget-view+json": {
              "model_id": "2934c8ad9b364761ab1addc7b69c9126",
              "version_major": 2,
              "version_minor": 0
            },
            "text/plain": [
              "Pandas Apply:   0%|          | 0/5000 [00:00<?, ?it/s]"
            ]
          },
          "metadata": {},
          "output_type": "display_data"
        },
        {
          "name": "stdout",
          "output_type": "stream",
          "text": [
            "2024-05-25 21:09:54.642941 \tNúmero de processos: 362 \t Data do último processo adicionado: 2019-12-19T16:44:24.000Z\n"
          ]
        },
        {
          "data": {
            "application/vnd.jupyter.widget-view+json": {
              "model_id": "624ecfb4fce94c1c8f4215372b65a597",
              "version_major": 2,
              "version_minor": 0
            },
            "text/plain": [
              "Pandas Apply:   0%|          | 0/5000 [00:00<?, ?it/s]"
            ]
          },
          "metadata": {},
          "output_type": "display_data"
        },
        {
          "data": {
            "application/vnd.jupyter.widget-view+json": {
              "model_id": "4b7a9f73b88341e793507f1fb39b2f36",
              "version_major": 2,
              "version_minor": 0
            },
            "text/plain": [
              "Pandas Apply:   0%|          | 0/5000 [00:00<?, ?it/s]"
            ]
          },
          "metadata": {},
          "output_type": "display_data"
        },
        {
          "data": {
            "application/vnd.jupyter.widget-view+json": {
              "model_id": "47750b1d4b7b4effa0552616e737afcb",
              "version_major": 2,
              "version_minor": 0
            },
            "text/plain": [
              "Pandas Apply:   0%|          | 0/5000 [00:00<?, ?it/s]"
            ]
          },
          "metadata": {},
          "output_type": "display_data"
        },
        {
          "data": {
            "application/vnd.jupyter.widget-view+json": {
              "model_id": "0b2fe88b5a0b40bcaa496afcaa78d75e",
              "version_major": 2,
              "version_minor": 0
            },
            "text/plain": [
              "Pandas Apply:   0%|          | 0/5000 [00:00<?, ?it/s]"
            ]
          },
          "metadata": {},
          "output_type": "display_data"
        },
        {
          "name": "stdout",
          "output_type": "stream",
          "text": [
            "2024-05-25 21:11:01.808245 \tNúmero de processos: 528 \t Data do último processo adicionado: 2022-05-03T22:11:32.000Z\n"
          ]
        },
        {
          "data": {
            "application/vnd.jupyter.widget-view+json": {
              "model_id": "aa87e8405cb942cfada5385814b147e8",
              "version_major": 2,
              "version_minor": 0
            },
            "text/plain": [
              "Pandas Apply:   0%|          | 0/5000 [00:00<?, ?it/s]"
            ]
          },
          "metadata": {},
          "output_type": "display_data"
        },
        {
          "data": {
            "application/vnd.jupyter.widget-view+json": {
              "model_id": "1e70836adb5a4d38abfafc8b93663073",
              "version_major": 2,
              "version_minor": 0
            },
            "text/plain": [
              "Pandas Apply:   0%|          | 0/5000 [00:00<?, ?it/s]"
            ]
          },
          "metadata": {},
          "output_type": "display_data"
        },
        {
          "data": {
            "application/vnd.jupyter.widget-view+json": {
              "model_id": "e6b5917588434ebeb92ee5f7db4ca881",
              "version_major": 2,
              "version_minor": 0
            },
            "text/plain": [
              "Pandas Apply:   0%|          | 0/5000 [00:00<?, ?it/s]"
            ]
          },
          "metadata": {},
          "output_type": "display_data"
        },
        {
          "data": {
            "application/vnd.jupyter.widget-view+json": {
              "model_id": "8ce32a40537c4d7d8720c8da2540b6e8",
              "version_major": 2,
              "version_minor": 0
            },
            "text/plain": [
              "Pandas Apply:   0%|          | 0/5000 [00:00<?, ?it/s]"
            ]
          },
          "metadata": {},
          "output_type": "display_data"
        },
        {
          "name": "stdout",
          "output_type": "stream",
          "text": [
            "2024-05-25 21:12:27.631763 \tNúmero de processos: 697 \t Data do último processo adicionado: 2022-12-08T10:25:23.000Z\n"
          ]
        },
        {
          "data": {
            "application/vnd.jupyter.widget-view+json": {
              "model_id": "2f5d6f1e86d24a4cb66da5dd6bd5a881",
              "version_major": 2,
              "version_minor": 0
            },
            "text/plain": [
              "Pandas Apply:   0%|          | 0/5000 [00:00<?, ?it/s]"
            ]
          },
          "metadata": {},
          "output_type": "display_data"
        },
        {
          "data": {
            "application/vnd.jupyter.widget-view+json": {
              "model_id": "0de6bc7478784b898b9865bfcfe20d91",
              "version_major": 2,
              "version_minor": 0
            },
            "text/plain": [
              "Pandas Apply:   0%|          | 0/5000 [00:00<?, ?it/s]"
            ]
          },
          "metadata": {},
          "output_type": "display_data"
        },
        {
          "data": {
            "application/vnd.jupyter.widget-view+json": {
              "model_id": "caffbb397a3b4adabe9bde00cde3a074",
              "version_major": 2,
              "version_minor": 0
            },
            "text/plain": [
              "Pandas Apply:   0%|          | 0/5000 [00:00<?, ?it/s]"
            ]
          },
          "metadata": {},
          "output_type": "display_data"
        },
        {
          "data": {
            "application/vnd.jupyter.widget-view+json": {
              "model_id": "f3423c74a00f4dd4866dfa409dfe4e9a",
              "version_major": 2,
              "version_minor": 0
            },
            "text/plain": [
              "Pandas Apply:   0%|          | 0/5000 [00:00<?, ?it/s]"
            ]
          },
          "metadata": {},
          "output_type": "display_data"
        },
        {
          "name": "stdout",
          "output_type": "stream",
          "text": [
            "2024-05-25 21:14:01.906401 \tNúmero de processos: 915 \t Data do último processo adicionado: 2023-01-17T10:18:00.000Z\n"
          ]
        },
        {
          "data": {
            "application/vnd.jupyter.widget-view+json": {
              "model_id": "d356227e61ed4b07820c19345ebd005f",
              "version_major": 2,
              "version_minor": 0
            },
            "text/plain": [
              "Pandas Apply:   0%|          | 0/5000 [00:00<?, ?it/s]"
            ]
          },
          "metadata": {},
          "output_type": "display_data"
        },
        {
          "data": {
            "application/vnd.jupyter.widget-view+json": {
              "model_id": "7ac5bdbff3e747f5ae662df156c53cc9",
              "version_major": 2,
              "version_minor": 0
            },
            "text/plain": [
              "Pandas Apply:   0%|          | 0/5000 [00:00<?, ?it/s]"
            ]
          },
          "metadata": {},
          "output_type": "display_data"
        },
        {
          "data": {
            "application/vnd.jupyter.widget-view+json": {
              "model_id": "063daa2ddf244018b6fc9fe4696b489b",
              "version_major": 2,
              "version_minor": 0
            },
            "text/plain": [
              "Pandas Apply:   0%|          | 0/5000 [00:00<?, ?it/s]"
            ]
          },
          "metadata": {},
          "output_type": "display_data"
        },
        {
          "data": {
            "application/vnd.jupyter.widget-view+json": {
              "model_id": "3ad95f061a284e11828dc75861fffc8e",
              "version_major": 2,
              "version_minor": 0
            },
            "text/plain": [
              "Pandas Apply:   0%|          | 0/5000 [00:00<?, ?it/s]"
            ]
          },
          "metadata": {},
          "output_type": "display_data"
        },
        {
          "name": "stdout",
          "output_type": "stream",
          "text": [
            "2024-05-25 21:15:32.841585 \tNúmero de processos: 1094 \t Data do último processo adicionado: 2020-06-09T12:30:22.000Z\n"
          ]
        },
        {
          "data": {
            "application/vnd.jupyter.widget-view+json": {
              "model_id": "b129527ee67f44e5a96f3c66282f3833",
              "version_major": 2,
              "version_minor": 0
            },
            "text/plain": [
              "Pandas Apply:   0%|          | 0/5000 [00:00<?, ?it/s]"
            ]
          },
          "metadata": {},
          "output_type": "display_data"
        },
        {
          "data": {
            "application/vnd.jupyter.widget-view+json": {
              "model_id": "19e47252965a4d02b34275c9696960d5",
              "version_major": 2,
              "version_minor": 0
            },
            "text/plain": [
              "Pandas Apply:   0%|          | 0/5000 [00:00<?, ?it/s]"
            ]
          },
          "metadata": {},
          "output_type": "display_data"
        },
        {
          "data": {
            "application/vnd.jupyter.widget-view+json": {
              "model_id": "7c70ee034d80487c86b9631048058abd",
              "version_major": 2,
              "version_minor": 0
            },
            "text/plain": [
              "Pandas Apply:   0%|          | 0/5000 [00:00<?, ?it/s]"
            ]
          },
          "metadata": {},
          "output_type": "display_data"
        },
        {
          "data": {
            "application/vnd.jupyter.widget-view+json": {
              "model_id": "2349cad0b6724b4cbcb4691fb63f0889",
              "version_major": 2,
              "version_minor": 0
            },
            "text/plain": [
              "Pandas Apply:   0%|          | 0/5000 [00:00<?, ?it/s]"
            ]
          },
          "metadata": {},
          "output_type": "display_data"
        },
        {
          "name": "stdout",
          "output_type": "stream",
          "text": [
            "2024-05-25 21:17:25.172187 \tNúmero de processos: 1395 \t Data do último processo adicionado: 2022-01-11T15:55:32.000Z\n"
          ]
        },
        {
          "data": {
            "application/vnd.jupyter.widget-view+json": {
              "model_id": "1b1116de64154a899a3e4b5b22fd5618",
              "version_major": 2,
              "version_minor": 0
            },
            "text/plain": [
              "Pandas Apply:   0%|          | 0/5000 [00:00<?, ?it/s]"
            ]
          },
          "metadata": {},
          "output_type": "display_data"
        },
        {
          "data": {
            "application/vnd.jupyter.widget-view+json": {
              "model_id": "950c3556069f4dd88167f96c491dab0c",
              "version_major": 2,
              "version_minor": 0
            },
            "text/plain": [
              "Pandas Apply:   0%|          | 0/5000 [00:00<?, ?it/s]"
            ]
          },
          "metadata": {},
          "output_type": "display_data"
        },
        {
          "data": {
            "application/vnd.jupyter.widget-view+json": {
              "model_id": "a1e769c55be14adf884d923c722c65e6",
              "version_major": 2,
              "version_minor": 0
            },
            "text/plain": [
              "Pandas Apply:   0%|          | 0/5000 [00:00<?, ?it/s]"
            ]
          },
          "metadata": {},
          "output_type": "display_data"
        },
        {
          "data": {
            "application/vnd.jupyter.widget-view+json": {
              "model_id": "5df583f7ba1f42c795f9d20e8263d059",
              "version_major": 2,
              "version_minor": 0
            },
            "text/plain": [
              "Pandas Apply:   0%|          | 0/5000 [00:00<?, ?it/s]"
            ]
          },
          "metadata": {},
          "output_type": "display_data"
        },
        {
          "name": "stdout",
          "output_type": "stream",
          "text": [
            "2024-05-25 21:19:03.225530 \tNúmero de processos: 1563 \t Data do último processo adicionado: 2021-04-22T22:54:16.000Z\n"
          ]
        },
        {
          "data": {
            "application/vnd.jupyter.widget-view+json": {
              "model_id": "d1202bb0bab045f28a4639bd99b3721b",
              "version_major": 2,
              "version_minor": 0
            },
            "text/plain": [
              "Pandas Apply:   0%|          | 0/5000 [00:00<?, ?it/s]"
            ]
          },
          "metadata": {},
          "output_type": "display_data"
        },
        {
          "data": {
            "application/vnd.jupyter.widget-view+json": {
              "model_id": "869f5cafdb654e4e9f84c6dff6d4b832",
              "version_major": 2,
              "version_minor": 0
            },
            "text/plain": [
              "Pandas Apply:   0%|          | 0/5000 [00:00<?, ?it/s]"
            ]
          },
          "metadata": {},
          "output_type": "display_data"
        },
        {
          "data": {
            "application/vnd.jupyter.widget-view+json": {
              "model_id": "d41434cd893e453ab0a3e338933cbffb",
              "version_major": 2,
              "version_minor": 0
            },
            "text/plain": [
              "Pandas Apply:   0%|          | 0/5000 [00:00<?, ?it/s]"
            ]
          },
          "metadata": {},
          "output_type": "display_data"
        },
        {
          "data": {
            "application/vnd.jupyter.widget-view+json": {
              "model_id": "0c29c96551b441daad6d7a0a85787c52",
              "version_major": 2,
              "version_minor": 0
            },
            "text/plain": [
              "Pandas Apply:   0%|          | 0/5000 [00:00<?, ?it/s]"
            ]
          },
          "metadata": {},
          "output_type": "display_data"
        },
        {
          "name": "stdout",
          "output_type": "stream",
          "text": [
            "2024-05-25 21:20:38.326949 \tNúmero de processos: 1751 \t Data do último processo adicionado: 2021-07-29T22:22:03.000Z\n"
          ]
        },
        {
          "data": {
            "application/vnd.jupyter.widget-view+json": {
              "model_id": "0574464f1239479f889dabf6b3846d6f",
              "version_major": 2,
              "version_minor": 0
            },
            "text/plain": [
              "Pandas Apply:   0%|          | 0/5000 [00:00<?, ?it/s]"
            ]
          },
          "metadata": {},
          "output_type": "display_data"
        },
        {
          "data": {
            "application/vnd.jupyter.widget-view+json": {
              "model_id": "b9daeb3beac34166aea4387903abace7",
              "version_major": 2,
              "version_minor": 0
            },
            "text/plain": [
              "Pandas Apply:   0%|          | 0/5000 [00:00<?, ?it/s]"
            ]
          },
          "metadata": {},
          "output_type": "display_data"
        },
        {
          "data": {
            "application/vnd.jupyter.widget-view+json": {
              "model_id": "9465346d928b457286f0edca31d70b2a",
              "version_major": 2,
              "version_minor": 0
            },
            "text/plain": [
              "Pandas Apply:   0%|          | 0/5000 [00:00<?, ?it/s]"
            ]
          },
          "metadata": {},
          "output_type": "display_data"
        },
        {
          "data": {
            "application/vnd.jupyter.widget-view+json": {
              "model_id": "36a1f4e1cd9e4e7dbebc02d42cb353e2",
              "version_major": 2,
              "version_minor": 0
            },
            "text/plain": [
              "Pandas Apply:   0%|          | 0/5000 [00:00<?, ?it/s]"
            ]
          },
          "metadata": {},
          "output_type": "display_data"
        },
        {
          "name": "stdout",
          "output_type": "stream",
          "text": [
            "2024-05-25 21:22:18.711728 \tNúmero de processos: 1949 \t Data do último processo adicionado: 2020-03-06T11:54:23.000Z\n"
          ]
        },
        {
          "data": {
            "application/vnd.jupyter.widget-view+json": {
              "model_id": "f4e353f5a2f54c1580107b81520f9abf",
              "version_major": 2,
              "version_minor": 0
            },
            "text/plain": [
              "Pandas Apply:   0%|          | 0/5000 [00:00<?, ?it/s]"
            ]
          },
          "metadata": {},
          "output_type": "display_data"
        },
        {
          "data": {
            "application/vnd.jupyter.widget-view+json": {
              "model_id": "f2f16c66959148e2ae4f4540548eebbc",
              "version_major": 2,
              "version_minor": 0
            },
            "text/plain": [
              "Pandas Apply:   0%|          | 0/5000 [00:00<?, ?it/s]"
            ]
          },
          "metadata": {},
          "output_type": "display_data"
        },
        {
          "data": {
            "application/vnd.jupyter.widget-view+json": {
              "model_id": "5f51d09edddb422eb610105ebb89332d",
              "version_major": 2,
              "version_minor": 0
            },
            "text/plain": [
              "Pandas Apply:   0%|          | 0/5000 [00:00<?, ?it/s]"
            ]
          },
          "metadata": {},
          "output_type": "display_data"
        },
        {
          "data": {
            "application/vnd.jupyter.widget-view+json": {
              "model_id": "b8367160357f4b0d94c62360017df521",
              "version_major": 2,
              "version_minor": 0
            },
            "text/plain": [
              "Pandas Apply:   0%|          | 0/5000 [00:00<?, ?it/s]"
            ]
          },
          "metadata": {},
          "output_type": "display_data"
        },
        {
          "name": "stdout",
          "output_type": "stream",
          "text": [
            "2024-05-25 21:24:08.925490 \tNúmero de processos: 2172 \t Data do último processo adicionado: 2022-12-14T16:25:23.000Z\n"
          ]
        },
        {
          "data": {
            "application/vnd.jupyter.widget-view+json": {
              "model_id": "7dd4ba46664249c6a2a4df385b1f4fd0",
              "version_major": 2,
              "version_minor": 0
            },
            "text/plain": [
              "Pandas Apply:   0%|          | 0/5000 [00:00<?, ?it/s]"
            ]
          },
          "metadata": {},
          "output_type": "display_data"
        },
        {
          "data": {
            "application/vnd.jupyter.widget-view+json": {
              "model_id": "89489c48edf149fbbfe9869129f45c52",
              "version_major": 2,
              "version_minor": 0
            },
            "text/plain": [
              "Pandas Apply:   0%|          | 0/5000 [00:00<?, ?it/s]"
            ]
          },
          "metadata": {},
          "output_type": "display_data"
        },
        {
          "data": {
            "application/vnd.jupyter.widget-view+json": {
              "model_id": "997291d5848d49138c0d5b1da635016b",
              "version_major": 2,
              "version_minor": 0
            },
            "text/plain": [
              "Pandas Apply:   0%|          | 0/5000 [00:00<?, ?it/s]"
            ]
          },
          "metadata": {},
          "output_type": "display_data"
        },
        {
          "data": {
            "application/vnd.jupyter.widget-view+json": {
              "model_id": "1ce24d7a5f244ab9918fdeabd5623a26",
              "version_major": 2,
              "version_minor": 0
            },
            "text/plain": [
              "Pandas Apply:   0%|          | 0/5000 [00:00<?, ?it/s]"
            ]
          },
          "metadata": {},
          "output_type": "display_data"
        },
        {
          "name": "stdout",
          "output_type": "stream",
          "text": [
            "2024-05-25 21:25:58.161528 \tNúmero de processos: 2451 \t Data do último processo adicionado: 2022-12-05T12:41:47.000Z\n"
          ]
        },
        {
          "data": {
            "application/vnd.jupyter.widget-view+json": {
              "model_id": "238e7bbf00cf407895b3dd96ac14b716",
              "version_major": 2,
              "version_minor": 0
            },
            "text/plain": [
              "Pandas Apply:   0%|          | 0/5000 [00:00<?, ?it/s]"
            ]
          },
          "metadata": {},
          "output_type": "display_data"
        },
        {
          "data": {
            "application/vnd.jupyter.widget-view+json": {
              "model_id": "2ede50e30aca423e87d8261bad6ed279",
              "version_major": 2,
              "version_minor": 0
            },
            "text/plain": [
              "Pandas Apply:   0%|          | 0/5000 [00:00<?, ?it/s]"
            ]
          },
          "metadata": {},
          "output_type": "display_data"
        },
        {
          "data": {
            "application/vnd.jupyter.widget-view+json": {
              "model_id": "e518977ee0534a06bb22eadec6bce137",
              "version_major": 2,
              "version_minor": 0
            },
            "text/plain": [
              "Pandas Apply:   0%|          | 0/5000 [00:00<?, ?it/s]"
            ]
          },
          "metadata": {},
          "output_type": "display_data"
        },
        {
          "data": {
            "application/vnd.jupyter.widget-view+json": {
              "model_id": "6df4d1e6bf724c23a9f002baa0bb86b7",
              "version_major": 2,
              "version_minor": 0
            },
            "text/plain": [
              "Pandas Apply:   0%|          | 0/5000 [00:00<?, ?it/s]"
            ]
          },
          "metadata": {},
          "output_type": "display_data"
        },
        {
          "name": "stdout",
          "output_type": "stream",
          "text": [
            "2024-05-25 21:27:45.005660 \tNúmero de processos: 2689 \t Data do último processo adicionado: 2019-10-03T17:02:42.000Z\n"
          ]
        },
        {
          "data": {
            "application/vnd.jupyter.widget-view+json": {
              "model_id": "2d4f05c7a3394ad2a1914ab9fc1b9aca",
              "version_major": 2,
              "version_minor": 0
            },
            "text/plain": [
              "Pandas Apply:   0%|          | 0/5000 [00:00<?, ?it/s]"
            ]
          },
          "metadata": {},
          "output_type": "display_data"
        },
        {
          "data": {
            "application/vnd.jupyter.widget-view+json": {
              "model_id": "c43c0355f54f4f7a89d74a2aa96d22c1",
              "version_major": 2,
              "version_minor": 0
            },
            "text/plain": [
              "Pandas Apply:   0%|          | 0/5000 [00:00<?, ?it/s]"
            ]
          },
          "metadata": {},
          "output_type": "display_data"
        },
        {
          "data": {
            "application/vnd.jupyter.widget-view+json": {
              "model_id": "ad12d9a67d1148ecbf137ffd6fe7d822",
              "version_major": 2,
              "version_minor": 0
            },
            "text/plain": [
              "Pandas Apply:   0%|          | 0/5000 [00:00<?, ?it/s]"
            ]
          },
          "metadata": {},
          "output_type": "display_data"
        },
        {
          "data": {
            "application/vnd.jupyter.widget-view+json": {
              "model_id": "82c6152c8f334835b039dafa11d10126",
              "version_major": 2,
              "version_minor": 0
            },
            "text/plain": [
              "Pandas Apply:   0%|          | 0/5000 [00:00<?, ?it/s]"
            ]
          },
          "metadata": {},
          "output_type": "display_data"
        },
        {
          "name": "stdout",
          "output_type": "stream",
          "text": [
            "2024-05-25 21:29:22.845400 \tNúmero de processos: 2898 \t Data do último processo adicionado: 2020-06-26T15:14:13.000Z\n"
          ]
        },
        {
          "data": {
            "application/vnd.jupyter.widget-view+json": {
              "model_id": "5295de7367e140a4a4a0ac8c28f45529",
              "version_major": 2,
              "version_minor": 0
            },
            "text/plain": [
              "Pandas Apply:   0%|          | 0/5000 [00:00<?, ?it/s]"
            ]
          },
          "metadata": {},
          "output_type": "display_data"
        },
        {
          "data": {
            "application/vnd.jupyter.widget-view+json": {
              "model_id": "06b6da803d204d35afdfd711fbc17c12",
              "version_major": 2,
              "version_minor": 0
            },
            "text/plain": [
              "Pandas Apply:   0%|          | 0/5000 [00:00<?, ?it/s]"
            ]
          },
          "metadata": {},
          "output_type": "display_data"
        },
        {
          "data": {
            "application/vnd.jupyter.widget-view+json": {
              "model_id": "375b3b63266a4658b4692f4a283d2881",
              "version_major": 2,
              "version_minor": 0
            },
            "text/plain": [
              "Pandas Apply:   0%|          | 0/5000 [00:00<?, ?it/s]"
            ]
          },
          "metadata": {},
          "output_type": "display_data"
        },
        {
          "data": {
            "application/vnd.jupyter.widget-view+json": {
              "model_id": "c4497216651c4e6ca09cda95eab3f1d4",
              "version_major": 2,
              "version_minor": 0
            },
            "text/plain": [
              "Pandas Apply:   0%|          | 0/5000 [00:00<?, ?it/s]"
            ]
          },
          "metadata": {},
          "output_type": "display_data"
        },
        {
          "name": "stdout",
          "output_type": "stream",
          "text": [
            "2024-05-25 21:31:11.248126 \tNúmero de processos: 3153 \t Data do último processo adicionado: 2022-03-21T15:00:05.000Z\n"
          ]
        },
        {
          "data": {
            "application/vnd.jupyter.widget-view+json": {
              "model_id": "4fec04287fb94dc7b80d6e7a59ed417c",
              "version_major": 2,
              "version_minor": 0
            },
            "text/plain": [
              "Pandas Apply:   0%|          | 0/5000 [00:00<?, ?it/s]"
            ]
          },
          "metadata": {},
          "output_type": "display_data"
        },
        {
          "data": {
            "application/vnd.jupyter.widget-view+json": {
              "model_id": "9cc6e8c691504129a376a4e6f2181d30",
              "version_major": 2,
              "version_minor": 0
            },
            "text/plain": [
              "Pandas Apply:   0%|          | 0/5000 [00:00<?, ?it/s]"
            ]
          },
          "metadata": {},
          "output_type": "display_data"
        },
        {
          "data": {
            "application/vnd.jupyter.widget-view+json": {
              "model_id": "1db555c5c56e414aa8244b3d42569bb5",
              "version_major": 2,
              "version_minor": 0
            },
            "text/plain": [
              "Pandas Apply:   0%|          | 0/5000 [00:00<?, ?it/s]"
            ]
          },
          "metadata": {},
          "output_type": "display_data"
        },
        {
          "data": {
            "application/vnd.jupyter.widget-view+json": {
              "model_id": "7b575ad6e85b4a35af5c4634ef31fed3",
              "version_major": 2,
              "version_minor": 0
            },
            "text/plain": [
              "Pandas Apply:   0%|          | 0/5000 [00:00<?, ?it/s]"
            ]
          },
          "metadata": {},
          "output_type": "display_data"
        },
        {
          "name": "stdout",
          "output_type": "stream",
          "text": [
            "2024-05-25 21:32:41.147147 \tNúmero de processos: 3194 \t Data do último processo adicionado: 2018-11-01T10:50:26.000Z\n"
          ]
        },
        {
          "data": {
            "application/vnd.jupyter.widget-view+json": {
              "model_id": "0420129b86e5435aa29fcf1c4ef2b75a",
              "version_major": 2,
              "version_minor": 0
            },
            "text/plain": [
              "Pandas Apply:   0%|          | 0/5000 [00:00<?, ?it/s]"
            ]
          },
          "metadata": {},
          "output_type": "display_data"
        },
        {
          "data": {
            "application/vnd.jupyter.widget-view+json": {
              "model_id": "c3b1458b92db49e49935d0400dfb06ec",
              "version_major": 2,
              "version_minor": 0
            },
            "text/plain": [
              "Pandas Apply:   0%|          | 0/5000 [00:00<?, ?it/s]"
            ]
          },
          "metadata": {},
          "output_type": "display_data"
        },
        {
          "data": {
            "application/vnd.jupyter.widget-view+json": {
              "model_id": "816b207879594ad7aa9c67664bbaf42d",
              "version_major": 2,
              "version_minor": 0
            },
            "text/plain": [
              "Pandas Apply:   0%|          | 0/5000 [00:00<?, ?it/s]"
            ]
          },
          "metadata": {},
          "output_type": "display_data"
        },
        {
          "data": {
            "application/vnd.jupyter.widget-view+json": {
              "model_id": "b1007755676248159abfcb13c89c5cd7",
              "version_major": 2,
              "version_minor": 0
            },
            "text/plain": [
              "Pandas Apply:   0%|          | 0/5000 [00:00<?, ?it/s]"
            ]
          },
          "metadata": {},
          "output_type": "display_data"
        },
        {
          "data": {
            "application/vnd.jupyter.widget-view+json": {
              "model_id": "559ad254b46944219930de4465bf2084",
              "version_major": 2,
              "version_minor": 0
            },
            "text/plain": [
              "Pandas Apply:   0%|          | 0/5000 [00:00<?, ?it/s]"
            ]
          },
          "metadata": {},
          "output_type": "display_data"
        },
        {
          "name": "stdout",
          "output_type": "stream",
          "text": [
            "2024-05-25 21:34:18.452919 \tNúmero de processos: 3194 \t Data do último processo adicionado: 2020-10-16T10:17:53.000Z\n"
          ]
        },
        {
          "data": {
            "application/vnd.jupyter.widget-view+json": {
              "model_id": "1e844d5579204a26a52d2c9cf49f3513",
              "version_major": 2,
              "version_minor": 0
            },
            "text/plain": [
              "Pandas Apply:   0%|          | 0/5000 [00:00<?, ?it/s]"
            ]
          },
          "metadata": {},
          "output_type": "display_data"
        },
        {
          "data": {
            "application/vnd.jupyter.widget-view+json": {
              "model_id": "2be8e1d61eee439ca5beb2b882db8e00",
              "version_major": 2,
              "version_minor": 0
            },
            "text/plain": [
              "Pandas Apply:   0%|          | 0/5000 [00:00<?, ?it/s]"
            ]
          },
          "metadata": {},
          "output_type": "display_data"
        },
        {
          "data": {
            "application/vnd.jupyter.widget-view+json": {
              "model_id": "5386d621f08e4258a4e24642990b8646",
              "version_major": 2,
              "version_minor": 0
            },
            "text/plain": [
              "Pandas Apply:   0%|          | 0/5000 [00:00<?, ?it/s]"
            ]
          },
          "metadata": {},
          "output_type": "display_data"
        },
        {
          "data": {
            "application/vnd.jupyter.widget-view+json": {
              "model_id": "19f47a5733794749922238ecde2f7708",
              "version_major": 2,
              "version_minor": 0
            },
            "text/plain": [
              "Pandas Apply:   0%|          | 0/5000 [00:00<?, ?it/s]"
            ]
          },
          "metadata": {},
          "output_type": "display_data"
        },
        {
          "name": "stdout",
          "output_type": "stream",
          "text": [
            "2024-05-25 21:36:41.974883 \tNúmero de processos: 3555 \t Data do último processo adicionado: 2020-08-16T11:42:58.000Z\n"
          ]
        },
        {
          "data": {
            "application/vnd.jupyter.widget-view+json": {
              "model_id": "96229bf4d202452ab4fa29697b61570b",
              "version_major": 2,
              "version_minor": 0
            },
            "text/plain": [
              "Pandas Apply:   0%|          | 0/5000 [00:00<?, ?it/s]"
            ]
          },
          "metadata": {},
          "output_type": "display_data"
        },
        {
          "data": {
            "application/vnd.jupyter.widget-view+json": {
              "model_id": "2e9d4300cbce48c483825bc2980bdde9",
              "version_major": 2,
              "version_minor": 0
            },
            "text/plain": [
              "Pandas Apply:   0%|          | 0/5000 [00:00<?, ?it/s]"
            ]
          },
          "metadata": {},
          "output_type": "display_data"
        },
        {
          "data": {
            "application/vnd.jupyter.widget-view+json": {
              "model_id": "3b05cd6809224d2cb01c5aaaa67b43c0",
              "version_major": 2,
              "version_minor": 0
            },
            "text/plain": [
              "Pandas Apply:   0%|          | 0/5000 [00:00<?, ?it/s]"
            ]
          },
          "metadata": {},
          "output_type": "display_data"
        },
        {
          "data": {
            "application/vnd.jupyter.widget-view+json": {
              "model_id": "46c8714207fa4e97aa37cdcff67ab806",
              "version_major": 2,
              "version_minor": 0
            },
            "text/plain": [
              "Pandas Apply:   0%|          | 0/5000 [00:00<?, ?it/s]"
            ]
          },
          "metadata": {},
          "output_type": "display_data"
        },
        {
          "name": "stdout",
          "output_type": "stream",
          "text": [
            "2024-05-25 21:39:09.959221 \tNúmero de processos: 3954 \t Data do último processo adicionado: 2019-07-18T01:09:19.000Z\n"
          ]
        },
        {
          "data": {
            "application/vnd.jupyter.widget-view+json": {
              "model_id": "95f76a4556a6478186b8560b856dcbb1",
              "version_major": 2,
              "version_minor": 0
            },
            "text/plain": [
              "Pandas Apply:   0%|          | 0/5000 [00:00<?, ?it/s]"
            ]
          },
          "metadata": {},
          "output_type": "display_data"
        },
        {
          "data": {
            "application/vnd.jupyter.widget-view+json": {
              "model_id": "3a6482d5116646178e9e917d7def2ff0",
              "version_major": 2,
              "version_minor": 0
            },
            "text/plain": [
              "Pandas Apply:   0%|          | 0/5000 [00:00<?, ?it/s]"
            ]
          },
          "metadata": {},
          "output_type": "display_data"
        },
        {
          "data": {
            "application/vnd.jupyter.widget-view+json": {
              "model_id": "2ec862be9504499eb72033ccc02ce0e2",
              "version_major": 2,
              "version_minor": 0
            },
            "text/plain": [
              "Pandas Apply:   0%|          | 0/5000 [00:00<?, ?it/s]"
            ]
          },
          "metadata": {},
          "output_type": "display_data"
        },
        {
          "data": {
            "application/vnd.jupyter.widget-view+json": {
              "model_id": "6440e6977b1547768e27f1ce9676fc90",
              "version_major": 2,
              "version_minor": 0
            },
            "text/plain": [
              "Pandas Apply:   0%|          | 0/5000 [00:00<?, ?it/s]"
            ]
          },
          "metadata": {},
          "output_type": "display_data"
        },
        {
          "name": "stdout",
          "output_type": "stream",
          "text": [
            "2024-05-25 21:41:38.632144 \tNúmero de processos: 4245 \t Data do último processo adicionado: 2020-03-10T20:59:06.000Z\n"
          ]
        },
        {
          "data": {
            "application/vnd.jupyter.widget-view+json": {
              "model_id": "4d8dc736c8ff4f73a24590d9ea22f4a9",
              "version_major": 2,
              "version_minor": 0
            },
            "text/plain": [
              "Pandas Apply:   0%|          | 0/5000 [00:00<?, ?it/s]"
            ]
          },
          "metadata": {},
          "output_type": "display_data"
        },
        {
          "data": {
            "application/vnd.jupyter.widget-view+json": {
              "model_id": "20240f0aa77b45dabf5c30220beb2204",
              "version_major": 2,
              "version_minor": 0
            },
            "text/plain": [
              "Pandas Apply:   0%|          | 0/5000 [00:00<?, ?it/s]"
            ]
          },
          "metadata": {},
          "output_type": "display_data"
        },
        {
          "data": {
            "application/vnd.jupyter.widget-view+json": {
              "model_id": "87aa7b4d766f4645b8416e16a49e7242",
              "version_major": 2,
              "version_minor": 0
            },
            "text/plain": [
              "Pandas Apply:   0%|          | 0/5000 [00:00<?, ?it/s]"
            ]
          },
          "metadata": {},
          "output_type": "display_data"
        },
        {
          "data": {
            "application/vnd.jupyter.widget-view+json": {
              "model_id": "29cbd05168d94904b628a1d86df59b84",
              "version_major": 2,
              "version_minor": 0
            },
            "text/plain": [
              "Pandas Apply:   0%|          | 0/5000 [00:00<?, ?it/s]"
            ]
          },
          "metadata": {},
          "output_type": "display_data"
        },
        {
          "name": "stdout",
          "output_type": "stream",
          "text": [
            "2024-05-25 21:44:02.420308 \tNúmero de processos: 4501 \t Data do último processo adicionado: 2020-07-13T08:54:45.000Z\n"
          ]
        },
        {
          "data": {
            "application/vnd.jupyter.widget-view+json": {
              "model_id": "fb00445551e74197a21180cc183d9e04",
              "version_major": 2,
              "version_minor": 0
            },
            "text/plain": [
              "Pandas Apply:   0%|          | 0/5000 [00:00<?, ?it/s]"
            ]
          },
          "metadata": {},
          "output_type": "display_data"
        }
      ],
      "source": [
        "lista_orgaos = ['1º JUIZADO ESPECIAL DA FAZENDA PÚBLICA', '2º JUIZADO ESPECIAL DA FAZENDA PÚBLICA', '3º JUIZADO ESPECIAL DA FAZENDA PÚBLICA', \n",
        "                '4º JUIZADO ESPECIAL DA FAZENDA PÚBLICA', '5º JUIZADO ESPECIAL DA FAZENDA PÚBLICA']\n",
        "orgao = '4º JUIZADO ESPECIAL DA FAZENDA PÚBLICA'\n",
        "grau = 'JE'\n",
        "data = '2018-01-01'\n",
        "for orgao in lista_orgaos:\n",
        "    df = criar_dataset(orgao, grau, data)\n",
        "    df.reset_index(drop=True, inplace=True)\n",
        "    salvar_dataset(df, orgao, grau, data)"
      ]
    },
    {
      "cell_type": "code",
      "execution_count": null,
      "metadata": {
        "colab": {
          "base_uri": "https://localhost:8080/",
          "height": 362
        },
        "id": "sWOhEVNxGD5Q",
        "outputId": "05c3c3b5-92d7-4a8e-89f0-1f055e491211"
      },
      "outputs": [],
      "source": [
        "df.sample(2)"
      ]
    },
    {
      "cell_type": "code",
      "execution_count": null,
      "metadata": {
        "colab": {
          "base_uri": "https://localhost:8080/"
        },
        "id": "oikHltKLyjX0",
        "outputId": "3eb7cf67-b513-42ce-be88-783f27008d72"
      },
      "outputs": [],
      "source": [
        "print(df['orgao_julgador'].unique())"
      ]
    }
  ],
  "metadata": {
    "colab": {
      "provenance": []
    },
    "kernelspec": {
      "display_name": "env",
      "language": "python",
      "name": "python3"
    },
    "language_info": {
      "codemirror_mode": {
        "name": "ipython",
        "version": 3
      },
      "file_extension": ".py",
      "mimetype": "text/x-python",
      "name": "python",
      "nbconvert_exporter": "python",
      "pygments_lexer": "ipython3",
      "version": "3.10.6"
    }
  },
  "nbformat": 4,
  "nbformat_minor": 0
}
