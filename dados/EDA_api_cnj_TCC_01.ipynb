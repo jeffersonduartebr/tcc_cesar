{
  "cells": [
    {
      "cell_type": "code",
      "execution_count": null,
      "metadata": {
        "id": "wwDWkrHvGD5N"
      },
      "outputs": [],
      "source": [
        "import pandas as pd\n",
        "import requests\n",
        "import json\n",
        "import datetime\n",
        "import concurrent.futures\n",
        "import swifter"
      ]
    },
    {
      "cell_type": "code",
      "execution_count": null,
      "metadata": {
        "id": "zgfVV605bUpu"
      },
      "outputs": [],
      "source": [
        "pd.set_option('display.max_columns', None)  # or 1000\n",
        "pd.set_option('display.max_rows', None)  # or 1000\n",
        "pd.set_option('display.max_colwidth', None)  # or 199"
      ]
    },
    {
      "cell_type": "code",
      "execution_count": null,
      "metadata": {
        "id": "fCRLqGiKGD5Q"
      },
      "outputs": [],
      "source": [
        "processos = []\n",
        "\n",
        "def lista_para_dataframe(dados_dict):\n",
        "  for processo in dados_dict['hits']['hits']:\n",
        "    numero_processo = processo['_source']['numeroProcesso']\n",
        "    grau = processo['_source']['grau']\n",
        "    classe = processo['_source']['classe']['nome']\n",
        "    try:\n",
        "      assuntos = processo['_source']['assuntos'] # Pode ter mais de um\n",
        "    except:\n",
        "      assuntos = []\n",
        "    data_ajuizamento = processo['_source']['dataAjuizamento']\n",
        "    ultima_atualizacao = processo['_source']['dataHoraUltimaAtualizacao']\n",
        "    #formato = processo['_source']['formato']['nome']\n",
        "    codigo = processo['_source']['orgaoJulgador']['codigo']\n",
        "    orgao_julgador = processo['_source']['orgaoJulgador']['nome']\n",
        "    municipio = processo['_source']['orgaoJulgador']['codigoMunicipioIBGE']\n",
        "    sort = processo['sort'][0]\n",
        "    try:\n",
        "      movimentos = processo['_source']['movimentos']\n",
        "    except:\n",
        "      movimentos = []\n",
        "\n",
        "    processos.append([numero_processo, classe, data_ajuizamento, ultima_atualizacao, \\\n",
        "                      codigo, orgao_julgador, municipio, grau, assuntos, movimentos, sort])\n",
        "\n",
        "  df = pd.DataFrame(processos, columns=['numero_processo', 'classe', 'data_ajuizamento', 'ultima_atualizacao', \\\n",
        "                        'codigo', 'orgao_julgador', 'municipio', 'grau', 'assuntos', 'movimentos', 'sort'])\n",
        "  #ddf = dd.from_pandas(df)\n",
        "  #ddf.sample(frac=0.001)\n",
        "  df.sample(5)\n",
        "  return df"
      ]
    },
    {
      "cell_type": "code",
      "execution_count": null,
      "metadata": {
        "colab": {
          "base_uri": "https://localhost:8080/"
        },
        "id": "2L6SQFgbGD5O",
        "outputId": "b5955baf-6132-4b09-f181-3a68bc5ca34c"
      },
      "outputs": [],
      "source": [
        "df_tjrn = pd.DataFrame()\n",
        "url = \"https://api-publica.datajud.cnj.jus.br/api_publica_tjrn/_search\"\n",
        "api_key = \"APIKey cDZHYzlZa0JadVREZDJCendQbXY6SkJlTzNjLV9TRENyQk1RdnFKZGRQdw==\" # Chave pública\n",
        "tribunal = 'TJRN'\n",
        "grau = 'JE'\n",
        "orgaoJulgador = '4º JUIZADO ESPECIAL DA FAZENDA PÚBLICA'\n",
        "size = 1000\n",
        "data = \"2024-01-01\"\n",
        "\n",
        "payload = json.dumps(\n",
        "{\n",
        " \"size\": size,\n",
        " \"query\": {\n",
        "    \"bool\": {\n",
        "      \"must\": [\n",
        "          {\"match\": {\"tribunal\": tribunal}},\n",
        "          {\"match\": {\"orgaoJulgador.nome\": orgaoJulgador}},\n",
        "          {\"match\": {\"grau\": grau}},\n",
        "          {\"range\": {\"dataAjuizamento\": {\"gte\": data }}}\n",
        "      ]\n",
        "    }\n",
        "},\n",
        "  \"sort\": [{\"@timestamp\": {\"order\": \"asc\"}}]\n",
        "})\n",
        "\n",
        "headers = {\n",
        "  'Authorization': api_key,\n",
        "  'Content-Type': 'application/json'\n",
        "}\n",
        "\n",
        "response = requests.request(\"POST\", url, headers=headers, data=payload)  # <Response [200]>\n",
        "dados_dict = response.json() # <class 'dict'>\n",
        "df_tjrn = lista_para_dataframe(dados_dict)\n",
        "numero_processos = size\n",
        "\n",
        "while numero_processos == size:\n",
        "  numero_processos = len(dados_dict['hits']['hits'])\n",
        "  ultima_posicao_dicionario = dados_dict['hits']['hits'][(len(dados_dict['hits']['hits'])-1)]['sort'][0]\n",
        "  #print(f'Partindo da posição: {ultima_posicao_dicionario}')\n",
        "  payload = json.dumps(\n",
        "  {\n",
        "  \"size\": size,\n",
        "  \"query\": {\n",
        "      \"bool\": {\n",
        "        \"must\": [\n",
        "          {\"match\": {\"tribunal\": tribunal}},\n",
        "          {\"match\": {\"orgaoJulgador.nome\": orgaoJulgador}},\n",
        "          {\"match\": {\"grau\": grau}},\n",
        "          {\"range\": {\"dataAjuizamento\": {\"gte\": data}}}\n",
        "          \n",
        "        ]\n",
        "      }\n",
        "  },\n",
        "    \"search_after\": [ ultima_posicao_dicionario ],\n",
        "    \"sort\": [{\"@timestamp\": {\"order\": \"asc\"}}]\n",
        "  })\n",
        "\n",
        "  headers = {\n",
        "    'Authorization': api_key,\n",
        "    'Content-Type': 'application/json'\n",
        "  }\n",
        "\n",
        "  response = requests.request(\"POST\", url, headers=headers, data=payload)  # <Response [200]>\n",
        "  dados_dict = response.json() # <class 'dict'>\n",
        "  numero_processos = len(dados_dict['hits']['hits'])\n",
        "  ultima_posicao_dicionario = dados_dict['hits']['hits'][(len(dados_dict['hits']['hits'])-1)]['sort']\n",
        "  df_tjrn = pd.concat([df_tjrn, lista_para_dataframe(dados_dict)])\n",
        "  tamanho_dataset = len(df_tjrn.index)\n",
        "  #now = datetime.datetime.now()\n",
        "  ultima_data_ajuizamento = dados_dict['hits']['hits'][len(dados_dict['hits']['hits'])-1]['_source']['dataAjuizamento']\n",
        "  print(f'{datetime.datetime.now()} \\tNúmero de processos: {tamanho_dataset} \\t Data do último processo adicionado: {ultima_data_ajuizamento}' )\n",
        "  #if tamanho_dataset > 2000000:\n",
        "  #  break\n",
        "\n",
        "print(f'Número de processos incorporados: {tamanho_dataset}')"
      ]
    },
    {
      "cell_type": "code",
      "execution_count": null,
      "metadata": {
        "colab": {
          "base_uri": "https://localhost:8080/"
        },
        "id": "M23bblPIGD5P",
        "outputId": "96e0e22e-88c6-4c86-e205-1a5fea674e41"
      },
      "outputs": [],
      "source": [
        "# Descobrindo código e órgão julgador\n",
        "if len(dados_dict) > 1:\n",
        "  codigo = dados_dict['hits']['hits'][0]['_source']['orgaoJulgador']['codigo']\n",
        "  orgao_julgador = dados_dict['hits']['hits'][0]['_source']['orgaoJulgador']['nome']\n",
        "  data_ajuizamento = dados_dict['hits']['hits'][0]['_source']['dataAjuizamento']\n",
        "  dataHoraUltimaAtualizacao = dados_dict['hits']['hits'][0]['_source']['dataHoraUltimaAtualizacao']\n",
        "\n",
        "print (f'Código: {codigo} - Órgão julgador: {orgao_julgador} - Data de Ajuizamento: {data_ajuizamento} - Data da Última Atualização: {dataHoraUltimaAtualizacao}')"
      ]
    },
    {
      "cell_type": "code",
      "execution_count": null,
      "metadata": {
        "id": "AM9TiLtTGD5Q"
      },
      "outputs": [],
      "source": [
        "def converte_data(data_str):\n",
        "    return pd.to_datetime(data_str).tz_convert('America/Sao_Paulo')\n",
        "\n",
        "\n",
        "def gera_lista_assuntos(assuntos_do_df):\n",
        "    lst_assuntos=[]\n",
        "    for assunto in assuntos_do_df:\n",
        "        try:\n",
        "            lst_assuntos.append(assunto.get('nome'))\n",
        "        except:\n",
        "            lst_assuntos.append('')\n",
        "\n",
        "    return lst_assuntos\n",
        "\n",
        "\n",
        "def gera_lista_movimentos(movimentos):\n",
        "    lst_movimentos_final =[]\n",
        "    for movimento in movimentos:\n",
        "        codigo = movimento.get('codigo')\n",
        "        nome = movimento.get('nome')\n",
        "        data_hora = movimento.get('dataHora')\n",
        "        if data_hora:\n",
        "            data_hora = converte_data(data_hora)\n",
        "        lst_movimentos_final.append([ codigo, nome, data_hora])\n",
        "    return lst_movimentos_final\n",
        "\n",
        "def calcula_primeira_sentenca(movimentos):\n",
        "    lst_tempo_decorrido = []\n",
        "    for movimento in movimentos:\n",
        "        data_inicial = pd.datetime()\n",
        "        primeira_sentenca = 'False'\n",
        "        if movimento.get('codigo') == 26: # Distribuição\n",
        "            data_inicial = movimento.get('dataHora')\n",
        "        if movimento.get('codigo') == 193: # Julgamento\n",
        "            lst_tempo_decorrido.append(movimento.get('dataHora') - data_inicial)\n",
        "            \n",
        "    return lst_tempo_decorrido"
      ]
    },
    {
      "cell_type": "code",
      "execution_count": null,
      "metadata": {},
      "outputs": [],
      "source": [
        "def process_movimento(movimento):\n",
        "    codigo = movimento.get('codigo')\n",
        "    nome = movimento.get('nome')\n",
        "    data_hora = movimento.get('dataHora')\n",
        "    if data_hora:\n",
        "        data_hora = converte_data(data_hora)\n",
        "    return [codigo, nome, data_hora]\n",
        "\n",
        "def gera_lista_movimentos_multithread(movimentos):\n",
        "    lst_movimentos_final = []\n",
        "    with concurrent.futures.ThreadPoolExecutor() as executor:\n",
        "        results = list(executor.map(process_movimento, movimentos))\n",
        "        lst_movimentos_final.extend(results)\n",
        "    return lst_movimentos_final"
      ]
    },
    {
      "cell_type": "code",
      "execution_count": null,
      "metadata": {
        "id": "ohaOE0TK4S28"
      },
      "outputs": [],
      "source": [
        "df = df_tjrn\n",
        "df.reset_index(drop=True, inplace=True)"
      ]
    },
    {
      "cell_type": "code",
      "execution_count": null,
      "metadata": {
        "colab": {
          "base_uri": "https://localhost:8080/",
          "height": 362
        },
        "id": "sWOhEVNxGD5Q",
        "outputId": "05c3c3b5-92d7-4a8e-89f0-1f055e491211"
      },
      "outputs": [],
      "source": [
        "df['assuntos'] = df['assuntos'].swifter.apply(gera_lista_assuntos)\n",
        "df['movimentos'] = df['movimentos'].swifter.apply(gera_lista_movimentos_multithread)\n",
        "df['data_ajuizamento'] = df['data_ajuizamento'].swifter.apply(converte_data)\n",
        "df['ultima_atualizacao'] = df['ultima_atualizacao'].swifter.apply(converte_data)\n",
        "try:\n",
        "  df['movimentos']= df['movimentos'].swifter.apply(lambda x: sorted(x, key=lambda tup: tup[2], reverse=False))\n",
        "except:\n",
        "  pass\n",
        "df.sample(5)"
      ]
    },
    {
      "cell_type": "code",
      "execution_count": null,
      "metadata": {
        "id": "Bi0gCf2KjEs3"
      },
      "outputs": [],
      "source": [
        "nome_movimentacoes = list()\n",
        "codigo_movimentacoes = list()\n",
        "\n",
        "  \n",
        "for movimentacao in df['movimentos']:\n",
        "  for i in range(0,len(movimentacao)):\n",
        "    for j in range(0,len(movimentacao[i])):\n",
        "      #print(movimentacao[i][j])\n",
        "      if type(movimentacao[i][j]) == str:\n",
        "        if movimentacao[i][j] not in nome_movimentacoes:\n",
        "          nome_movimentacoes.append(movimentacao[i][j])\n",
        "      if type(movimentacao[i][j]) == int:\n",
        "        if movimentacao[i][j] not in codigo_movimentacoes:\n",
        "          codigo_movimentacoes.append(movimentacao[i][j])"
      ]
    },
    {
      "cell_type": "code",
      "execution_count": null,
      "metadata": {},
      "outputs": [],
      "source": [
        "print(df.head(5))"
      ]
    },
    {
      "cell_type": "code",
      "execution_count": null,
      "metadata": {
        "colab": {
          "base_uri": "https://localhost:8080/"
        },
        "id": "6yQ4Y9Mlo60y",
        "outputId": "b93893dc-a24c-4690-ce96-cd9391afc151"
      },
      "outputs": [],
      "source": [
        "print(len(nome_movimentacoes))\n",
        "print(len(codigo_movimentacoes))"
      ]
    },
    {
      "cell_type": "code",
      "execution_count": null,
      "metadata": {
        "colab": {
          "base_uri": "https://localhost:8080/"
        },
        "id": "bpI3VCC6pUE7",
        "outputId": "7fb6cf12-5da3-4a80-fdfb-1822c1cdb21d"
      },
      "outputs": [],
      "source": [
        "for mov in nome_movimentacoes:\n",
        "  print(mov)"
      ]
    },
    {
      "cell_type": "code",
      "execution_count": null,
      "metadata": {
        "colab": {
          "base_uri": "https://localhost:8080/"
        },
        "id": "oikHltKLyjX0",
        "outputId": "3eb7cf67-b513-42ce-be88-783f27008d72"
      },
      "outputs": [],
      "source": [
        "print(df['orgao_julgador'].unique())"
      ]
    },
    {
      "cell_type": "code",
      "execution_count": null,
      "metadata": {
        "id": "0uSzOgtXETMr"
      },
      "outputs": [],
      "source": [
        "#df.to_parquet('tjrn_je.parquet', compression='gzip')\n",
        "nome_df = tribunal + '_' + orgaoJulgador + '_' + data + '.csv'\n",
        "df.to_csv(nome_df, sep=';', header=True, index=False, compression='zip')"
      ]
    }
  ],
  "metadata": {
    "colab": {
      "provenance": []
    },
    "kernelspec": {
      "display_name": "env",
      "language": "python",
      "name": "python3"
    },
    "language_info": {
      "codemirror_mode": {
        "name": "ipython",
        "version": 3
      },
      "file_extension": ".py",
      "mimetype": "text/x-python",
      "name": "python",
      "nbconvert_exporter": "python",
      "pygments_lexer": "ipython3",
      "version": "3.10.6"
    }
  },
  "nbformat": 4,
  "nbformat_minor": 0
}
