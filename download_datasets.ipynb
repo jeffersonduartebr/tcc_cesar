{
  "cells": [
    {
      "cell_type": "code",
      "execution_count": 6,
      "metadata": {
        "id": "wwDWkrHvGD5N"
      },
      "outputs": [],
      "source": [
        "import pandas as pd\n",
        "import requests\n",
        "import json\n",
        "import datetime\n",
        "import concurrent.futures\n",
        "import swifter\n",
        "import os"
      ]
    },
    {
      "cell_type": "code",
      "execution_count": 7,
      "metadata": {
        "id": "zgfVV605bUpu"
      },
      "outputs": [],
      "source": [
        "pd.set_option('display.max_columns', None)  # or 1000\n",
        "pd.set_option('display.max_rows', None)  # or 1000\n",
        "pd.set_option('display.max_colwidth', None)  # or 199"
      ]
    },
    {
      "cell_type": "code",
      "execution_count": 8,
      "metadata": {},
      "outputs": [],
      "source": [
        "def converte_data(data_str):\n",
        "    return pd.to_datetime(data_str).tz_convert('America/Sao_Paulo')\n",
        "\n",
        "\n",
        "def gera_lista_assuntos(assuntos_do_df):\n",
        "    lst_assuntos=[]\n",
        "    for assunto in assuntos_do_df:\n",
        "        try:\n",
        "            lst_assuntos.append(assunto.get('nome'))\n",
        "        except:\n",
        "            lst_assuntos.append('')\n",
        "\n",
        "    return lst_assuntos\n",
        "\n",
        "\n",
        "def gera_lista_movimentos(movimentos):\n",
        "    lst_movimentos_final =[]\n",
        "    for movimento in movimentos:\n",
        "        codigo = movimento.get('codigo')\n",
        "        nome = movimento.get('nome')\n",
        "        data_hora = movimento.get('dataHora')\n",
        "        if data_hora:\n",
        "            data_hora = converte_data(data_hora)\n",
        "        lst_movimentos_final.append([ codigo, nome, data_hora])\n",
        "    return lst_movimentos_final\n",
        "\n",
        "def process_movimento(movimento):\n",
        "    codigo = movimento.get('codigo')\n",
        "    nome = movimento.get('nome')\n",
        "    data_hora = movimento.get('dataHora')\n",
        "    if data_hora:\n",
        "        data_hora = converte_data(data_hora)\n",
        "    return [codigo, nome, data_hora]\n",
        "\n",
        "def gera_lista_movimentos_multithread(movimentos):\n",
        "    lst_movimentos_final = []\n",
        "    with concurrent.futures.ThreadPoolExecutor() as executor:\n",
        "        results = list(executor.map(process_movimento, movimentos))\n",
        "        lst_movimentos_final.extend(results)\n",
        "    return lst_movimentos_final"
      ]
    },
    {
      "cell_type": "code",
      "execution_count": 9,
      "metadata": {
        "id": "fCRLqGiKGD5Q"
      },
      "outputs": [],
      "source": [
        "def lista_para_dataframe(dados_dict):\n",
        "  processos = []\n",
        "  for processo in dados_dict['hits']['hits']:\n",
        "    numero_processo = processo['_source']['numeroProcesso']\n",
        "    grau = processo['_source']['grau']\n",
        "    classe = processo['_source']['classe']['nome']\n",
        "    try:\n",
        "      assuntos = processo['_source']['assuntos'] # Pode ter mais de um\n",
        "    except:\n",
        "      assuntos = []\n",
        "    data_ajuizamento = processo['_source']['dataAjuizamento']\n",
        "    ultima_atualizacao = processo['_source']['dataHoraUltimaAtualizacao']\n",
        "    #formato = processo['_source']['formato']['nome']\n",
        "    codigo = processo['_source']['orgaoJulgador']['codigo']\n",
        "    orgao_julgador = processo['_source']['orgaoJulgador']['nome']\n",
        "    municipio = processo['_source']['orgaoJulgador']['codigoMunicipioIBGE']\n",
        "    sort = processo['sort'][0]\n",
        "    try:\n",
        "      movimentos = processo['_source']['movimentos']\n",
        "    except:\n",
        "      movimentos = []\n",
        "\n",
        "    processos.append([numero_processo, classe, data_ajuizamento, ultima_atualizacao, \\\n",
        "                      codigo, orgao_julgador, municipio, grau, assuntos, movimentos, sort])\n",
        "\n",
        "  df = pd.DataFrame(processos, columns=['numero_processo', 'classe', 'data_ajuizamento', 'ultima_atualizacao', \\\n",
        "                        'codigo', 'orgao_julgador', 'municipio', 'grau', 'assuntos', 'movimentos', 'sort'])\n",
        "  df['movimentos'] = df['movimentos'].swifter.apply(gera_lista_movimentos_multithread)\n",
        "  df['assuntos'] = df['assuntos'].swifter.apply(gera_lista_assuntos)\n",
        "  #df['movimentos'] = df['movimentos'].swifter.apply(gera_lista_movimentos_multithread)\n",
        "  df['data_ajuizamento'] = df['data_ajuizamento'].swifter.apply(converte_data)\n",
        "  df['ultima_atualizacao'] = df['ultima_atualizacao'].swifter.apply(converte_data)\n",
        "  try:\n",
        "    df['movimentos']= df['movimentos'].swifter.apply(lambda x: sorted(x, key=lambda tup: tup[2], reverse=False))\n",
        "  except:\n",
        "    pass\n",
        "  return df"
      ]
    },
    {
      "cell_type": "code",
      "execution_count": 10,
      "metadata": {
        "colab": {
          "base_uri": "https://localhost:8080/"
        },
        "id": "2L6SQFgbGD5O",
        "outputId": "b5955baf-6132-4b09-f181-3a68bc5ca34c"
      },
      "outputs": [],
      "source": [
        "def criar_dataset(codigo_orgao, data, tamanho_consulta):\n",
        "  \n",
        "  df_tjrn = pd.DataFrame()\n",
        "  url = \"https://api-publica.datajud.cnj.jus.br/api_publica_tjrn/_search\"\n",
        "  api_key = \"APIKey cDZHYzlZa0JadVREZDJCendQbXY6SkJlTzNjLV9TRENyQk1RdnFKZGRQdw==\" # Chave pública\n",
        "  tribunal = 'TJRN'\n",
        "  orgaoJulgador = codigo_orgao\n",
        "  size = tamanho_consulta\n",
        "  data = data\n",
        "\n",
        "  payload = json.dumps(\n",
        "  {\n",
        "  \"size\": tamanho_consulta,\n",
        "  \"query\": {\n",
        "      \"bool\": {\n",
        "        \"must\": [\n",
        "            {\"match\": {\"tribunal\": tribunal}},\n",
        "            {\"match\": {\"orgaoJulgador.codigo\": orgaoJulgador}},\n",
        "            {\"range\": {\"dataAjuizamento\": {\"gte\": data }}}\n",
        "        ]\n",
        "      }\n",
        "  },\n",
        "    \"sort\": [{\"@timestamp\": {\"order\": \"asc\"}}]\n",
        "  })\n",
        "\n",
        "  headers = {\n",
        "    'Authorization': api_key,\n",
        "    'Content-Type': 'application/json'\n",
        "  }\n",
        "\n",
        "  response = requests.request(\"POST\", url, headers=headers, data=payload)  # <Response [200]>\n",
        "  dados_dict = response.json() # <class 'dict'>\n",
        "  if len(dados_dict['hits']['hits']) < 5:\n",
        "    print(f'Parece que você digitou um código de Serventia errado. Confira novamente.')\n",
        "  df_tjrn = lista_para_dataframe(dados_dict)\n",
        "  numero_processos = size\n",
        "\n",
        "  while numero_processos == size:\n",
        "    numero_processos = len(dados_dict['hits']['hits'])\n",
        "    tamanho_dicionario_retornado = len(dados_dict['hits']['hits'])-1\n",
        "    if tamanho_dicionario_retornado < 1:\n",
        "      print(f'Tamanho do dicionário da página anterior: {tamanho_dicionario_retornado}')\n",
        "      continue\n",
        "    ultima_posicao_dicionario = dados_dict['hits']['hits'][(len(dados_dict['hits']['hits'])-1)]['sort'][0]\n",
        "    #print(f'Partindo da posição: {ultima_posicao_dicionario}')\n",
        "    payload = json.dumps(\n",
        "    {\n",
        "    \"size\": tamanho_consulta,\n",
        "    \"query\": {\n",
        "        \"bool\": {\n",
        "          \"must\": [\n",
        "            {\"match\": {\"tribunal\": tribunal}},\n",
        "            {\"match\": {\"orgaoJulgador.codigo\": orgaoJulgador}},\n",
        "            {\"range\": {\"dataAjuizamento\": {\"gte\": data}}}\n",
        "            \n",
        "          ]\n",
        "        }\n",
        "    },\n",
        "      \"search_after\": [ ultima_posicao_dicionario ],\n",
        "      \"sort\": [{\"@timestamp\": {\"order\": \"asc\"}}]\n",
        "    })\n",
        "\n",
        "    headers = {\n",
        "      'Authorization': api_key,\n",
        "      'Content-Type': 'application/json'\n",
        "    }\n",
        "\n",
        "    response = requests.request(\"POST\", url, headers=headers, data=payload)  # <Response [200]>\n",
        "    dados_dict = response.json() # <class 'dict'>\n",
        "    numero_processos = len(dados_dict['hits']['hits'])\n",
        "    ultima_posicao_dicionario = dados_dict['hits']['hits'][(len(dados_dict['hits']['hits'])-1)]['sort']\n",
        "    df_tjrn = pd.concat([df_tjrn, lista_para_dataframe(dados_dict)])\n",
        "    #print(df_tjrn.head(2))\n",
        "    df_tjrn = df_tjrn[df_tjrn['codigo'] == orgaoJulgador]\n",
        "    tamanho_dataset = len(df_tjrn.index)\n",
        "    ultima_data_ajuizamento = dados_dict['hits']['hits'][len(dados_dict['hits']['hits'])-1]['_source']['dataAjuizamento']\n",
        "    print(f'{datetime.datetime.now()}\\t Serventia: {orgaoJulgador}\\tNúmero de processos: {tamanho_dataset} \\t Data do último processo adicionado: {ultima_data_ajuizamento}' )\n",
        "    #if tamanho_dataset > 2000000:\n",
        "    #  break\n",
        "\n",
        "  try:\n",
        "    print(f'Número de processos incorporados: {tamanho_dataset} da Serventia: {orgaoJulgador}')\n",
        "  except:\n",
        "    print(f'Última página do dicionário veio vazia: {orgaoJulgador}')\n",
        "  #print(df_tjrn.head(1))\n",
        "  return df_tjrn"
      ]
    },
    {
      "cell_type": "code",
      "execution_count": 11,
      "metadata": {},
      "outputs": [],
      "source": [
        "def salvar_dataset(df, orgao, data):        \n",
        "    if not type(orgao) is str:\n",
        "        str(orgao)\n",
        "    orgao = orgao.replace(' ', '_')\n",
        "    nome_df = 'TJRN_' + orgao + '_' + data + '.csv'\n",
        "    nome_df = nome_df.replace(\" \", \"_\")\n",
        "    if os.path.isdir('./dados'):\n",
        "        os.chdir('dados')\n",
        "    df.to_csv(nome_df, sep=';', header=True, index=False, compression='zip')"
      ]
    },
    {
      "cell_type": "code",
      "execution_count": 12,
      "metadata": {},
      "outputs": [
        {
          "data": {
            "application/vnd.jupyter.widget-view+json": {
              "model_id": "89f6f0edb10a4879ac69d4be30c6618a",
              "version_major": 2,
              "version_minor": 0
            },
            "text/plain": [
              "Pandas Apply:   0%|          | 0/5000 [00:00<?, ?it/s]"
            ]
          },
          "metadata": {},
          "output_type": "display_data"
        },
        {
          "data": {
            "application/vnd.jupyter.widget-view+json": {
              "model_id": "7a538ad01e9b4810af4ef99f479990d8",
              "version_major": 2,
              "version_minor": 0
            },
            "text/plain": [
              "Pandas Apply:   0%|          | 0/5000 [00:00<?, ?it/s]"
            ]
          },
          "metadata": {},
          "output_type": "display_data"
        },
        {
          "data": {
            "application/vnd.jupyter.widget-view+json": {
              "model_id": "0acdd43d54d847bf8031ec9753a5b305",
              "version_major": 2,
              "version_minor": 0
            },
            "text/plain": [
              "Pandas Apply:   0%|          | 0/5000 [00:00<?, ?it/s]"
            ]
          },
          "metadata": {},
          "output_type": "display_data"
        },
        {
          "data": {
            "application/vnd.jupyter.widget-view+json": {
              "model_id": "0f0169a4e8cc47a9b1246b74df2733c8",
              "version_major": 2,
              "version_minor": 0
            },
            "text/plain": [
              "Pandas Apply:   0%|          | 0/5000 [00:00<?, ?it/s]"
            ]
          },
          "metadata": {},
          "output_type": "display_data"
        },
        {
          "data": {
            "application/vnd.jupyter.widget-view+json": {
              "model_id": "184205d4251c4c59a5b05002cc6c1da0",
              "version_major": 2,
              "version_minor": 0
            },
            "text/plain": [
              "Pandas Apply:   0%|          | 0/5000 [00:00<?, ?it/s]"
            ]
          },
          "metadata": {},
          "output_type": "display_data"
        },
        {
          "data": {
            "application/vnd.jupyter.widget-view+json": {
              "model_id": "895e3731a2484f85a17befa662e5c550",
              "version_major": 2,
              "version_minor": 0
            },
            "text/plain": [
              "Pandas Apply:   0%|          | 0/5000 [00:00<?, ?it/s]"
            ]
          },
          "metadata": {},
          "output_type": "display_data"
        },
        {
          "data": {
            "application/vnd.jupyter.widget-view+json": {
              "model_id": "383b8be78ed84282877ebb05f7d88462",
              "version_major": 2,
              "version_minor": 0
            },
            "text/plain": [
              "Pandas Apply:   0%|          | 0/5000 [00:00<?, ?it/s]"
            ]
          },
          "metadata": {},
          "output_type": "display_data"
        },
        {
          "data": {
            "application/vnd.jupyter.widget-view+json": {
              "model_id": "dd9c8df721464349bf70c605056d3699",
              "version_major": 2,
              "version_minor": 0
            },
            "text/plain": [
              "Pandas Apply:   0%|          | 0/5000 [00:00<?, ?it/s]"
            ]
          },
          "metadata": {},
          "output_type": "display_data"
        },
        {
          "data": {
            "application/vnd.jupyter.widget-view+json": {
              "model_id": "bce1c434ad2544b8bfb35c82abc96920",
              "version_major": 2,
              "version_minor": 0
            },
            "text/plain": [
              "Pandas Apply:   0%|          | 0/5000 [00:00<?, ?it/s]"
            ]
          },
          "metadata": {},
          "output_type": "display_data"
        },
        {
          "data": {
            "application/vnd.jupyter.widget-view+json": {
              "model_id": "426c7104a2154812be6efc6a7e566bce",
              "version_major": 2,
              "version_minor": 0
            },
            "text/plain": [
              "Pandas Apply:   0%|          | 0/5000 [00:00<?, ?it/s]"
            ]
          },
          "metadata": {},
          "output_type": "display_data"
        },
        {
          "name": "stdout",
          "output_type": "stream",
          "text": [
            "2024-05-29 22:50:28.992872\t Serventia: 75496\tNúmero de processos: 10000 \t Data do último processo adicionado: 2023-08-07T13:18:37.000Z\n"
          ]
        },
        {
          "data": {
            "application/vnd.jupyter.widget-view+json": {
              "model_id": "02405a9aa0df434199cc28ef4df86521",
              "version_major": 2,
              "version_minor": 0
            },
            "text/plain": [
              "Pandas Apply:   0%|          | 0/5000 [00:00<?, ?it/s]"
            ]
          },
          "metadata": {},
          "output_type": "display_data"
        },
        {
          "data": {
            "application/vnd.jupyter.widget-view+json": {
              "model_id": "d1cb021da9e64708962bab8e31833b72",
              "version_major": 2,
              "version_minor": 0
            },
            "text/plain": [
              "Pandas Apply:   0%|          | 0/5000 [00:00<?, ?it/s]"
            ]
          },
          "metadata": {},
          "output_type": "display_data"
        },
        {
          "data": {
            "application/vnd.jupyter.widget-view+json": {
              "model_id": "ce26723563c741ac91cb3d0119623ce0",
              "version_major": 2,
              "version_minor": 0
            },
            "text/plain": [
              "Pandas Apply:   0%|          | 0/5000 [00:00<?, ?it/s]"
            ]
          },
          "metadata": {},
          "output_type": "display_data"
        },
        {
          "data": {
            "application/vnd.jupyter.widget-view+json": {
              "model_id": "f1dc61a21e294360909e91788c0a75ec",
              "version_major": 2,
              "version_minor": 0
            },
            "text/plain": [
              "Pandas Apply:   0%|          | 0/5000 [00:00<?, ?it/s]"
            ]
          },
          "metadata": {},
          "output_type": "display_data"
        },
        {
          "data": {
            "application/vnd.jupyter.widget-view+json": {
              "model_id": "477fa36516e44edcaac5bbcdc1a492aa",
              "version_major": 2,
              "version_minor": 0
            },
            "text/plain": [
              "Pandas Apply:   0%|          | 0/5000 [00:00<?, ?it/s]"
            ]
          },
          "metadata": {},
          "output_type": "display_data"
        },
        {
          "name": "stdout",
          "output_type": "stream",
          "text": [
            "2024-05-29 22:54:27.617710\t Serventia: 75496\tNúmero de processos: 15000 \t Data do último processo adicionado: 2018-11-30T10:33:52.000Z\n"
          ]
        },
        {
          "data": {
            "application/vnd.jupyter.widget-view+json": {
              "model_id": "0e04bf7717fb4f80bbc0a4e968c73b1d",
              "version_major": 2,
              "version_minor": 0
            },
            "text/plain": [
              "Pandas Apply:   0%|          | 0/1413 [00:00<?, ?it/s]"
            ]
          },
          "metadata": {},
          "output_type": "display_data"
        },
        {
          "data": {
            "application/vnd.jupyter.widget-view+json": {
              "model_id": "632e2721c9b745e383fc34702d9d9d23",
              "version_major": 2,
              "version_minor": 0
            },
            "text/plain": [
              "Pandas Apply:   0%|          | 0/1413 [00:00<?, ?it/s]"
            ]
          },
          "metadata": {},
          "output_type": "display_data"
        },
        {
          "data": {
            "application/vnd.jupyter.widget-view+json": {
              "model_id": "7cb5895adfca4172a27ee09918edc320",
              "version_major": 2,
              "version_minor": 0
            },
            "text/plain": [
              "Pandas Apply:   0%|          | 0/1413 [00:00<?, ?it/s]"
            ]
          },
          "metadata": {},
          "output_type": "display_data"
        },
        {
          "data": {
            "application/vnd.jupyter.widget-view+json": {
              "model_id": "e1951bbc51084e0e80753661555c0514",
              "version_major": 2,
              "version_minor": 0
            },
            "text/plain": [
              "Pandas Apply:   0%|          | 0/1413 [00:00<?, ?it/s]"
            ]
          },
          "metadata": {},
          "output_type": "display_data"
        },
        {
          "data": {
            "application/vnd.jupyter.widget-view+json": {
              "model_id": "71433a91adc84f00abfec7475bb796bf",
              "version_major": 2,
              "version_minor": 0
            },
            "text/plain": [
              "Pandas Apply:   0%|          | 0/1413 [00:00<?, ?it/s]"
            ]
          },
          "metadata": {},
          "output_type": "display_data"
        },
        {
          "name": "stdout",
          "output_type": "stream",
          "text": [
            "2024-05-29 22:55:37.596205\t Serventia: 75496\tNúmero de processos: 16413 \t Data do último processo adicionado: 2021-10-27T19:44:21.000Z\n",
            "Número de processos incorporados: 16413 da Serventia: 75496\n",
            "        numero_processo                                  classe  \\\n",
            "0  08005186420178205001  Procedimento do Juizado Especial Cível   \n",
            "\n",
            "           data_ajuizamento               ultima_atualizacao  codigo  \\\n",
            "0 2017-01-11 08:57:49-02:00 2022-10-01 00:47:53.265000-03:00   75496   \n",
            "\n",
            "                           orgao_julgador  municipio grau assuntos  \\\n",
            "0  4º JUIZADO ESPECIAL DA FAZENDA PÚBLICA       3201   JE       []   \n",
            "\n",
            "                                                                                                                                                                                                                                                                                                                                                                                                                                                                                                                                                                                                                                                                                                                                                                                                                                                                                             movimentos  \\\n",
            "0  [[26, Distribuição, 2017-01-10 22:00:00-02:00], [51, Conclusão, 2017-01-10 22:00:00-02:00], [60, Expedição de documento, 2017-02-06 22:00:00-02:00], [60, Expedição de documento, 2017-02-06 22:00:00-02:00], [85, Petição, 2017-02-14 22:00:00-02:00], [85, Petição, 2017-03-08 21:00:00-03:00], [36, Redistribuição, 2017-07-31 21:00:00-03:00], [51, Conclusão, 2017-08-29 21:00:00-03:00], [60, Expedição de documento, 2019-05-13 21:00:00-03:00], [60, Expedição de documento, 2019-05-13 21:00:00-03:00], [85, Petição, 2019-06-11 21:00:00-03:00], [51, Conclusão, 2019-07-18 21:00:00-03:00], [60, Expedição de documento, 2019-08-19 21:00:00-03:00], [85, Petição, 2019-09-02 21:00:00-03:00], [123, Remessa, 2019-10-28 21:00:00-03:00], [85, Petição, 2020-07-27 21:00:00-03:00], [11010, Mero expediente, 2019-07-22 21:00:00-03:00], [220, Improcedência, 2019-04-24 21:00:00-03:00]]   \n",
            "\n",
            "            sort  \n",
            "0  1681390223926  \n"
          ]
        },
        {
          "data": {
            "application/vnd.jupyter.widget-view+json": {
              "model_id": "1e4039f2207e4c4e9fda04208ba1b877",
              "version_major": 2,
              "version_minor": 0
            },
            "text/plain": [
              "Pandas Apply:   0%|          | 0/5000 [00:00<?, ?it/s]"
            ]
          },
          "metadata": {},
          "output_type": "display_data"
        },
        {
          "data": {
            "application/vnd.jupyter.widget-view+json": {
              "model_id": "89247659d5d943038989e8db2937eefa",
              "version_major": 2,
              "version_minor": 0
            },
            "text/plain": [
              "Pandas Apply:   0%|          | 0/5000 [00:00<?, ?it/s]"
            ]
          },
          "metadata": {},
          "output_type": "display_data"
        },
        {
          "data": {
            "application/vnd.jupyter.widget-view+json": {
              "model_id": "e55cfca7394b4439b81d8a6649855f87",
              "version_major": 2,
              "version_minor": 0
            },
            "text/plain": [
              "Pandas Apply:   0%|          | 0/5000 [00:00<?, ?it/s]"
            ]
          },
          "metadata": {},
          "output_type": "display_data"
        },
        {
          "data": {
            "application/vnd.jupyter.widget-view+json": {
              "model_id": "5625496b3d524af995cd27b9e60351fd",
              "version_major": 2,
              "version_minor": 0
            },
            "text/plain": [
              "Pandas Apply:   0%|          | 0/5000 [00:00<?, ?it/s]"
            ]
          },
          "metadata": {},
          "output_type": "display_data"
        },
        {
          "data": {
            "application/vnd.jupyter.widget-view+json": {
              "model_id": "89c573a63647444c8d0608c4d5992b28",
              "version_major": 2,
              "version_minor": 0
            },
            "text/plain": [
              "Pandas Apply:   0%|          | 0/5000 [00:00<?, ?it/s]"
            ]
          },
          "metadata": {},
          "output_type": "display_data"
        },
        {
          "data": {
            "application/vnd.jupyter.widget-view+json": {
              "model_id": "1594a0e7de8a4066b56c434a6e087ce9",
              "version_major": 2,
              "version_minor": 0
            },
            "text/plain": [
              "Pandas Apply:   0%|          | 0/5000 [00:00<?, ?it/s]"
            ]
          },
          "metadata": {},
          "output_type": "display_data"
        },
        {
          "data": {
            "application/vnd.jupyter.widget-view+json": {
              "model_id": "c56c7610a0f64c6f9010c93226a95a37",
              "version_major": 2,
              "version_minor": 0
            },
            "text/plain": [
              "Pandas Apply:   0%|          | 0/5000 [00:00<?, ?it/s]"
            ]
          },
          "metadata": {},
          "output_type": "display_data"
        },
        {
          "data": {
            "application/vnd.jupyter.widget-view+json": {
              "model_id": "44ce8f6fe4354b248f8286e9545a1b10",
              "version_major": 2,
              "version_minor": 0
            },
            "text/plain": [
              "Pandas Apply:   0%|          | 0/5000 [00:00<?, ?it/s]"
            ]
          },
          "metadata": {},
          "output_type": "display_data"
        },
        {
          "data": {
            "application/vnd.jupyter.widget-view+json": {
              "model_id": "419b2ca2e3b243d49026d13cbc9eb324",
              "version_major": 2,
              "version_minor": 0
            },
            "text/plain": [
              "Pandas Apply:   0%|          | 0/5000 [00:00<?, ?it/s]"
            ]
          },
          "metadata": {},
          "output_type": "display_data"
        },
        {
          "name": "stdout",
          "output_type": "stream",
          "text": [
            "2024-05-29 23:04:04.637274\t Serventia: 17460\tNúmero de processos: 10000 \t Data do último processo adicionado: 2018-08-31T16:42:10.000Z\n"
          ]
        },
        {
          "data": {
            "application/vnd.jupyter.widget-view+json": {
              "model_id": "920b28df3a9e4cb8bc0857b82f5750fa",
              "version_major": 2,
              "version_minor": 0
            },
            "text/plain": [
              "Pandas Apply:   0%|          | 0/5000 [00:00<?, ?it/s]"
            ]
          },
          "metadata": {},
          "output_type": "display_data"
        },
        {
          "data": {
            "application/vnd.jupyter.widget-view+json": {
              "model_id": "387a897d145a43938338a65301d1d0fa",
              "version_major": 2,
              "version_minor": 0
            },
            "text/plain": [
              "Pandas Apply:   0%|          | 0/5000 [00:00<?, ?it/s]"
            ]
          },
          "metadata": {},
          "output_type": "display_data"
        },
        {
          "data": {
            "application/vnd.jupyter.widget-view+json": {
              "model_id": "58194cbe102144fd84c376dd396e0b0c",
              "version_major": 2,
              "version_minor": 0
            },
            "text/plain": [
              "Pandas Apply:   0%|          | 0/5000 [00:00<?, ?it/s]"
            ]
          },
          "metadata": {},
          "output_type": "display_data"
        },
        {
          "data": {
            "application/vnd.jupyter.widget-view+json": {
              "model_id": "603e85cfbaed4bee9f24dfd1e6b04c26",
              "version_major": 2,
              "version_minor": 0
            },
            "text/plain": [
              "Pandas Apply:   0%|          | 0/5000 [00:00<?, ?it/s]"
            ]
          },
          "metadata": {},
          "output_type": "display_data"
        },
        {
          "data": {
            "application/vnd.jupyter.widget-view+json": {
              "model_id": "df0bfa6cfdd744d39c0b1d57c1fb00f9",
              "version_major": 2,
              "version_minor": 0
            },
            "text/plain": [
              "Pandas Apply:   0%|          | 0/5000 [00:00<?, ?it/s]"
            ]
          },
          "metadata": {},
          "output_type": "display_data"
        },
        {
          "name": "stdout",
          "output_type": "stream",
          "text": [
            "2024-05-29 23:08:38.125376\t Serventia: 17460\tNúmero de processos: 15000 \t Data do último processo adicionado: 2021-07-28T18:57:29.000Z\n"
          ]
        },
        {
          "data": {
            "application/vnd.jupyter.widget-view+json": {
              "model_id": "68b8b17d4a814647976fb32209185887",
              "version_major": 2,
              "version_minor": 0
            },
            "text/plain": [
              "Pandas Apply:   0%|          | 0/1533 [00:00<?, ?it/s]"
            ]
          },
          "metadata": {},
          "output_type": "display_data"
        },
        {
          "data": {
            "application/vnd.jupyter.widget-view+json": {
              "model_id": "6e3656c461c748898a17f8cdfb9ec936",
              "version_major": 2,
              "version_minor": 0
            },
            "text/plain": [
              "Pandas Apply:   0%|          | 0/1533 [00:00<?, ?it/s]"
            ]
          },
          "metadata": {},
          "output_type": "display_data"
        },
        {
          "data": {
            "application/vnd.jupyter.widget-view+json": {
              "model_id": "e3afac8d1d6b47e5bfaf234c07e2599e",
              "version_major": 2,
              "version_minor": 0
            },
            "text/plain": [
              "Pandas Apply:   0%|          | 0/1533 [00:00<?, ?it/s]"
            ]
          },
          "metadata": {},
          "output_type": "display_data"
        },
        {
          "data": {
            "application/vnd.jupyter.widget-view+json": {
              "model_id": "b1a3a5cf059c47f58cbfcb069860ec91",
              "version_major": 2,
              "version_minor": 0
            },
            "text/plain": [
              "Pandas Apply:   0%|          | 0/1533 [00:00<?, ?it/s]"
            ]
          },
          "metadata": {},
          "output_type": "display_data"
        },
        {
          "data": {
            "application/vnd.jupyter.widget-view+json": {
              "model_id": "b81970653d94445781d90a57f8e0ec51",
              "version_major": 2,
              "version_minor": 0
            },
            "text/plain": [
              "Pandas Apply:   0%|          | 0/1533 [00:00<?, ?it/s]"
            ]
          },
          "metadata": {},
          "output_type": "display_data"
        },
        {
          "name": "stdout",
          "output_type": "stream",
          "text": [
            "2024-05-29 23:10:03.446876\t Serventia: 17460\tNúmero de processos: 16533 \t Data do último processo adicionado: 2021-03-15T22:01:57.000Z\n",
            "Número de processos incorporados: 16533 da Serventia: 17460\n",
            "        numero_processo                                  classe  \\\n",
            "0  08524231120178205001  Procedimento do Juizado Especial Cível   \n",
            "\n",
            "           data_ajuizamento               ultima_atualizacao  codigo  \\\n",
            "0 2017-11-10 09:12:02-02:00 2022-10-01 00:47:06.508000-03:00   17460   \n",
            "\n",
            "                           orgao_julgador  municipio grau assuntos  \\\n",
            "0  1º JUIZADO ESPECIAL DA FAZENDA PÚBLICA       3201   JE       []   \n",
            "\n",
            "                                                                                                                                                                                                                                                                                                                                                                                                                                                                                                                                                                                                movimentos  \\\n",
            "0  [[26, Distribuição, 2017-11-09 22:00:00-02:00], [51, Conclusão, 2017-11-09 22:00:00-02:00], [60, Expedição de documento, 2017-11-28 22:00:00-02:00], [60, Expedição de documento, 2017-11-28 22:00:00-02:00], [85, Petição, 2018-01-03 22:00:00-02:00], [85, Petição, 2018-01-14 22:00:00-02:00], [51, Conclusão, 2018-02-07 22:00:00-02:00], [60, Expedição de documento, 2019-02-10 22:00:00-02:00], [581, Documento, 2019-05-23 21:00:00-03:00], [11010, Mero expediente, 2017-11-27 22:00:00-02:00], [246, Definitivo, 2019-05-23 21:00:00-03:00], [220, Improcedência, 2019-02-09 22:00:00-02:00]]   \n",
            "\n",
            "            sort  \n",
            "0  1681390228757  \n"
          ]
        },
        {
          "data": {
            "application/vnd.jupyter.widget-view+json": {
              "model_id": "e6b26d93561f48118c256f35c2563d6a",
              "version_major": 2,
              "version_minor": 0
            },
            "text/plain": [
              "Pandas Apply:   0%|          | 0/5000 [00:00<?, ?it/s]"
            ]
          },
          "metadata": {},
          "output_type": "display_data"
        },
        {
          "data": {
            "application/vnd.jupyter.widget-view+json": {
              "model_id": "a21fb5e31cb4471994bfcea00550c2c9",
              "version_major": 2,
              "version_minor": 0
            },
            "text/plain": [
              "Pandas Apply:   0%|          | 0/5000 [00:00<?, ?it/s]"
            ]
          },
          "metadata": {},
          "output_type": "display_data"
        },
        {
          "data": {
            "application/vnd.jupyter.widget-view+json": {
              "model_id": "58ad72514c8c40eb94baa2228fc6fb00",
              "version_major": 2,
              "version_minor": 0
            },
            "text/plain": [
              "Pandas Apply:   0%|          | 0/5000 [00:00<?, ?it/s]"
            ]
          },
          "metadata": {},
          "output_type": "display_data"
        },
        {
          "data": {
            "application/vnd.jupyter.widget-view+json": {
              "model_id": "9dcc6c595f4f4cc0929c597711e5c4b0",
              "version_major": 2,
              "version_minor": 0
            },
            "text/plain": [
              "Pandas Apply:   0%|          | 0/5000 [00:00<?, ?it/s]"
            ]
          },
          "metadata": {},
          "output_type": "display_data"
        },
        {
          "data": {
            "application/vnd.jupyter.widget-view+json": {
              "model_id": "e9e0b547c06b4a7aab6f4c1e4bbf4b55",
              "version_major": 2,
              "version_minor": 0
            },
            "text/plain": [
              "Pandas Apply:   0%|          | 0/5000 [00:00<?, ?it/s]"
            ]
          },
          "metadata": {},
          "output_type": "display_data"
        },
        {
          "data": {
            "application/vnd.jupyter.widget-view+json": {
              "model_id": "b715605fea8f4512aaa8af7b557a1c34",
              "version_major": 2,
              "version_minor": 0
            },
            "text/plain": [
              "Pandas Apply:   0%|          | 0/5000 [00:00<?, ?it/s]"
            ]
          },
          "metadata": {},
          "output_type": "display_data"
        },
        {
          "data": {
            "application/vnd.jupyter.widget-view+json": {
              "model_id": "653b277fb3314527ab0dee00f725078d",
              "version_major": 2,
              "version_minor": 0
            },
            "text/plain": [
              "Pandas Apply:   0%|          | 0/5000 [00:00<?, ?it/s]"
            ]
          },
          "metadata": {},
          "output_type": "display_data"
        },
        {
          "data": {
            "application/vnd.jupyter.widget-view+json": {
              "model_id": "fd0324d523ac4d82a38e82a697d26ff0",
              "version_major": 2,
              "version_minor": 0
            },
            "text/plain": [
              "Pandas Apply:   0%|          | 0/5000 [00:00<?, ?it/s]"
            ]
          },
          "metadata": {},
          "output_type": "display_data"
        },
        {
          "data": {
            "application/vnd.jupyter.widget-view+json": {
              "model_id": "36bf65dd5cef4c87ba55180b292dc3eb",
              "version_major": 2,
              "version_minor": 0
            },
            "text/plain": [
              "Pandas Apply:   0%|          | 0/5000 [00:00<?, ?it/s]"
            ]
          },
          "metadata": {},
          "output_type": "display_data"
        },
        {
          "name": "stdout",
          "output_type": "stream",
          "text": [
            "2024-05-29 23:18:46.578142\t Serventia: 17461\tNúmero de processos: 10000 \t Data do último processo adicionado: 2021-02-01T17:40:23.000Z\n"
          ]
        },
        {
          "data": {
            "application/vnd.jupyter.widget-view+json": {
              "model_id": "074aa1b29f3546e0b5b005b8f0d00f15",
              "version_major": 2,
              "version_minor": 0
            },
            "text/plain": [
              "Pandas Apply:   0%|          | 0/5000 [00:00<?, ?it/s]"
            ]
          },
          "metadata": {},
          "output_type": "display_data"
        },
        {
          "data": {
            "application/vnd.jupyter.widget-view+json": {
              "model_id": "76316d0ff5994813936c4594bff3f61a",
              "version_major": 2,
              "version_minor": 0
            },
            "text/plain": [
              "Pandas Apply:   0%|          | 0/5000 [00:00<?, ?it/s]"
            ]
          },
          "metadata": {},
          "output_type": "display_data"
        },
        {
          "data": {
            "application/vnd.jupyter.widget-view+json": {
              "model_id": "08bab3d9aabd4fc8b986694617a61aa3",
              "version_major": 2,
              "version_minor": 0
            },
            "text/plain": [
              "Pandas Apply:   0%|          | 0/5000 [00:00<?, ?it/s]"
            ]
          },
          "metadata": {},
          "output_type": "display_data"
        },
        {
          "data": {
            "application/vnd.jupyter.widget-view+json": {
              "model_id": "645e9ffc36224bd3ac9381402497d396",
              "version_major": 2,
              "version_minor": 0
            },
            "text/plain": [
              "Pandas Apply:   0%|          | 0/5000 [00:00<?, ?it/s]"
            ]
          },
          "metadata": {},
          "output_type": "display_data"
        },
        {
          "data": {
            "application/vnd.jupyter.widget-view+json": {
              "model_id": "650016d7787849a6bdaf083c115bc5ee",
              "version_major": 2,
              "version_minor": 0
            },
            "text/plain": [
              "Pandas Apply:   0%|          | 0/5000 [00:00<?, ?it/s]"
            ]
          },
          "metadata": {},
          "output_type": "display_data"
        },
        {
          "name": "stdout",
          "output_type": "stream",
          "text": [
            "2024-05-29 23:24:05.235952\t Serventia: 17461\tNúmero de processos: 15000 \t Data do último processo adicionado: 2020-08-05T23:20:43.000Z\n"
          ]
        },
        {
          "data": {
            "application/vnd.jupyter.widget-view+json": {
              "model_id": "6a7c675ce10c42b88ae4bb2bb3c97071",
              "version_major": 2,
              "version_minor": 0
            },
            "text/plain": [
              "Pandas Apply:   0%|          | 0/1631 [00:00<?, ?it/s]"
            ]
          },
          "metadata": {},
          "output_type": "display_data"
        },
        {
          "data": {
            "application/vnd.jupyter.widget-view+json": {
              "model_id": "379f6b2c3782482d8f5eb60f8123f68c",
              "version_major": 2,
              "version_minor": 0
            },
            "text/plain": [
              "Pandas Apply:   0%|          | 0/1631 [00:00<?, ?it/s]"
            ]
          },
          "metadata": {},
          "output_type": "display_data"
        },
        {
          "data": {
            "application/vnd.jupyter.widget-view+json": {
              "model_id": "bcfc41cb9db945c4b7bb75305aed9046",
              "version_major": 2,
              "version_minor": 0
            },
            "text/plain": [
              "Pandas Apply:   0%|          | 0/1631 [00:00<?, ?it/s]"
            ]
          },
          "metadata": {},
          "output_type": "display_data"
        },
        {
          "data": {
            "application/vnd.jupyter.widget-view+json": {
              "model_id": "e849ef16064e4489a4c187cdfa83a5a9",
              "version_major": 2,
              "version_minor": 0
            },
            "text/plain": [
              "Pandas Apply:   0%|          | 0/1631 [00:00<?, ?it/s]"
            ]
          },
          "metadata": {},
          "output_type": "display_data"
        },
        {
          "data": {
            "application/vnd.jupyter.widget-view+json": {
              "model_id": "90416109fcb24af0a5c2f951ae692f0b",
              "version_major": 2,
              "version_minor": 0
            },
            "text/plain": [
              "Pandas Apply:   0%|          | 0/1631 [00:00<?, ?it/s]"
            ]
          },
          "metadata": {},
          "output_type": "display_data"
        },
        {
          "name": "stdout",
          "output_type": "stream",
          "text": [
            "2024-05-29 23:25:41.788838\t Serventia: 17461\tNúmero de processos: 16631 \t Data do último processo adicionado: 2022-07-28T12:09:47.000Z\n",
            "Número de processos incorporados: 16631 da Serventia: 17461\n",
            "        numero_processo  \\\n",
            "0  08507152320178205001   \n",
            "\n",
            "                                                           classe  \\\n",
            "0  Tutela Provisória de Urgência e Tutela Provisória de Evidência   \n",
            "\n",
            "           data_ajuizamento               ultima_atualizacao  codigo  \\\n",
            "0 2017-10-31 11:22:59-02:00 2022-10-01 00:48:17.002000-03:00   17461   \n",
            "\n",
            "                           orgao_julgador  municipio grau assuntos  \\\n",
            "0  2º JUIZADO ESPECIAL DA FAZENDA PÚBLICA       3201   JE       []   \n",
            "\n",
            "                                                                                                                                                                                                                                                                                                                                                                                                                                                                                                                                                                                                                                                                                                                                                                                                                                                                                                                                                                                          movimentos  \\\n",
            "0  [[26, Distribuição, 2017-10-30 22:00:00-02:00], [51, Conclusão, 2017-10-30 22:00:00-02:00], [60, Expedição de documento, 2017-10-30 22:00:00-02:00], [60, Expedição de documento, 2017-10-30 22:00:00-02:00], [60, Expedição de documento, 2017-10-30 22:00:00-02:00], [106, Mandado, 2017-10-30 22:00:00-02:00], [581, Documento, 2017-11-16 22:00:00-02:00], [51, Conclusão, 2017-11-16 22:00:00-02:00], [85, Petição, 2017-12-11 22:00:00-02:00], [85, Petição, 2017-12-11 22:00:00-02:00], [60, Expedição de documento, 2018-03-06 21:00:00-03:00], [51, Conclusão, 2018-04-03 21:00:00-03:00], [85, Petição, 2018-04-15 21:00:00-03:00], [60, Expedição de documento, 2018-08-19 21:00:00-03:00], [60, Expedição de documento, 2018-08-19 21:00:00-03:00], [339, Liminar, 2017-10-30 22:00:00-02:00], [11010, Mero expediente, 2018-03-04 21:00:00-03:00], [246, Definitivo, 2018-10-18 21:00:00-03:00], [11380, Autor falecido e sem habilitação de sucessores, 2018-07-30 21:00:00-03:00]]   \n",
            "\n",
            "            sort  \n",
            "0  1681390221724  \n"
          ]
        }
      ],
      "source": [
        "#lista_orgaos = ['2º JUIZADO ESPECIAL DA FAZENDA PÚBLICA', '3º JUIZADO ESPECIAL DA FAZENDA PÚBLICA', \n",
        "#                '5º JUIZADO ESPECIAL DA FAZENDA PÚBLICA']\n",
        "orgao = '4º JUIZADO ESPECIAL DA FAZENDA PÚBLICA'\n",
        "lista_codigo_orgaos = [75496, 17460, 17461 ] # 4º, 2º e 1º JEFP\n",
        "data = '2017-01-01'\n",
        "for orgao in lista_codigo_orgaos:\n",
        "    nome_dataset = nome_df = 'TJRN_' + str(orgao) + '_' + data + '.csv'\n",
        "    nome_dataset = nome_dataset.replace(\" \", \"_\")\n",
        "    nome_dataset = 'dados/' + nome_dataset\n",
        "    if os.path.isfile(nome_dataset):\n",
        "        print('Dataset já existente: ' + nome_dataset)\n",
        "    else:\n",
        "        df = criar_dataset(orgao, data, 5000)\n",
        "        df.reset_index(drop=True, inplace=True)\n",
        "        salvar_dataset(df, str(orgao), data)"
      ]
    },
    {
      "cell_type": "code",
      "execution_count": 13,
      "metadata": {
        "colab": {
          "base_uri": "https://localhost:8080/"
        },
        "id": "oikHltKLyjX0",
        "outputId": "3eb7cf67-b513-42ce-be88-783f27008d72"
      },
      "outputs": [
        {
          "name": "stdout",
          "output_type": "stream",
          "text": [
            "2º JUIZADO ESPECIAL DA FAZENDA PÚBLICA\n"
          ]
        }
      ],
      "source": [
        "print((df['orgao_julgador'][0]))"
      ]
    }
  ],
  "metadata": {
    "colab": {
      "provenance": []
    },
    "kernelspec": {
      "display_name": "env",
      "language": "python",
      "name": "python3"
    },
    "language_info": {
      "codemirror_mode": {
        "name": "ipython",
        "version": 3
      },
      "file_extension": ".py",
      "mimetype": "text/x-python",
      "name": "python",
      "nbconvert_exporter": "python",
      "pygments_lexer": "ipython3",
      "version": "3.10.12"
    }
  },
  "nbformat": 4,
  "nbformat_minor": 0
}
