{
 "cells": [
  {
   "cell_type": "code",
   "execution_count": null,
   "metadata": {},
   "outputs": [],
   "source": [
    "import pandas as pd\n",
    "import plotly.express as px\n",
    "import requests\n",
    "import json\n",
    "import datetime\n",
    "import concurrent.futures\n",
    "import swifter\n",
    "import os\n",
    "import glob\n",
    "import numpy as np\n",
    "import matplotlib.pyplot as plt\n",
    "from numpy import random\n",
    "import math\n",
    "import seaborn as sns\n",
    "plt.style.use('fivethirtyeight')\n",
    "import plotly.graph_objects as go\n",
    "import warnings\n",
    "warnings.filterwarnings('ignore')\n",
    "import dateutil\n",
    "import mariadb\n",
    "import re"
   ]
  },
  {
   "cell_type": "code",
   "execution_count": null,
   "metadata": {},
   "outputs": [],
   "source": [
    "pd.set_option('display.max_columns', None)  # or 1000\n",
    "pd.set_option('display.max_rows', None)  # or 1000\n",
    "pd.set_option('display.max_colwidth', None)  # or 199"
   ]
  },
  {
   "cell_type": "code",
   "execution_count": null,
   "metadata": {},
   "outputs": [],
   "source": [
    "try:\n",
    "    mydb = mariadb.connect(host=\"172.17.0.3\", database = 'dados_tribunais',user=\"root\", passwd=\"abc@123\")\n",
    "    query = \"select * from processos where grau='JE' and tribunal='TJRN' and orgao_julgador = '4º JUIZADO ESPECIAL DA FAZENDA PÚBLICA';\"\n",
    "    df_tribunal = pd.read_sql(query,mydb)\n",
    "    mydb.close() #close the connection\n",
    "except Exception as e:\n",
    "    mydb.close()\n",
    "    print(str(e))"
   ]
  },
  {
   "cell_type": "code",
   "execution_count": null,
   "metadata": {},
   "outputs": [],
   "source": [
    "df_tribunal.shape"
   ]
  },
  {
   "cell_type": "code",
   "execution_count": null,
   "metadata": {},
   "outputs": [],
   "source": [
    "df_tribunal.head(1)"
   ]
  },
  {
   "cell_type": "code",
   "execution_count": null,
   "metadata": {},
   "outputs": [],
   "source": [
    "df_tribunal.drop_duplicates(inplace=True)\n",
    "#df_tribunal.drop(columns=['sort', 'codigo', 'classe', 'numero_processo', 'orgao_julgador'], inplace=True, errors='ignore')\n",
    "if df_tribunal['assuntos'].isna().sum() > (0.8 * len(df_tribunal['assuntos'])):\n",
    "    df_tribunal.drop(columns=['assuntos'], inplace=True)"
   ]
  },
  {
   "cell_type": "code",
   "execution_count": null,
   "metadata": {},
   "outputs": [],
   "source": [
    "movimentacoes = list(df_tribunal.movimentos.values)\n",
    "print(len(movimentacoes))"
   ]
  },
  {
   "cell_type": "code",
   "execution_count": null,
   "metadata": {},
   "outputs": [],
   "source": [
    "tribunal = 'TRF'\n",
    "if tribunal[:2] == 'TJ':\n",
    "    movimentacoes_gabinete = pd.read_csv('dados/movimentos_gabinete.csv', sep=';', header='infer')\n",
    "    movimentacoes_gabinete['codigo'] = movimentacoes_gabinete['vazio.1']\n",
    "    lista_movimentacoes_gabinete = movimentacoes_gabinete['Código'].to_list()\n",
    "    movimentacoes_secretaria = pd.read_csv('dados/movimentos_secretaria.csv', sep=';', header='infer')\n",
    "    lista_movimentacoes_secretaria = movimentacoes_secretaria['codigo'].to_list()\n",
    "else:\n",
    "    movimentacoes_gabinete = pd.read_csv('dados/jf_movimentos_gabinete.csv', sep=';', header='infer')\n",
    "    lista_movimentacoes_gabinete = movimentacoes_gabinete['codigo'].to_list()\n",
    "    movimentacoes_secretaria = pd.read_csv('dados/jf_movimentos_secretaria.csv', sep=';', header='infer')\n",
    "    lista_movimentacoes_secretaria = movimentacoes_secretaria['codigo'].to_list()\n",
    "\n",
    "lista_movimentacoes_gabinete_set = set(lista_movimentacoes_gabinete)"
   ]
  },
  {
   "cell_type": "code",
   "execution_count": null,
   "metadata": {},
   "outputs": [],
   "source": [
    "padrao_movimentacao = r'\\[(\\d+),\\s+\\'(.*?)\\',\\s+\\'(\\d{4}-\\d{2}-\\d{2})\\'\\]'\n",
    "\n",
    "def calcular_data_sentenca(movimentacao):\n",
    "    resultado = re.findall(padrao_movimentacao, movimentacao)\n",
    "    if resultado:\n",
    "        for codigo, texto, data in resultado:\n",
    "            if int(codigo) in lista_movimentacoes_gabinete_set:\n",
    "                #print(codigo, '\\: ', data)\n",
    "                return data\n",
    "        \n",
    "    return -1"
   ]
  },
  {
   "cell_type": "code",
   "execution_count": null,
   "metadata": {},
   "outputs": [],
   "source": [
    "df_tribunal['data_sentenca'] = df_tribunal['movimentos'].swifter.apply(calcular_data_sentenca)"
   ]
  },
  {
   "cell_type": "code",
   "execution_count": null,
   "metadata": {},
   "outputs": [],
   "source": [
    "df_tribunal.head()"
   ]
  },
  {
   "cell_type": "code",
   "execution_count": null,
   "metadata": {},
   "outputs": [],
   "source": [
    "# Pegando apenas o código do primeiro assunto\n",
    "df_tribunal['assuntos'] = df_tribunal['assuntos'].swifter.apply(lambda x: x.split(',')[0].split(':')[1].strip())"
   ]
  },
  {
   "cell_type": "code",
   "execution_count": null,
   "metadata": {},
   "outputs": [],
   "source": [
    "from datetime import datetime\n",
    "\n",
    "def calcular_tempo_entre_movimentacoes(movimentacoes, inicial, final):\n",
    "    if final < inicial:\n",
    "        return -1\n",
    "    \n",
    "    padrao_movimentacao = r'\\[(\\d+),\\s+\\'(.*?)\\',\\s+\\'(\\d{4}-\\d{2}-\\d{2})\\'\\]'\n",
    "    resultado = re.findall(padrao_movimentacao, movimentacoes)\n",
    "    try:\n",
    "        if len(resultado) >= 2 and len(resultado) > final:\n",
    "            data_1 = datetime.strptime(resultado.pop(inicial)[2], '%Y-%m-%d')\n",
    "            data_2 = datetime.strptime(resultado.pop(inicial)[2], '%Y-%m-%d')\n",
    "                       \n",
    "            return abs((data_1 - data_2).days)\n",
    "        else:\n",
    "            return -1\n",
    "    except:\n",
    "        print(f'erro: {len(resultado)}, {resultado}')\n",
    "    return -1\n"
   ]
  },
  {
   "cell_type": "code",
   "execution_count": null,
   "metadata": {},
   "outputs": [],
   "source": [
    "def calcular_tempo_ate_sentenca(df):\n",
    "\n",
    "    #print(abs(datetime.strptime(df['data_sentenca'], '%Y-%m-%d') - (datetime.strptime(df['data_ajuizamento'],'%Y-%m-%d').days)))\n",
    "    return abs(datetime.strptime(df['data_sentenca'], '%Y-%m-%d') - (datetime.strptime(df['data_ajuizamento'],'%Y-%m-%d').days))"
   ]
  },
  {
   "cell_type": "code",
   "execution_count": null,
   "metadata": {},
   "outputs": [],
   "source": [
    "def estatisticas_movimentacoes_processo(movimentacoes):\n",
    "    min = np.inf\n",
    "    max = 0\n",
    "    media = 0.0\n",
    "    lista_mov_processos = list()\n",
    "    for movimento in movimentacoes:\n",
    "        print(movimento)\n",
    "        lista_mov_processos.append(len(movimento)/3)\n",
    "        if len(movimento)/3 > max:\n",
    "            max = len(movimento)/3\n",
    "        elif len(movimento)/3 < min:\n",
    "            min = len(movimento)/3\n",
    "        media += len(movimento)/3\n",
    "    media = media / len(movimentacoes)\n",
    "    return media, lista_mov_processos"
   ]
  },
  {
   "cell_type": "code",
   "execution_count": null,
   "metadata": {},
   "outputs": [],
   "source": [
    "df_tribunal['tempo_entre_1e2_mov'] = df_tribunal['movimentos'].swifter.apply(calcular_tempo_entre_movimentacoes, args=(0,1))\n",
    "df_tribunal['tempo_entre_2e3_mov'] = df_tribunal['movimentos'].swifter.apply(calcular_tempo_entre_movimentacoes, args=(1,2))\n",
    "df_tribunal['tempo_entre_3e4_mov'] = df_tribunal['movimentos'].swifter.apply(calcular_tempo_entre_movimentacoes, args=(2,3))\n",
    "\n",
    "df_tribunal['mais60d'] = (df_tribunal['tempo_entre_1e2_mov'] > 60) | (df_tribunal['tempo_entre_2e3_mov'] > 60) | (df_tribunal['tempo_entre_3e4_mov'] > 60) #| (df_tribunal['tempo_entre_4e5_mov'] > 60)\n",
    "#df_tribunal['mais60d'].replace(['False','True'],[0,1],inplace=True)"
   ]
  },
  {
   "cell_type": "code",
   "execution_count": null,
   "metadata": {},
   "outputs": [],
   "source": [
    "print(df_tribunal['mais60d'].value_counts())"
   ]
  },
  {
   "cell_type": "code",
   "execution_count": null,
   "metadata": {},
   "outputs": [],
   "source": [
    "df_sentenciados = df_tribunal[df_tribunal['data_sentenca'] != -1]\n",
    "df_sentenciados['data_ajuizamento'] = pd.to_datetime(df_sentenciados['data_ajuizamento'], errors='coerce')\n",
    "df_sentenciados['data_sentenca'] = pd.to_datetime(df_sentenciados['data_sentenca'], errors='coerce')\n",
    "df_sentenciados['tempo_ate_sentenca'] = (df_sentenciados['data_sentenca'] - df_sentenciados['data_ajuizamento']).dt.days\n",
    "print(df_sentenciados['tempo_ate_sentenca'].describe())\n",
    "df_sentenciados['tempo_ate_sentenca'] = df_sentenciados['tempo_ate_sentenca'].apply(lambda x: x if pd.notnull(x) else -1)\n"
   ]
  },
  {
   "cell_type": "code",
   "execution_count": null,
   "metadata": {},
   "outputs": [],
   "source": [
    "df_nao_sentenciados = pd.DataFrame()\n",
    "mascara = df_tribunal['data_sentenca'].values == -1\n",
    "df_nao_sentenciados = df_tribunal[mascara]\n",
    "df_nao_sentenciados['tempo_ate_sentenca'] = -1"
   ]
  },
  {
   "cell_type": "code",
   "execution_count": null,
   "metadata": {},
   "outputs": [],
   "source": [
    "df_nao_sentenciados.head()"
   ]
  },
  {
   "cell_type": "code",
   "execution_count": null,
   "metadata": {},
   "outputs": [],
   "source": [
    "print(df_sentenciados.shape)\n",
    "print(df_nao_sentenciados.shape)\n",
    "print(df_tribunal.shape)"
   ]
  },
  {
   "cell_type": "code",
   "execution_count": null,
   "metadata": {},
   "outputs": [],
   "source": [
    "print(df_sentenciados['tempo_ate_sentenca'].info())"
   ]
  },
  {
   "cell_type": "code",
   "execution_count": null,
   "metadata": {},
   "outputs": [],
   "source": [
    "df_tribunal = pd.concat([df_sentenciados, df_nao_sentenciados])\n",
    "#print(df_tribunal.head(1))"
   ]
  },
  {
   "cell_type": "code",
   "execution_count": null,
   "metadata": {},
   "outputs": [],
   "source": [
    "df_tribunal.columns"
   ]
  },
  {
   "cell_type": "code",
   "execution_count": 47,
   "metadata": {},
   "outputs": [],
   "source": [
    "## data_sentenca | tempo_ate_sentenca | tempo_entre_1e2_mov | tempo_entre_2e3_mov | tempo_entre_3e4_mov | mais60d\n",
    "\n",
    "try:\n",
    "    mydb = mariadb.connect(host=\"172.17.0.3\", database='dados_tribunais', user=\"root\", passwd=\"abc@123\")\n",
    "\n",
    "    mycursor = mydb.cursor()\n",
    "    for processo in df_tribunal.numero_processo.to_list():\n",
    "        sentenca = df_tribunal[df_tribunal.numero_processo == processo].data_sentenca.values[0]\n",
    "        tempo_ate_sentenca = df_tribunal[df_tribunal.numero_processo == processo].tempo_ate_sentenca.values[0]\n",
    "        tempo_entre_1e2_mov = df_tribunal[df_tribunal.numero_processo == processo].tempo_entre_1e2_mov.values[0]\n",
    "        tempo_entre_2e3_mov = df_tribunal[df_tribunal.numero_processo == processo].tempo_entre_2e3_mov.values[0]\n",
    "        tempo_entre_3e4_mov = df_tribunal[df_tribunal.numero_processo == processo].tempo_entre_3e4_mov.values[0]\n",
    "        mais60d = df_tribunal[df_tribunal.numero_processo == processo].mais60d.values[0]\n",
    "        mycursor.execute(f\"UPDATE processos SET data_sentenca = '{sentenca}', tempo_ate_sentenca = '{tempo_ate_sentenca}', tempo_entre_1e2_mov = '{tempo_entre_1e2_mov}', tempo_entre_2e3_mov = '{tempo_entre_2e3_mov}', tempo_entre_3e4_mov = '{tempo_entre_3e4_mov}', mais60d = {mais60d} WHERE numero_processo = '{processo}';\")\n",
    "    mydb.commit()\n",
    "    mydb.close()  # close the connection\n",
    "except Exception as e:\n",
    "    mydb.close()\n",
    "    print(str(e))"
   ]
  },
  {
   "cell_type": "code",
   "execution_count": null,
   "metadata": {},
   "outputs": [],
   "source": [
    "# tribunal = df_tribunal['tribunal'][0]\n",
    "# grau = df_tribunal['grau'][0]\n",
    "# data_inicio = df_tribunal['data_ajuizamento'].min().date().strftime(\"%Y-%m-%d\")\n",
    "# data_final = df_tribunal['data_ajuizamento'].max().date().strftime(\"%Y-%m-%d\")\n",
    "# classe = df_tribunal['codigo_classe'][0]\n",
    "# nome_dataset = tribunal + '_' + grau + '_' + str(classe) + '_' + str(data_inicio) + '-' + str(data_final)\n",
    "# df_tribunal.to_csv(f'dados/processados/{nome_dataset}.csv', sep=';', header=True, index=False, compression='zip')\n",
    "# nome_dataset = tribunal + '_' + grau + '_' + str(classe) + '_' + str(data_inicio) + '-' + str(data_final) + '_' + 'sentenciados'\n",
    "# df_sentenciados.to_csv(f'dados/processados/{nome_dataset}.csv', sep=';', header=True, index=False, compression='zip')\n",
    "# nome_dataset = tribunal + '_' + str(classe) + '_' + str(data_inicio) + '-' + str(data_final) + '_' + 'nao_sentenciados'\n",
    "# df_nao_sentenciados.to_csv(f'dados/processados/{nome_dataset}.csv', sep=';', header=True, index=False, compression='zip')"
   ]
  },
  {
   "cell_type": "markdown",
   "metadata": {},
   "source": [
    "## EDA"
   ]
  },
  {
   "cell_type": "code",
   "execution_count": null,
   "metadata": {},
   "outputs": [],
   "source": [
    "df_tribunal.isna().sum()"
   ]
  },
  {
   "cell_type": "code",
   "execution_count": null,
   "metadata": {},
   "outputs": [],
   "source": [
    "df_tribunal.info()"
   ]
  },
  {
   "cell_type": "code",
   "execution_count": null,
   "metadata": {},
   "outputs": [],
   "source": [
    "#print(df_sentenciados.shape[0], df_nao_sentenciados.shape[0])\n",
    "try:\n",
    "    percentual_sentenciados = (int(df_sentenciados.shape[0])/int(df_tribunal.shape[0]) * 100)\n",
    "    percentual_sentenciados = float(\"{:.4f}\".format(percentual_sentenciados))\n",
    "    print(f'Percentual da base de casos sentenciados: {percentual_sentenciados}%')\n",
    "except:\n",
    "    pass"
   ]
  },
  {
   "cell_type": "code",
   "execution_count": null,
   "metadata": {},
   "outputs": [],
   "source": [
    "fig = px.histogram(df_sentenciados, x='data_ajuizamento', marginal='rug', title='Distribuição dos processos já sentenciados pela data de ajuizamento')\n",
    "fig.show()"
   ]
  },
  {
   "cell_type": "code",
   "execution_count": null,
   "metadata": {},
   "outputs": [],
   "source": [
    "fig = px.histogram(df_nao_sentenciados, x='data_ajuizamento', marginal='rug', title='Distribuição dos processos ainda não sentenciados pela data de ajuizamento')\n",
    "fig.show()"
   ]
  },
  {
   "cell_type": "code",
   "execution_count": null,
   "metadata": {},
   "outputs": [],
   "source": [
    "fig = px.histogram(df_sentenciados, x='tempo_ate_sentenca', marginal='rug', title='Distribuição do tempo até a sentença')\n",
    "fig.show()"
   ]
  },
  {
   "cell_type": "code",
   "execution_count": null,
   "metadata": {},
   "outputs": [],
   "source": [
    "media, lista_mov_processos = estatisticas_movimentacoes_processo(df_sentenciados['movimentos'].to_list())\n",
    "print(f'Média de movimentações por processo: {media}')\n",
    "fig = px.histogram(lista_mov_processos, marginal='rug', title='Distribuição do número de movimentações por processo',\n",
    "                   nbins=math.ceil((media *2)), labels={'x':'Movimentações', 'y':'Ocorrências'}).update_layout(\n",
    "    yaxis_title=\"Ocorrências\", xaxis_title=\"Movimentações\")\n",
    "fig.show()"
   ]
  },
  {
   "cell_type": "code",
   "execution_count": null,
   "metadata": {},
   "outputs": [],
   "source": [
    "fig = go.Figure()\n",
    "fig.add_trace(go.Box(y=df_sentenciados['tempo_entre_2e3_mov'], \n",
    "                     name='2ª e 3ª movimentação', marker_color = 'indianred'))\n",
    "fig.add_trace(go.Box(y=df_sentenciados['tempo_entre_3e4_mov'], \n",
    "                     name='3ª e 4ª movimentação', marker_color = 'lightseagreen'))\n",
    "fig.update_layout(title='Distribuição do tempo necessário para realizar as duas primeiras movimentações processuais')\n",
    "fig.show()\n"
   ]
  },
  {
   "cell_type": "code",
   "execution_count": null,
   "metadata": {},
   "outputs": [],
   "source": [
    "#df_sentenciados.groupby(['data_sentenca'])['tempo_ate_sentenca'].count()\n",
    "df_ordenado = df_sentenciados.sort_values(by='data_sentenca')\n",
    "fig = px.line(df_ordenado, x='data_sentenca', y='tempo_ate_sentenca', title='Tempo até sentença ao longo dos anos').update_layout(\n",
    "    yaxis_title=\"Tempo até sentença\", xaxis_title=\"Ano\")\n",
    "fig.show()"
   ]
  },
  {
   "cell_type": "code",
   "execution_count": null,
   "metadata": {},
   "outputs": [],
   "source": [
    "top99_sentenciados = df_sentenciados['tempo_ate_sentenca'].quantile(0.80)\n",
    "print(f'(80% dos processos são sentenciados em até {top99_sentenciados:.1f} dias)')"
   ]
  },
  {
   "cell_type": "code",
   "execution_count": null,
   "metadata": {},
   "outputs": [],
   "source": [
    "sns.set()\n",
    "fig = sns.pairplot(df_sentenciados[['tempo_entre_1e2_mov', 'tempo_entre_2e3_mov', \n",
    "                             'tempo_entre_3e4_mov', 'mais60d', 'tempo_ate_sentenca']], size = 2.5)\n",
    "plt.show()"
   ]
  },
  {
   "cell_type": "code",
   "execution_count": null,
   "metadata": {},
   "outputs": [],
   "source": [
    "sns.heatmap(df_sentenciados[['tempo_entre_1e2_mov', 'tempo_entre_2e3_mov', \n",
    "                             'tempo_entre_3e4_mov', 'mais60d', 'tempo_ate_sentenca']].corr(),annot=True,cmap='RdYlGn',linewidths=0.2)\n",
    "fig=plt.gcf()\n",
    "plt.xticks(fontsize=12)\n",
    "plt.yticks(fontsize=12)\n",
    "plt.show()"
   ]
  },
  {
   "cell_type": "code",
   "execution_count": null,
   "metadata": {},
   "outputs": [],
   "source": [
    "def lista_movimentacoes(movimentacoes, posicao):\n",
    "    movimentacoes_posicao_3 = list()\n",
    "    for movimento in movimentacoes:\n",
    "        movimentacoes_posicao_3.append(movimento[posicao -1][0])\n",
    "    return list(set(movimentacoes_posicao_3))\n",
    "\n",
    "    \n",
    "mais_demoradas_movimentacoes_pos_3 = lista_movimentacoes(df_sentenciados['movimentos'].to_list(), 3)\n",
    "print(mais_demoradas_movimentacoes_pos_3)\n",
    "\n",
    "\n",
    "for codigo in mais_demoradas_movimentacoes_pos_3:\n",
    "    acoes_secretaria = 0\n",
    "    acoes_gabinete = 0\n",
    "    acoes_sentenca = 0\n",
    "    if int(codigo) in lista_movimentacoes_secretaria:\n",
    "        acoes_secretaria += 1\n",
    "    elif int(codigo) in lista_movimentacoes_gabinete:\n",
    "        acoes_gabinete += 1\n",
    "    elif int(codigo) in lista_movimentacoes_gabinete:\n",
    "        acoes_sentenca += 1\n",
    "\n",
    "print(f'Das movimentações mais demoradas, {acoes_secretaria} são realizadas pela secretaria, {acoes_gabinete} pelo gabinete e {acoes_sentenca} são sentenças')\n",
    "        "
   ]
  },
  {
   "cell_type": "markdown",
   "metadata": {},
   "source": [
    "## Testes com ML"
   ]
  },
  {
   "cell_type": "code",
   "execution_count": null,
   "metadata": {},
   "outputs": [],
   "source": [
    "print(df_tribunal.columns)"
   ]
  },
  {
   "cell_type": "code",
   "execution_count": null,
   "metadata": {},
   "outputs": [],
   "source": [
    "df_ml = df_sentenciados.drop(columns=['movimentos', 'numero_processo', 'data_ajuizamento', 'ultima_atualizacao', 'codigo', 'data_sentenca','tribunal', 'orgao_julgador', 'municipio', 'grau'])\n",
    "df_ml.dropna(inplace=True)\n",
    "df_ml = pd.get_dummies(df_ml, columns=['assuntos', 'classe'], drop_first=True)\n",
    "df_x = df_ml.drop(columns=['tempo_ate_sentenca', 'mais60d'])\n",
    "#print(df_ml.head(1))\n",
    "print(df_ml.columns)"
   ]
  },
  {
   "cell_type": "code",
   "execution_count": null,
   "metadata": {},
   "outputs": [],
   "source": [
    "from sklearn.ensemble import RandomForestClassifier\n",
    "from sklearn.ensemble import AdaBoostClassifier\n",
    "from sklearn.neural_network import MLPClassifier\n",
    "from sklearn.tree import DecisionTreeClassifier\n",
    "from sklearn.naive_bayes import CategoricalNB\n",
    "from sklearn.model_selection import cross_validate\n",
    "from sklearn.model_selection import StratifiedKFold\n",
    "\n",
    "metricas = ['accuracy', 'f1', 'precision', 'recall']\n",
    "rfc = RandomForestClassifier(random_state=19, n_jobs=-1)\n",
    "adc = AdaBoostClassifier(random_state=19,algorithm=\"SAMME\", n_estimators=200)\n",
    "mlp = MLPClassifier(random_state=19)\n",
    "dtc = DecisionTreeClassifier(random_state=19)\n",
    "\n",
    "scores_rfc = cross_validate(rfc, df_x,\n",
    "                             df_ml['mais60d'], cv=10, scoring=metricas)\n",
    "scores_adc = cross_validate(adc, df_x,\n",
    "                             df_ml['mais60d'], cv=10, scoring=metricas)\n",
    "scores_mlp = cross_validate(mlp, df_x,\n",
    "                             df_ml['mais60d'], cv=10, scoring=metricas)\n",
    "scores_dtc = cross_validate(dtc, df_x,\n",
    "                             df_ml['mais60d'], cv=10, scoring=metricas)"
   ]
  },
  {
   "cell_type": "code",
   "execution_count": null,
   "metadata": {},
   "outputs": [],
   "source": [
    "chaves = scores_dtc.keys()\n",
    "print(f'Usando as colunas {df_x.columns} chegou-se ao seguinte resultado\\n\\n')\n",
    "print(f'Métrica \\tRandomForest \\tAdaBoost \\tMLP \\tDecisionTree')\n",
    "for chave in chaves:\n",
    "    print(f'{chave}:\\t {scores_rfc[chave].mean():.3f} \\t\\t{scores_adc[chave].mean():.3f} \\t\\t{scores_mlp[chave].mean():.3f} \\t\\t{scores_dtc[chave].mean():.3f}')\n"
   ]
  },
  {
   "cell_type": "markdown",
   "metadata": {},
   "source": [
    "### Modelo tentando prever se vai atrasar ou não"
   ]
  },
  {
   "cell_type": "code",
   "execution_count": null,
   "metadata": {},
   "outputs": [],
   "source": [
    "from sklearn.tree import export_text\n",
    "from sklearn.model_selection import train_test_split\n",
    "\n",
    "X_train, X_test, y_train, y_test = train_test_split(df_x, df_ml['mais60d'],test_size=0.20, random_state=19)\n",
    "\n",
    "clf = DecisionTreeClassifier(max_depth=10).fit(X_train, y_train)\n",
    "print(clf.score(X_test,y_test))\n",
    "r = export_text(clf, feature_names=df_x.columns)\n",
    "\n",
    "print(r)\n",
    " "
   ]
  },
  {
   "cell_type": "markdown",
   "metadata": {},
   "source": [
    "### Regressão para o tempo até a sentença"
   ]
  },
  {
   "cell_type": "code",
   "execution_count": null,
   "metadata": {},
   "outputs": [],
   "source": [
    "from sklearn.model_selection import train_test_split\n",
    "\n",
    "X_train, X_test, y_train, y_test = train_test_split(df_x, \n",
    "                                                    df_ml['tempo_ate_sentenca'], test_size=0.20, random_state=19)"
   ]
  },
  {
   "cell_type": "code",
   "execution_count": null,
   "metadata": {},
   "outputs": [],
   "source": [
    "from sklearn.ensemble import RandomForestRegressor\n",
    "from sklearn.ensemble import AdaBoostRegressor\n",
    "from sklearn.neural_network import MLPRegressor\n",
    "from sklearn.tree import DecisionTreeRegressor\n",
    "from sklearn import metrics\n",
    "from sklearn.metrics import mean_squared_error, r2_score, mean_absolute_error\n",
    "\n",
    "\n",
    "model = RandomForestRegressor(max_depth=100, random_state=0, n_estimators=500)\n",
    "model.fit(X_train, y_train)\n",
    "rf_y_pred = model.predict(X_test)\n",
    "\n",
    "rf_r2 = r2_score(y_test, rf_y_pred)\n",
    "rf_mae = mean_absolute_error(y_test, rf_y_pred)\n",
    "rf_rmse = mean_squared_error(y_test, rf_y_pred, squared=False)\n",
    "rf_mse = mean_squared_error(y_test, rf_y_pred)\n",
    "\n",
    "print('----------------------------------------------------')\n",
    "\n",
    "print(f'AdaBoost Regressor')\n",
    "regr = AdaBoostRegressor(random_state=0, n_estimators=100)\n",
    "regr.fit(X_train, y_train)\n",
    "ada_y_pred = regr.predict(X_test)\n",
    "\n",
    "ada_r2 = r2_score(y_test, ada_y_pred)\n",
    "ada_mae = mean_absolute_error(y_test, ada_y_pred)\n",
    "ada_rmse = mean_squared_error(y_test, ada_y_pred, squared=False)\n",
    "ada_mse = mean_squared_error(y_test, ada_y_pred)\n",
    "\n",
    "print('----------------------------------------------------')\n",
    "\n",
    "print(f'MLP Regressor')\n",
    "\n",
    "regr_mlp = MLPRegressor(random_state=1, max_iter=500).fit(X_train, y_train)\n",
    "mlp_y_pred = regr_mlp.predict(X_test)\n",
    "\n",
    "mlp_r2 = r2_score(y_test, mlp_y_pred)\n",
    "mlp_mae = mean_absolute_error(y_test, mlp_y_pred)\n",
    "mlp_rmse = mean_squared_error(y_test, mlp_y_pred, squared=False)\n",
    "mlp_mse = mean_squared_error(y_test, mlp_y_pred)\n",
    "\n",
    "print('----------------------------------------------------')\n",
    "\n",
    "print(f'DT Regressor')\n",
    "regressor = DecisionTreeRegressor(random_state=0).fit(X_train, y_train)\n",
    "dt_y_pred = regr_mlp.predict(X_test)\n",
    "\n",
    "dt_r2 = r2_score(y_test, dt_y_pred)\n",
    "dt_mae = mean_absolute_error(y_test, dt_y_pred)\n",
    "dt_rmse = mean_squared_error(y_test, dt_y_pred, squared=False)\n",
    "dt_mse = mean_squared_error(y_test, dt_y_pred)\n",
    "\n",
    "print(f'Metric\\t\\t\\t\\t RF\\t AdaBoost\\t MLP\\t\\t DT')\n",
    "print(f\"Mean Squared Error:\\t\\t {rf_r2:.3f}\\t {ada_r2:.3f}\\t\\t {mlp_r2:.3f}\\t\\t {dt_r2:.3f}\")\n",
    "print(f\"R-squared (R²):\\t\\t\\t {rf_mae:.3f}\\t {ada_mae:.3f}\\t {mlp_mae:.3f}\\t\\t {dt_mae:.3f}\")\n",
    "print(f\"Mean Absolute Error (MAE):\\t {rf_mae:.3f}\\t {ada_rmse:.3f}\\t {mlp_rmse:.3f}\\t {dt_rmse:.3f}\")\n",
    "print(f\"Root Mean Squared Error (RMSE):\\t {rf_rmse:.3f} {ada_mse:.3f}\\t {mlp_mse:.3f}\\t {dt_mse:.3f}\")"
   ]
  }
 ],
 "metadata": {
  "kernelspec": {
   "display_name": "Python 3",
   "language": "python",
   "name": "python3"
  },
  "language_info": {
   "codemirror_mode": {
    "name": "ipython",
    "version": 3
   },
   "file_extension": ".py",
   "mimetype": "text/x-python",
   "name": "python",
   "nbconvert_exporter": "python",
   "pygments_lexer": "ipython3",
   "version": "3.10.6"
  }
 },
 "nbformat": 4,
 "nbformat_minor": 2
}
