{
 "cells": [
  {
   "cell_type": "code",
   "execution_count": null,
   "metadata": {},
   "outputs": [],
   "source": [
    "import pandas as pd\n",
    "import plotly.express as px\n",
    "import requests\n",
    "import json\n",
    "import datetime\n",
    "import concurrent.futures\n",
    "import swifter\n",
    "import os\n",
    "import glob\n",
    "import numpy as np\n",
    "import matplotlib.pyplot as plt\n",
    "from numpy import random\n",
    "import math\n",
    "import seaborn as sns\n",
    "plt.style.use('fivethirtyeight')\n",
    "import plotly.graph_objects as go\n",
    "import warnings\n",
    "warnings.filterwarnings('ignore')"
   ]
  },
  {
   "cell_type": "code",
   "execution_count": null,
   "metadata": {},
   "outputs": [],
   "source": [
    "pd.set_option('display.max_columns', None)  # or 1000\n",
    "pd.set_option('display.max_rows', None)  # or 1000\n",
    "pd.set_option('display.max_colwidth', None)  # or 199"
   ]
  },
  {
   "cell_type": "code",
   "execution_count": null,
   "metadata": {},
   "outputs": [],
   "source": [
    "if os.path.isfile('dados/TJRN_17461_2017-01-01.csv'):\n",
    "    df_tjrn = pd.read_csv('dados/TJRN_17461_2017-01-01.csv', header='infer', sep=';', compression='zip')\n",
    "else:\n",
    "    df_tjrn = pd.read_csv(glob.glob(\"dados/TJRN_17*.csv\")[0], header='infer', sep=';', compression='zip')\n",
    "    print(f'Carregando o dataset referente ao {glob.glob(\"dados/TJRN_17*.csv\")[0]}')\n",
    "    "
   ]
  },
  {
   "cell_type": "code",
   "execution_count": null,
   "metadata": {},
   "outputs": [],
   "source": [
    "df_tjrn.drop_duplicates(inplace=True)\n",
    "if 'sort' in df_tjrn.columns:\n",
    "    df_tjrn.drop(columns=['sort'], inplace=True)\n",
    "if 'codigo' in df_tjrn.columns:\n",
    "    df_tjrn.drop(columns=['codigo'], inplace=True)    \n",
    "if 'classe' in df_tjrn.columns:\n",
    "    df_tjrn.drop(columns=['classe'], inplace=True)    \n",
    "if 'grau' in df_tjrn.columns:\n",
    "    df_tjrn.drop(columns=['grau'], inplace=True)\n",
    "if 'numero_processo' in df_tjrn.columns:\n",
    "    df_tjrn.drop(columns=['numero_processo'], inplace=True)    \n",
    "if 'orgao_julgador' in df_tjrn.columns:\n",
    "    df_tjrn.drop(columns=['orgao_julgador'], inplace=True)\n",
    "    \n",
    "if df_tjrn['assuntos'].isna().sum() > (0.8 * len(df_tjrn['assuntos'])):\n",
    "    df_tjrn.drop(columns=['assuntos'], inplace=True)    "
   ]
  },
  {
   "cell_type": "code",
   "execution_count": null,
   "metadata": {},
   "outputs": [],
   "source": [
    "df_tjrn.head(1)"
   ]
  },
  {
   "cell_type": "code",
   "execution_count": null,
   "metadata": {},
   "outputs": [],
   "source": [
    "\n",
    "df_tjrn['data_ajuizamento'] = pd.to_datetime(df_tjrn['data_ajuizamento'], utc=True)\n",
    "#print(df_tjrn.info())\n",
    "df_tjrn['data_ajuizamento'] = df_tjrn['data_ajuizamento'].dt.strftime('%Y-%m-%d')\n",
    "df_tjrn['ultima_atualizacao'] = pd.to_datetime(df_tjrn['ultima_atualizacao'], format='mixed').dt.strftime('%Y-%m-%d')\n",
    "#print(df_tjrn.head(2))"
   ]
  },
  {
   "cell_type": "code",
   "execution_count": null,
   "metadata": {},
   "outputs": [],
   "source": [
    "movimentacoes = list(df_tjrn.movimentos.values)\n",
    "print(len(movimentacoes))"
   ]
  },
  {
   "cell_type": "code",
   "execution_count": null,
   "metadata": {},
   "outputs": [],
   "source": [
    "lista_movimentacoes_completa = []\n",
    "lista_codigos = list()\n",
    "lista_nomes = list()\n",
    "lista_data = list()\n",
    "i = 0\n",
    "\n",
    "for movimento in movimentacoes:\n",
    "    if '272' in movimento.split():\n",
    "        print(movimento)\n",
    "        #continue \n",
    "        #print(len(list(movimento.split(',')))/4)\n",
    "    else:\n",
    "        if len(list(movimento.split(','))) % 4 == 0:\n",
    "            lista_temp = list()\n",
    "            for elemento in range(0,int(len(list(movimento.split(',')))/4),4):\n",
    "                codigo = movimento.split(',')[elemento].replace('[','').replace(' ', '')\n",
    "                nome_movimentacao = movimento.split(',')[elemento+1].replace('[','').replace(' ', '')\n",
    "                data_movimentacao = movimento.split(',')[elemento+2].replace('[','').replace('Timestamp(','').split(' ')[1].replace(' ', '').replace('\\'', '')\n",
    "                lista_temp.append([codigo, nome_movimentacao, data_movimentacao])\n",
    "        else:\n",
    "            lista_temp.append([-1,-1,-1])\n",
    "    lista_movimentacoes_completa.append(lista_temp)\n"
   ]
  },
  {
   "cell_type": "code",
   "execution_count": null,
   "metadata": {},
   "outputs": [],
   "source": [
    "print(type(lista_movimentacoes_completa), len(lista_movimentacoes_completa))\n",
    "print(type(lista_movimentacoes_completa[0]), len(lista_movimentacoes_completa[2]))\n",
    "print(lista_movimentacoes_completa[5200])\n",
    "print(lista_movimentacoes_completa[:10])"
   ]
  },
  {
   "cell_type": "code",
   "execution_count": 108,
   "metadata": {},
   "outputs": [],
   "source": [
    "movimentacoes_gabinete = pd.read_csv('dados/movimentos_gabinete.csv', sep=';', header='infer')\n",
    "movimentacoes_gabinete['codigo'] = movimentacoes_gabinete['vazio.1']\n",
    "movimentacoes_gabinete.drop(columns=['complemento','vazio', 'vazio.2', 'vazio.1'], inplace=True)\n",
    "lista_movimentacoes_gabinete = movimentacoes_gabinete[movimentacoes_gabinete['nome'] != 'Julgamento']['codigo'].to_list()\n",
    "lista_movimentacoes_sentenca = movimentacoes_gabinete[movimentacoes_gabinete['nome'] == 'Julgamento']['codigo'].to_list()\n",
    "#print(movimentacoes_gabinete.head(5))"
   ]
  },
  {
   "cell_type": "code",
   "execution_count": null,
   "metadata": {},
   "outputs": [],
   "source": [
    "#print(movimentacoes_gabinete[movimentacoes_gabinete['nome'] == 'Julgamento'].head(5))"
   ]
  },
  {
   "cell_type": "code",
   "execution_count": null,
   "metadata": {},
   "outputs": [],
   "source": [
    "movimentacoes_secretaria = pd.read_csv('dados/movimentos_secretaria.csv', sep=';', header='infer')\n",
    "#print(movimentacoes_secretaria.head(5))\n",
    "movimentacoes_secretaria.drop(columns=['Unnamed: 3','complemento'], inplace=True)\n",
    "lista_movimentacoes_secretaria = movimentacoes_secretaria['codigo'].to_list()\n",
    "#print(movimentacoes_secretaria.head(5))"
   ]
  },
  {
   "cell_type": "code",
   "execution_count": null,
   "metadata": {},
   "outputs": [],
   "source": [
    "def calcular_data_sentenca(movimentacoes):\n",
    "    processos_sentenciados = 0\n",
    "    processos_nao_sentenciados = 0    \n",
    "    lista_data_sentenca = list()\n",
    "    for i in range(0,(len(movimentacoes)),1):\n",
    "        processado = False\n",
    "        if len(movimentacoes[i]) > 3:\n",
    "            for j in range(0,(len(movimentacoes[i])-1),3):\n",
    "                #print(movimentacoes[i][j][0])\n",
    "                if processado:\n",
    "                   break \n",
    "                if int(movimentacoes[i][j][0]) in lista_movimentacoes_sentenca:\n",
    "                    data = pd.to_datetime(movimentacoes[i][j][2])\n",
    "                    data = data.date().strftime(\"%Y-%m-%d\")\n",
    "                    lista_data_sentenca.append(data)\n",
    "                    processos_sentenciados = processos_sentenciados + 1\n",
    "                    processado = True\n",
    "                    #print(f'Processando: {i}: Sentença encontrada')\n",
    "            if not processado:\n",
    "                lista_data_sentenca.append('-1')\n",
    "                processado = True\n",
    "                processos_nao_sentenciados = processos_nao_sentenciados + 1         \n",
    "   \n",
    "                #print(f'data adicionada: {data}')    \n",
    "        else:\n",
    "            #print(movimentacoes[i])\n",
    "            lista_data_sentenca.append('-1')\n",
    "            processos_nao_sentenciados = processos_nao_sentenciados + 1\n",
    "            #print(f'data adicionada: {data_default_nao_sentenciados}')\n",
    "            #print(f'Processando: {i}: SEM movimentação do gabinete')\n",
    "    print(f'processos sentenciados: {processos_sentenciados}\\tprocessos não sentenciados: {processos_nao_sentenciados}')\n",
    "    return lista_data_sentenca"
   ]
  },
  {
   "cell_type": "code",
   "execution_count": null,
   "metadata": {},
   "outputs": [],
   "source": [
    "#print(calcular_data_sentenca(lista_movimentacoes_completa))\n",
    "print(len(lista_movimentacoes_completa), len(calcular_data_sentenca(lista_movimentacoes_completa)))"
   ]
  },
  {
   "cell_type": "code",
   "execution_count": null,
   "metadata": {},
   "outputs": [],
   "source": [
    "# funciona ok.\n",
    "def calcular_tempo_entre_movimentacoes(movimentacoes, mov_inicial, mov_final):\n",
    "    lista_duracao = list()\n",
    "    for i in range(0,(len(movimentacoes)),1):\n",
    "        #if i < 3:\n",
    "            #print(movimentacoes[i])\n",
    "        if ((len(movimentacoes[i]) > 3) and (len(movimentacoes[i]) >= mov_final)):\n",
    "            try:\n",
    "                duracao = abs(pd.to_datetime(movimentacoes[i][mov_final][2]) - pd.to_datetime(movimentacoes[i][mov_inicial][2]))/np.timedelta64(1, 'D')\n",
    "                lista_duracao.append(int(duracao))\n",
    "            except:\n",
    "                lista_duracao.append(int(-1))          \n",
    "\n",
    "        else: \n",
    "            lista_duracao.append(int(-1))\n",
    "            \n",
    "    return lista_duracao        "
   ]
  },
  {
   "cell_type": "code",
   "execution_count": null,
   "metadata": {},
   "outputs": [],
   "source": [
    "df_tjrn['data_sentenca'] = calcular_data_sentenca(lista_movimentacoes_completa)\n",
    "df_tjrn['movimentos'] = lista_movimentacoes_completa"
   ]
  },
  {
   "cell_type": "code",
   "execution_count": null,
   "metadata": {},
   "outputs": [],
   "source": [
    "def estatisticas_movimentacoes_processo(movimentacoes):\n",
    "    min = np.inf\n",
    "    max = 0\n",
    "    media = 0.0\n",
    "    lista_mov_processos = list()\n",
    "    for movimento in movimentacoes:\n",
    "        lista_mov_processos.append(len(movimento)/3)\n",
    "        if len(movimento)/3 > max:\n",
    "            max = len(movimento)/3\n",
    "        elif len(movimento)/3 < min:\n",
    "            min = len(movimento)/3\n",
    "        media += len(movimento)/3\n",
    "    media = media / len(movimentacoes)\n",
    "    return media, lista_mov_processos"
   ]
  },
  {
   "cell_type": "code",
   "execution_count": 116,
   "metadata": {},
   "outputs": [],
   "source": [
    "df_tjrn['tempo_entre_1e2_mov'] = calcular_tempo_entre_movimentacoes(df_tjrn['movimentos'].to_list(),0,1)\n",
    "df_tjrn['tempo_entre_2e3_mov'] = calcular_tempo_entre_movimentacoes(df_tjrn['movimentos'].to_list(),1,2)\n",
    "df_tjrn['tempo_entre_3e4_mov'] = calcular_tempo_entre_movimentacoes(df_tjrn['movimentos'].to_list(),2,3)\n",
    "#df_tjrn['tempo_entre_4e5_mov'] = calcular_tempo_entre_movimentacoes(df_tjrn['movimentos'].to_list(),4,5)\n",
    "\n",
    "df_tjrn['mais60d'] = (df_tjrn['tempo_entre_1e2_mov'] > 60) | (df_tjrn['tempo_entre_2e3_mov'] > 60) | (df_tjrn['tempo_entre_3e4_mov'] > 60) #| (df_tjrn['tempo_entre_4e5_mov'] > 60)\n",
    "df_tjrn['mais60d'].replace(['False','True'],[0,1],inplace=True)"
   ]
  },
  {
   "cell_type": "code",
   "execution_count": 117,
   "metadata": {},
   "outputs": [
    {
     "name": "stdout",
     "output_type": "stream",
     "text": [
      "mais60d\n",
      "False    21217\n",
      "True      4899\n",
      "Name: count, dtype: int64\n"
     ]
    }
   ],
   "source": [
    "print(df_tjrn['mais60d'].value_counts())"
   ]
  },
  {
   "cell_type": "code",
   "execution_count": null,
   "metadata": {},
   "outputs": [],
   "source": [
    "df_sentenciados = df_tjrn[df_tjrn['data_sentenca'] != '-1']\n",
    "df_sentenciados['tempo_ate_sentenca'] = abs(pd.to_datetime(df_sentenciados['data_sentenca']) - pd.to_datetime(df_sentenciados['data_ajuizamento']))/np.timedelta64(1, 'D')\n",
    "df_nao_sentenciados = df_tjrn[df_tjrn['data_sentenca'] == '-1']\n",
    "df_nao_sentenciados['tempo_ate_sentenca'] = 0"
   ]
  },
  {
   "cell_type": "code",
   "execution_count": null,
   "metadata": {},
   "outputs": [],
   "source": [
    "print(df_sentenciados.shape)\n",
    "print(df_nao_sentenciados.shape)\n",
    "print(df_tjrn.shape)"
   ]
  },
  {
   "cell_type": "code",
   "execution_count": null,
   "metadata": {},
   "outputs": [],
   "source": [
    "df_tjrn = pd.concat([df_sentenciados, df_nao_sentenciados])\n",
    "#print(df_tjrn.head(1))"
   ]
  },
  {
   "cell_type": "markdown",
   "metadata": {},
   "source": [
    "## EDA"
   ]
  },
  {
   "cell_type": "code",
   "execution_count": null,
   "metadata": {},
   "outputs": [],
   "source": [
    "df_tjrn.isna().sum()"
   ]
  },
  {
   "cell_type": "code",
   "execution_count": null,
   "metadata": {},
   "outputs": [],
   "source": [
    "df_tjrn.info()"
   ]
  },
  {
   "cell_type": "code",
   "execution_count": null,
   "metadata": {},
   "outputs": [],
   "source": [
    "#print(df_sentenciados.shape[0], df_nao_sentenciados.shape[0])\n",
    "percentual_sentenciados = (int(df_sentenciados.shape[0])/int(df_nao_sentenciados.shape[0]) * 100)\n",
    "percentual_sentenciados = float(\"{:.4f}\".format(percentual_sentenciados))\n",
    "print(f'Percentual da base de casos sentenciados: {percentual_sentenciados}%')"
   ]
  },
  {
   "cell_type": "code",
   "execution_count": null,
   "metadata": {},
   "outputs": [],
   "source": [
    "fig = px.histogram(df_sentenciados, x='data_ajuizamento', marginal='rug', title='Distribuição dos processos já sentenciados pela data de ajuizamento')\n",
    "fig.show()"
   ]
  },
  {
   "cell_type": "code",
   "execution_count": null,
   "metadata": {},
   "outputs": [],
   "source": [
    "fig = px.histogram(df_nao_sentenciados, x='data_ajuizamento', marginal='rug', title='Distribuição dos processos ainda não sentenciados pela data de ajuizamento')\n",
    "fig.show()"
   ]
  },
  {
   "cell_type": "code",
   "execution_count": null,
   "metadata": {},
   "outputs": [],
   "source": [
    "fig = px.histogram(df_sentenciados, x='tempo_ate_sentenca', marginal='rug', title='Distribuição do tempo até a sentença')\n",
    "fig.show()"
   ]
  },
  {
   "cell_type": "code",
   "execution_count": null,
   "metadata": {},
   "outputs": [],
   "source": [
    "media, lista_mov_processos = estatisticas_movimentacoes_processo(df_sentenciados['movimentos'].to_list())\n",
    "print(f'Média de movimentações por processo: {media}')\n",
    "fig = px.histogram(lista_mov_processos, marginal='rug', title='Distribuição do número de movimentações por processo',\n",
    "                   nbins=math.ceil((media *2)), labels={'x':'Movimentações', 'y':'Ocorrências'}).update_layout(\n",
    "    yaxis_title=\"Ocorrências\", xaxis_title=\"Movimentações\")\n",
    "fig.show()"
   ]
  },
  {
   "cell_type": "code",
   "execution_count": 133,
   "metadata": {},
   "outputs": [
    {
     "data": {
      "application/vnd.plotly.v1+json": {
       "config": {
        "plotlyServerURL": "https://plot.ly"
       },
       "data": [
        {
         "marker": {
          "color": "indianred"
         },
         "name": "2ª e 3ª movimentação",
         "type": "box",
         "y": [
          52,
          1,
          3,
          2,
          1,
          3,
          1,
          4,
          3,
          5,
          3,
          1,
          0,
          1,
          3,
          1,
          1,
          1,
          2,
          0,
          4,
          1,
          1,
          2,
          0,
          4,
          5,
          1,
          21,
          0,
          0,
          0,
          4,
          7,
          1,
          30,
          0,
          2,
          1,
          1,
          1,
          4,
          4,
          6,
          0,
          0,
          1,
          0,
          7,
          15,
          2,
          4,
          4,
          5,
          1,
          2,
          6,
          1,
          1,
          0,
          4,
          0,
          2,
          0,
          0,
          2,
          1,
          2,
          0,
          9,
          1,
          1,
          1,
          6,
          2,
          1,
          1,
          1,
          0,
          5,
          4,
          0,
          9,
          5,
          1,
          1,
          16,
          6,
          2,
          1,
          1,
          1,
          4,
          1,
          0,
          1,
          1,
          1,
          1,
          1,
          4,
          3,
          0,
          3,
          6,
          1,
          4,
          0,
          1,
          2,
          3,
          1,
          5,
          1,
          2,
          5,
          5,
          2,
          1,
          15,
          20,
          5,
          6,
          3,
          1,
          0,
          17,
          2,
          0,
          1,
          1,
          2,
          4,
          3,
          1,
          1,
          0,
          2,
          12,
          1,
          5,
          2,
          0,
          1,
          1,
          1,
          1,
          1,
          4,
          0,
          1,
          9,
          2,
          1,
          4,
          11,
          4,
          0,
          2,
          0,
          1,
          3,
          5,
          12,
          5,
          3,
          5,
          1,
          4,
          6,
          4,
          0,
          3,
          2,
          4,
          0,
          4,
          7,
          4,
          7,
          12,
          9,
          6,
          0,
          0,
          3,
          1,
          1,
          8,
          1,
          0,
          0,
          2,
          1,
          2,
          1,
          3,
          6,
          1,
          0,
          1,
          1,
          2,
          0,
          3,
          1,
          2,
          3,
          3,
          3,
          21,
          3,
          0,
          5,
          0,
          2,
          7,
          1,
          0,
          1,
          4,
          0,
          1,
          1,
          1,
          1,
          1,
          1,
          4,
          5,
          3,
          1,
          1,
          1,
          0,
          7,
          0,
          1,
          3,
          3,
          1,
          1,
          6,
          5,
          21,
          2,
          2,
          0,
          2,
          0,
          5,
          1,
          1,
          0,
          1,
          0,
          0,
          2,
          0,
          3,
          1,
          1,
          1,
          1,
          0,
          1,
          1,
          0,
          2,
          1,
          1,
          1,
          1,
          1,
          0,
          0,
          1,
          1,
          1,
          18,
          3,
          4,
          0,
          1,
          0,
          0,
          7,
          2,
          1,
          2,
          4,
          1,
          1,
          28,
          3,
          0,
          3,
          1,
          0,
          0,
          1,
          1,
          1,
          0,
          1,
          0,
          4,
          1,
          1,
          1,
          22,
          2,
          1,
          3,
          6,
          1,
          1,
          0,
          3,
          0,
          1,
          1,
          1,
          3,
          2,
          1,
          2,
          11,
          59,
          2,
          9,
          0,
          1,
          1,
          2,
          0,
          0,
          1,
          15,
          0,
          1,
          4,
          1,
          1,
          1,
          0,
          15,
          0,
          4,
          0,
          0,
          4,
          1,
          1,
          2,
          2,
          1,
          1,
          0,
          1,
          3,
          5,
          3,
          1,
          0,
          1,
          1,
          4,
          0,
          30,
          0,
          1,
          1,
          4,
          5,
          1,
          30,
          0,
          5,
          7,
          0,
          0,
          3,
          1,
          0,
          1,
          4,
          0,
          1,
          3,
          0,
          6,
          0,
          0,
          2,
          2,
          1,
          1,
          3,
          0,
          1,
          1,
          2,
          0,
          0,
          3,
          1,
          3,
          4,
          1,
          2,
          8,
          20,
          1,
          1,
          21,
          1,
          1,
          1,
          3,
          2,
          0,
          0,
          0,
          2,
          1,
          0,
          2,
          1,
          1,
          14,
          0,
          0,
          2,
          0,
          0,
          5,
          2,
          1,
          21,
          4,
          1,
          4,
          4,
          0,
          1,
          2,
          10,
          4,
          6,
          1,
          0,
          0,
          0,
          3,
          5,
          2,
          0,
          2,
          26,
          2,
          3,
          0,
          1,
          1,
          0,
          2,
          0,
          0,
          2,
          0,
          1,
          1,
          2,
          2,
          0,
          0,
          11,
          1,
          2,
          4,
          1,
          0,
          1,
          3,
          1,
          1,
          0,
          0,
          21,
          1,
          0,
          0,
          0,
          0,
          2,
          2,
          3,
          1,
          2,
          1,
          20,
          1,
          1,
          1,
          1,
          2,
          2,
          1,
          7,
          5,
          4,
          1,
          1,
          0,
          2,
          1,
          4,
          3,
          0,
          2,
          20,
          1,
          5,
          0,
          1,
          0,
          0,
          2,
          9,
          2,
          0,
          1,
          8,
          11,
          0,
          1,
          1,
          0,
          1,
          0,
          15,
          5,
          1,
          0,
          1,
          1,
          5,
          4,
          1,
          2,
          1,
          1,
          1,
          4,
          1,
          1,
          1,
          0,
          1,
          1,
          0,
          0,
          1,
          0,
          1,
          6,
          1,
          10,
          1,
          7,
          7,
          10,
          0,
          1,
          1,
          0,
          1,
          5,
          1,
          2,
          1,
          1,
          9,
          2,
          13,
          1,
          52,
          3,
          4,
          6,
          4,
          16,
          1,
          1,
          6,
          0,
          1,
          1,
          2,
          8,
          0,
          1,
          1,
          2,
          3,
          0,
          1,
          1,
          1,
          3,
          0,
          1,
          2,
          0,
          0,
          3,
          6,
          3,
          0,
          3,
          0,
          0,
          3,
          1,
          3,
          0,
          4,
          11,
          2,
          1,
          0,
          1,
          0,
          1,
          5,
          1,
          0,
          1,
          1,
          5,
          5,
          1,
          2,
          2,
          4,
          1,
          5,
          0,
          1,
          0,
          3,
          3,
          3,
          3,
          1,
          1,
          1,
          3,
          2,
          4,
          1,
          1,
          1,
          2,
          0,
          3,
          0,
          51,
          1,
          2,
          0,
          37,
          0,
          0,
          9,
          3,
          1,
          1,
          3,
          4,
          5,
          0,
          1,
          1,
          9,
          11,
          1,
          3,
          2,
          5,
          0,
          1,
          3,
          5,
          2,
          2,
          1,
          0,
          1,
          3,
          0
         ]
        },
        {
         "marker": {
          "color": "lightseagreen"
         },
         "name": "3ª e 4ª movimentação",
         "type": "box",
         "y": [
          28,
          0,
          0,
          14,
          1,
          5,
          8,
          15,
          1,
          2,
          0,
          0,
          15,
          77,
          16,
          4,
          0,
          50,
          117,
          1,
          1,
          1,
          10,
          44,
          13,
          0,
          6,
          6,
          26,
          1,
          1,
          8,
          4,
          1,
          16,
          3,
          0,
          15,
          0,
          26,
          35,
          4,
          24,
          28,
          32,
          1,
          0,
          3,
          12,
          2,
          1,
          4,
          10,
          7,
          0,
          4,
          17,
          6,
          6,
          61,
          0,
          4,
          2,
          1,
          0,
          30,
          3,
          53,
          0,
          6,
          4,
          27,
          8,
          1,
          6,
          15,
          0,
          0,
          1,
          0,
          0,
          3,
          11,
          0,
          6,
          23,
          7,
          1,
          5,
          0,
          0,
          33,
          3,
          9,
          4,
          0,
          0,
          8,
          1,
          0,
          10,
          24,
          1,
          30,
          6,
          24,
          6,
          0,
          25,
          1,
          7,
          4,
          2,
          9,
          9,
          2,
          11,
          2,
          21,
          3,
          26,
          2,
          4,
          0,
          10,
          4,
          33,
          9,
          5,
          7,
          34,
          83,
          26,
          2,
          9,
          4,
          0,
          1,
          1,
          12,
          84,
          0,
          21,
          2,
          14,
          0,
          0,
          9,
          20,
          0,
          2,
          34,
          13,
          23,
          50,
          1,
          21,
          14,
          6,
          1,
          4,
          0,
          0,
          8,
          7,
          6,
          29,
          90,
          6,
          5,
          65,
          3,
          30,
          0,
          0,
          0,
          28,
          8,
          7,
          4,
          8,
          21,
          12,
          8,
          9,
          15,
          1,
          6,
          3,
          0,
          3,
          6,
          1,
          6,
          4,
          28,
          0,
          4,
          8,
          1,
          16,
          0,
          5,
          2,
          4,
          0,
          0,
          2,
          8,
          1,
          33,
          14,
          14,
          16,
          4,
          2,
          1,
          32,
          1,
          0,
          2,
          17,
          26,
          0,
          1,
          0,
          4,
          0,
          1,
          0,
          75,
          1,
          1,
          13,
          6,
          10,
          4,
          5,
          0,
          6,
          16,
          16,
          28,
          2,
          0,
          2,
          0,
          7,
          32,
          2,
          6,
          1,
          6,
          2,
          4,
          0,
          3,
          57,
          37,
          0,
          8,
          15,
          7,
          4,
          8,
          12,
          3,
          10,
          1,
          0,
          5,
          3,
          9,
          2,
          2,
          1,
          3,
          2,
          3,
          2,
          0,
          31,
          1,
          6,
          6,
          16,
          8,
          16,
          0,
          8,
          6,
          2,
          10,
          7,
          24,
          4,
          1,
          139,
          1,
          13,
          2,
          4,
          7,
          6,
          7,
          4,
          0,
          15,
          22,
          1,
          5,
          3,
          90,
          1,
          2,
          1,
          7,
          14,
          0,
          5,
          24,
          9,
          6,
          1,
          23,
          3,
          0,
          2,
          35,
          1,
          11,
          3,
          8,
          33,
          1,
          7,
          0,
          16,
          2,
          17,
          3,
          8,
          0,
          0,
          1,
          2,
          0,
          1,
          0,
          2,
          2,
          4,
          7,
          0,
          0,
          0,
          4,
          27,
          4,
          159,
          4,
          18,
          1,
          10,
          7,
          19,
          6,
          2,
          2,
          3,
          1,
          0,
          0,
          0,
          2,
          1,
          4,
          0,
          0,
          7,
          36,
          1,
          9,
          1,
          1,
          0,
          1,
          0,
          24,
          39,
          2,
          0,
          8,
          3,
          37,
          37,
          1,
          1,
          7,
          47,
          5,
          2,
          0,
          3,
          1,
          7,
          1,
          0,
          26,
          0,
          3,
          1,
          9,
          15,
          46,
          6,
          1,
          2,
          10,
          2,
          5,
          1,
          2,
          1,
          5,
          4,
          7,
          7,
          0,
          4,
          26,
          2,
          4,
          0,
          5,
          1,
          13,
          16,
          0,
          0,
          0,
          13,
          12,
          24,
          1,
          4,
          35,
          4,
          15,
          1,
          34,
          2,
          1,
          4,
          16,
          7,
          1,
          2,
          117,
          10,
          27,
          5,
          2,
          1,
          25,
          1,
          83,
          1,
          19,
          0,
          1,
          4,
          0,
          1,
          2,
          21,
          0,
          7,
          13,
          0,
          3,
          47,
          3,
          0,
          7,
          0,
          6,
          5,
          3,
          1,
          5,
          0,
          2,
          1,
          0,
          1,
          4,
          17,
          3,
          3,
          0,
          26,
          1,
          35,
          29,
          12,
          34,
          8,
          33,
          8,
          5,
          4,
          12,
          14,
          14,
          14,
          17,
          73,
          1,
          1,
          1,
          30,
          1,
          50,
          0,
          24,
          0,
          2,
          2,
          1,
          7,
          0,
          7,
          13,
          2,
          0,
          36,
          4,
          15,
          2,
          21,
          35,
          4,
          0,
          3,
          24,
          0,
          2,
          16,
          0,
          5,
          39,
          5,
          5,
          0,
          1,
          30,
          1,
          0,
          0,
          3,
          0,
          1,
          24,
          16,
          26,
          28,
          4,
          2,
          0,
          12,
          12,
          5,
          3,
          0,
          1,
          3,
          1,
          56,
          16,
          11,
          27,
          4,
          6,
          70,
          3,
          77,
          28,
          31,
          0,
          28,
          20,
          7,
          0,
          5,
          18,
          3,
          0,
          7,
          53,
          1,
          7,
          46,
          6,
          12,
          43,
          33,
          0,
          26,
          32,
          0,
          0,
          0,
          5,
          1,
          1,
          0,
          16,
          25,
          1,
          0,
          7,
          1,
          24,
          15,
          2,
          22,
          4,
          1,
          0,
          20,
          2,
          1,
          61,
          12,
          11,
          5,
          1,
          8,
          58,
          1,
          0,
          24,
          5,
          16,
          10,
          27,
          3,
          97,
          1,
          1,
          0,
          67,
          67,
          0,
          5,
          0,
          50,
          24,
          4,
          3,
          12,
          20,
          20,
          4,
          32,
          0,
          1,
          2,
          9,
          44,
          14,
          12,
          4,
          1,
          34,
          30,
          2,
          0,
          0,
          0,
          1,
          3,
          7,
          10,
          1,
          17,
          9,
          4,
          2,
          44,
          3,
          0,
          33,
          7,
          12,
          9,
          2,
          12,
          1,
          0,
          1
         ]
        }
       ],
       "layout": {
        "template": {
         "data": {
          "bar": [
           {
            "error_x": {
             "color": "#2a3f5f"
            },
            "error_y": {
             "color": "#2a3f5f"
            },
            "marker": {
             "line": {
              "color": "#E5ECF6",
              "width": 0.5
             },
             "pattern": {
              "fillmode": "overlay",
              "size": 10,
              "solidity": 0.2
             }
            },
            "type": "bar"
           }
          ],
          "barpolar": [
           {
            "marker": {
             "line": {
              "color": "#E5ECF6",
              "width": 0.5
             },
             "pattern": {
              "fillmode": "overlay",
              "size": 10,
              "solidity": 0.2
             }
            },
            "type": "barpolar"
           }
          ],
          "carpet": [
           {
            "aaxis": {
             "endlinecolor": "#2a3f5f",
             "gridcolor": "white",
             "linecolor": "white",
             "minorgridcolor": "white",
             "startlinecolor": "#2a3f5f"
            },
            "baxis": {
             "endlinecolor": "#2a3f5f",
             "gridcolor": "white",
             "linecolor": "white",
             "minorgridcolor": "white",
             "startlinecolor": "#2a3f5f"
            },
            "type": "carpet"
           }
          ],
          "choropleth": [
           {
            "colorbar": {
             "outlinewidth": 0,
             "ticks": ""
            },
            "type": "choropleth"
           }
          ],
          "contour": [
           {
            "colorbar": {
             "outlinewidth": 0,
             "ticks": ""
            },
            "colorscale": [
             [
              0,
              "#0d0887"
             ],
             [
              0.1111111111111111,
              "#46039f"
             ],
             [
              0.2222222222222222,
              "#7201a8"
             ],
             [
              0.3333333333333333,
              "#9c179e"
             ],
             [
              0.4444444444444444,
              "#bd3786"
             ],
             [
              0.5555555555555556,
              "#d8576b"
             ],
             [
              0.6666666666666666,
              "#ed7953"
             ],
             [
              0.7777777777777778,
              "#fb9f3a"
             ],
             [
              0.8888888888888888,
              "#fdca26"
             ],
             [
              1,
              "#f0f921"
             ]
            ],
            "type": "contour"
           }
          ],
          "contourcarpet": [
           {
            "colorbar": {
             "outlinewidth": 0,
             "ticks": ""
            },
            "type": "contourcarpet"
           }
          ],
          "heatmap": [
           {
            "colorbar": {
             "outlinewidth": 0,
             "ticks": ""
            },
            "colorscale": [
             [
              0,
              "#0d0887"
             ],
             [
              0.1111111111111111,
              "#46039f"
             ],
             [
              0.2222222222222222,
              "#7201a8"
             ],
             [
              0.3333333333333333,
              "#9c179e"
             ],
             [
              0.4444444444444444,
              "#bd3786"
             ],
             [
              0.5555555555555556,
              "#d8576b"
             ],
             [
              0.6666666666666666,
              "#ed7953"
             ],
             [
              0.7777777777777778,
              "#fb9f3a"
             ],
             [
              0.8888888888888888,
              "#fdca26"
             ],
             [
              1,
              "#f0f921"
             ]
            ],
            "type": "heatmap"
           }
          ],
          "heatmapgl": [
           {
            "colorbar": {
             "outlinewidth": 0,
             "ticks": ""
            },
            "colorscale": [
             [
              0,
              "#0d0887"
             ],
             [
              0.1111111111111111,
              "#46039f"
             ],
             [
              0.2222222222222222,
              "#7201a8"
             ],
             [
              0.3333333333333333,
              "#9c179e"
             ],
             [
              0.4444444444444444,
              "#bd3786"
             ],
             [
              0.5555555555555556,
              "#d8576b"
             ],
             [
              0.6666666666666666,
              "#ed7953"
             ],
             [
              0.7777777777777778,
              "#fb9f3a"
             ],
             [
              0.8888888888888888,
              "#fdca26"
             ],
             [
              1,
              "#f0f921"
             ]
            ],
            "type": "heatmapgl"
           }
          ],
          "histogram": [
           {
            "marker": {
             "pattern": {
              "fillmode": "overlay",
              "size": 10,
              "solidity": 0.2
             }
            },
            "type": "histogram"
           }
          ],
          "histogram2d": [
           {
            "colorbar": {
             "outlinewidth": 0,
             "ticks": ""
            },
            "colorscale": [
             [
              0,
              "#0d0887"
             ],
             [
              0.1111111111111111,
              "#46039f"
             ],
             [
              0.2222222222222222,
              "#7201a8"
             ],
             [
              0.3333333333333333,
              "#9c179e"
             ],
             [
              0.4444444444444444,
              "#bd3786"
             ],
             [
              0.5555555555555556,
              "#d8576b"
             ],
             [
              0.6666666666666666,
              "#ed7953"
             ],
             [
              0.7777777777777778,
              "#fb9f3a"
             ],
             [
              0.8888888888888888,
              "#fdca26"
             ],
             [
              1,
              "#f0f921"
             ]
            ],
            "type": "histogram2d"
           }
          ],
          "histogram2dcontour": [
           {
            "colorbar": {
             "outlinewidth": 0,
             "ticks": ""
            },
            "colorscale": [
             [
              0,
              "#0d0887"
             ],
             [
              0.1111111111111111,
              "#46039f"
             ],
             [
              0.2222222222222222,
              "#7201a8"
             ],
             [
              0.3333333333333333,
              "#9c179e"
             ],
             [
              0.4444444444444444,
              "#bd3786"
             ],
             [
              0.5555555555555556,
              "#d8576b"
             ],
             [
              0.6666666666666666,
              "#ed7953"
             ],
             [
              0.7777777777777778,
              "#fb9f3a"
             ],
             [
              0.8888888888888888,
              "#fdca26"
             ],
             [
              1,
              "#f0f921"
             ]
            ],
            "type": "histogram2dcontour"
           }
          ],
          "mesh3d": [
           {
            "colorbar": {
             "outlinewidth": 0,
             "ticks": ""
            },
            "type": "mesh3d"
           }
          ],
          "parcoords": [
           {
            "line": {
             "colorbar": {
              "outlinewidth": 0,
              "ticks": ""
             }
            },
            "type": "parcoords"
           }
          ],
          "pie": [
           {
            "automargin": true,
            "type": "pie"
           }
          ],
          "scatter": [
           {
            "fillpattern": {
             "fillmode": "overlay",
             "size": 10,
             "solidity": 0.2
            },
            "type": "scatter"
           }
          ],
          "scatter3d": [
           {
            "line": {
             "colorbar": {
              "outlinewidth": 0,
              "ticks": ""
             }
            },
            "marker": {
             "colorbar": {
              "outlinewidth": 0,
              "ticks": ""
             }
            },
            "type": "scatter3d"
           }
          ],
          "scattercarpet": [
           {
            "marker": {
             "colorbar": {
              "outlinewidth": 0,
              "ticks": ""
             }
            },
            "type": "scattercarpet"
           }
          ],
          "scattergeo": [
           {
            "marker": {
             "colorbar": {
              "outlinewidth": 0,
              "ticks": ""
             }
            },
            "type": "scattergeo"
           }
          ],
          "scattergl": [
           {
            "marker": {
             "colorbar": {
              "outlinewidth": 0,
              "ticks": ""
             }
            },
            "type": "scattergl"
           }
          ],
          "scattermapbox": [
           {
            "marker": {
             "colorbar": {
              "outlinewidth": 0,
              "ticks": ""
             }
            },
            "type": "scattermapbox"
           }
          ],
          "scatterpolar": [
           {
            "marker": {
             "colorbar": {
              "outlinewidth": 0,
              "ticks": ""
             }
            },
            "type": "scatterpolar"
           }
          ],
          "scatterpolargl": [
           {
            "marker": {
             "colorbar": {
              "outlinewidth": 0,
              "ticks": ""
             }
            },
            "type": "scatterpolargl"
           }
          ],
          "scatterternary": [
           {
            "marker": {
             "colorbar": {
              "outlinewidth": 0,
              "ticks": ""
             }
            },
            "type": "scatterternary"
           }
          ],
          "surface": [
           {
            "colorbar": {
             "outlinewidth": 0,
             "ticks": ""
            },
            "colorscale": [
             [
              0,
              "#0d0887"
             ],
             [
              0.1111111111111111,
              "#46039f"
             ],
             [
              0.2222222222222222,
              "#7201a8"
             ],
             [
              0.3333333333333333,
              "#9c179e"
             ],
             [
              0.4444444444444444,
              "#bd3786"
             ],
             [
              0.5555555555555556,
              "#d8576b"
             ],
             [
              0.6666666666666666,
              "#ed7953"
             ],
             [
              0.7777777777777778,
              "#fb9f3a"
             ],
             [
              0.8888888888888888,
              "#fdca26"
             ],
             [
              1,
              "#f0f921"
             ]
            ],
            "type": "surface"
           }
          ],
          "table": [
           {
            "cells": {
             "fill": {
              "color": "#EBF0F8"
             },
             "line": {
              "color": "white"
             }
            },
            "header": {
             "fill": {
              "color": "#C8D4E3"
             },
             "line": {
              "color": "white"
             }
            },
            "type": "table"
           }
          ]
         },
         "layout": {
          "annotationdefaults": {
           "arrowcolor": "#2a3f5f",
           "arrowhead": 0,
           "arrowwidth": 1
          },
          "autotypenumbers": "strict",
          "coloraxis": {
           "colorbar": {
            "outlinewidth": 0,
            "ticks": ""
           }
          },
          "colorscale": {
           "diverging": [
            [
             0,
             "#8e0152"
            ],
            [
             0.1,
             "#c51b7d"
            ],
            [
             0.2,
             "#de77ae"
            ],
            [
             0.3,
             "#f1b6da"
            ],
            [
             0.4,
             "#fde0ef"
            ],
            [
             0.5,
             "#f7f7f7"
            ],
            [
             0.6,
             "#e6f5d0"
            ],
            [
             0.7,
             "#b8e186"
            ],
            [
             0.8,
             "#7fbc41"
            ],
            [
             0.9,
             "#4d9221"
            ],
            [
             1,
             "#276419"
            ]
           ],
           "sequential": [
            [
             0,
             "#0d0887"
            ],
            [
             0.1111111111111111,
             "#46039f"
            ],
            [
             0.2222222222222222,
             "#7201a8"
            ],
            [
             0.3333333333333333,
             "#9c179e"
            ],
            [
             0.4444444444444444,
             "#bd3786"
            ],
            [
             0.5555555555555556,
             "#d8576b"
            ],
            [
             0.6666666666666666,
             "#ed7953"
            ],
            [
             0.7777777777777778,
             "#fb9f3a"
            ],
            [
             0.8888888888888888,
             "#fdca26"
            ],
            [
             1,
             "#f0f921"
            ]
           ],
           "sequentialminus": [
            [
             0,
             "#0d0887"
            ],
            [
             0.1111111111111111,
             "#46039f"
            ],
            [
             0.2222222222222222,
             "#7201a8"
            ],
            [
             0.3333333333333333,
             "#9c179e"
            ],
            [
             0.4444444444444444,
             "#bd3786"
            ],
            [
             0.5555555555555556,
             "#d8576b"
            ],
            [
             0.6666666666666666,
             "#ed7953"
            ],
            [
             0.7777777777777778,
             "#fb9f3a"
            ],
            [
             0.8888888888888888,
             "#fdca26"
            ],
            [
             1,
             "#f0f921"
            ]
           ]
          },
          "colorway": [
           "#636efa",
           "#EF553B",
           "#00cc96",
           "#ab63fa",
           "#FFA15A",
           "#19d3f3",
           "#FF6692",
           "#B6E880",
           "#FF97FF",
           "#FECB52"
          ],
          "font": {
           "color": "#2a3f5f"
          },
          "geo": {
           "bgcolor": "white",
           "lakecolor": "white",
           "landcolor": "#E5ECF6",
           "showlakes": true,
           "showland": true,
           "subunitcolor": "white"
          },
          "hoverlabel": {
           "align": "left"
          },
          "hovermode": "closest",
          "mapbox": {
           "style": "light"
          },
          "paper_bgcolor": "white",
          "plot_bgcolor": "#E5ECF6",
          "polar": {
           "angularaxis": {
            "gridcolor": "white",
            "linecolor": "white",
            "ticks": ""
           },
           "bgcolor": "#E5ECF6",
           "radialaxis": {
            "gridcolor": "white",
            "linecolor": "white",
            "ticks": ""
           }
          },
          "scene": {
           "xaxis": {
            "backgroundcolor": "#E5ECF6",
            "gridcolor": "white",
            "gridwidth": 2,
            "linecolor": "white",
            "showbackground": true,
            "ticks": "",
            "zerolinecolor": "white"
           },
           "yaxis": {
            "backgroundcolor": "#E5ECF6",
            "gridcolor": "white",
            "gridwidth": 2,
            "linecolor": "white",
            "showbackground": true,
            "ticks": "",
            "zerolinecolor": "white"
           },
           "zaxis": {
            "backgroundcolor": "#E5ECF6",
            "gridcolor": "white",
            "gridwidth": 2,
            "linecolor": "white",
            "showbackground": true,
            "ticks": "",
            "zerolinecolor": "white"
           }
          },
          "shapedefaults": {
           "line": {
            "color": "#2a3f5f"
           }
          },
          "ternary": {
           "aaxis": {
            "gridcolor": "white",
            "linecolor": "white",
            "ticks": ""
           },
           "baxis": {
            "gridcolor": "white",
            "linecolor": "white",
            "ticks": ""
           },
           "bgcolor": "#E5ECF6",
           "caxis": {
            "gridcolor": "white",
            "linecolor": "white",
            "ticks": ""
           }
          },
          "title": {
           "x": 0.05
          },
          "xaxis": {
           "automargin": true,
           "gridcolor": "white",
           "linecolor": "white",
           "ticks": "",
           "title": {
            "standoff": 15
           },
           "zerolinecolor": "white",
           "zerolinewidth": 2
          },
          "yaxis": {
           "automargin": true,
           "gridcolor": "white",
           "linecolor": "white",
           "ticks": "",
           "title": {
            "standoff": 15
           },
           "zerolinecolor": "white",
           "zerolinewidth": 2
          }
         }
        },
        "title": {
         "text": "Distribuição do tempo necessário para realizar as duas primeiras movimentações processuais"
        }
       }
      },
      "text/html": [
       "<div>                            <div id=\"73942fd6-1e65-4708-b8f4-fb0a5844946b\" class=\"plotly-graph-div\" style=\"height:525px; width:100%;\"></div>            <script type=\"text/javascript\">                require([\"plotly\"], function(Plotly) {                    window.PLOTLYENV=window.PLOTLYENV || {};                                    if (document.getElementById(\"73942fd6-1e65-4708-b8f4-fb0a5844946b\")) {                    Plotly.newPlot(                        \"73942fd6-1e65-4708-b8f4-fb0a5844946b\",                        [{\"marker\":{\"color\":\"indianred\"},\"name\":\"2\\u00aa e 3\\u00aa movimenta\\u00e7\\u00e3o\",\"y\":[52,1,3,2,1,3,1,4,3,5,3,1,0,1,3,1,1,1,2,0,4,1,1,2,0,4,5,1,21,0,0,0,4,7,1,30,0,2,1,1,1,4,4,6,0,0,1,0,7,15,2,4,4,5,1,2,6,1,1,0,4,0,2,0,0,2,1,2,0,9,1,1,1,6,2,1,1,1,0,5,4,0,9,5,1,1,16,6,2,1,1,1,4,1,0,1,1,1,1,1,4,3,0,3,6,1,4,0,1,2,3,1,5,1,2,5,5,2,1,15,20,5,6,3,1,0,17,2,0,1,1,2,4,3,1,1,0,2,12,1,5,2,0,1,1,1,1,1,4,0,1,9,2,1,4,11,4,0,2,0,1,3,5,12,5,3,5,1,4,6,4,0,3,2,4,0,4,7,4,7,12,9,6,0,0,3,1,1,8,1,0,0,2,1,2,1,3,6,1,0,1,1,2,0,3,1,2,3,3,3,21,3,0,5,0,2,7,1,0,1,4,0,1,1,1,1,1,1,4,5,3,1,1,1,0,7,0,1,3,3,1,1,6,5,21,2,2,0,2,0,5,1,1,0,1,0,0,2,0,3,1,1,1,1,0,1,1,0,2,1,1,1,1,1,0,0,1,1,1,18,3,4,0,1,0,0,7,2,1,2,4,1,1,28,3,0,3,1,0,0,1,1,1,0,1,0,4,1,1,1,22,2,1,3,6,1,1,0,3,0,1,1,1,3,2,1,2,11,59,2,9,0,1,1,2,0,0,1,15,0,1,4,1,1,1,0,15,0,4,0,0,4,1,1,2,2,1,1,0,1,3,5,3,1,0,1,1,4,0,30,0,1,1,4,5,1,30,0,5,7,0,0,3,1,0,1,4,0,1,3,0,6,0,0,2,2,1,1,3,0,1,1,2,0,0,3,1,3,4,1,2,8,20,1,1,21,1,1,1,3,2,0,0,0,2,1,0,2,1,1,14,0,0,2,0,0,5,2,1,21,4,1,4,4,0,1,2,10,4,6,1,0,0,0,3,5,2,0,2,26,2,3,0,1,1,0,2,0,0,2,0,1,1,2,2,0,0,11,1,2,4,1,0,1,3,1,1,0,0,21,1,0,0,0,0,2,2,3,1,2,1,20,1,1,1,1,2,2,1,7,5,4,1,1,0,2,1,4,3,0,2,20,1,5,0,1,0,0,2,9,2,0,1,8,11,0,1,1,0,1,0,15,5,1,0,1,1,5,4,1,2,1,1,1,4,1,1,1,0,1,1,0,0,1,0,1,6,1,10,1,7,7,10,0,1,1,0,1,5,1,2,1,1,9,2,13,1,52,3,4,6,4,16,1,1,6,0,1,1,2,8,0,1,1,2,3,0,1,1,1,3,0,1,2,0,0,3,6,3,0,3,0,0,3,1,3,0,4,11,2,1,0,1,0,1,5,1,0,1,1,5,5,1,2,2,4,1,5,0,1,0,3,3,3,3,1,1,1,3,2,4,1,1,1,2,0,3,0,51,1,2,0,37,0,0,9,3,1,1,3,4,5,0,1,1,9,11,1,3,2,5,0,1,3,5,2,2,1,0,1,3,0],\"type\":\"box\"},{\"marker\":{\"color\":\"lightseagreen\"},\"name\":\"3\\u00aa e 4\\u00aa movimenta\\u00e7\\u00e3o\",\"y\":[28,0,0,14,1,5,8,15,1,2,0,0,15,77,16,4,0,50,117,1,1,1,10,44,13,0,6,6,26,1,1,8,4,1,16,3,0,15,0,26,35,4,24,28,32,1,0,3,12,2,1,4,10,7,0,4,17,6,6,61,0,4,2,1,0,30,3,53,0,6,4,27,8,1,6,15,0,0,1,0,0,3,11,0,6,23,7,1,5,0,0,33,3,9,4,0,0,8,1,0,10,24,1,30,6,24,6,0,25,1,7,4,2,9,9,2,11,2,21,3,26,2,4,0,10,4,33,9,5,7,34,83,26,2,9,4,0,1,1,12,84,0,21,2,14,0,0,9,20,0,2,34,13,23,50,1,21,14,6,1,4,0,0,8,7,6,29,90,6,5,65,3,30,0,0,0,28,8,7,4,8,21,12,8,9,15,1,6,3,0,3,6,1,6,4,28,0,4,8,1,16,0,5,2,4,0,0,2,8,1,33,14,14,16,4,2,1,32,1,0,2,17,26,0,1,0,4,0,1,0,75,1,1,13,6,10,4,5,0,6,16,16,28,2,0,2,0,7,32,2,6,1,6,2,4,0,3,57,37,0,8,15,7,4,8,12,3,10,1,0,5,3,9,2,2,1,3,2,3,2,0,31,1,6,6,16,8,16,0,8,6,2,10,7,24,4,1,139,1,13,2,4,7,6,7,4,0,15,22,1,5,3,90,1,2,1,7,14,0,5,24,9,6,1,23,3,0,2,35,1,11,3,8,33,1,7,0,16,2,17,3,8,0,0,1,2,0,1,0,2,2,4,7,0,0,0,4,27,4,159,4,18,1,10,7,19,6,2,2,3,1,0,0,0,2,1,4,0,0,7,36,1,9,1,1,0,1,0,24,39,2,0,8,3,37,37,1,1,7,47,5,2,0,3,1,7,1,0,26,0,3,1,9,15,46,6,1,2,10,2,5,1,2,1,5,4,7,7,0,4,26,2,4,0,5,1,13,16,0,0,0,13,12,24,1,4,35,4,15,1,34,2,1,4,16,7,1,2,117,10,27,5,2,1,25,1,83,1,19,0,1,4,0,1,2,21,0,7,13,0,3,47,3,0,7,0,6,5,3,1,5,0,2,1,0,1,4,17,3,3,0,26,1,35,29,12,34,8,33,8,5,4,12,14,14,14,17,73,1,1,1,30,1,50,0,24,0,2,2,1,7,0,7,13,2,0,36,4,15,2,21,35,4,0,3,24,0,2,16,0,5,39,5,5,0,1,30,1,0,0,3,0,1,24,16,26,28,4,2,0,12,12,5,3,0,1,3,1,56,16,11,27,4,6,70,3,77,28,31,0,28,20,7,0,5,18,3,0,7,53,1,7,46,6,12,43,33,0,26,32,0,0,0,5,1,1,0,16,25,1,0,7,1,24,15,2,22,4,1,0,20,2,1,61,12,11,5,1,8,58,1,0,24,5,16,10,27,3,97,1,1,0,67,67,0,5,0,50,24,4,3,12,20,20,4,32,0,1,2,9,44,14,12,4,1,34,30,2,0,0,0,1,3,7,10,1,17,9,4,2,44,3,0,33,7,12,9,2,12,1,0,1],\"type\":\"box\"}],                        {\"template\":{\"data\":{\"histogram2dcontour\":[{\"type\":\"histogram2dcontour\",\"colorbar\":{\"outlinewidth\":0,\"ticks\":\"\"},\"colorscale\":[[0.0,\"#0d0887\"],[0.1111111111111111,\"#46039f\"],[0.2222222222222222,\"#7201a8\"],[0.3333333333333333,\"#9c179e\"],[0.4444444444444444,\"#bd3786\"],[0.5555555555555556,\"#d8576b\"],[0.6666666666666666,\"#ed7953\"],[0.7777777777777778,\"#fb9f3a\"],[0.8888888888888888,\"#fdca26\"],[1.0,\"#f0f921\"]]}],\"choropleth\":[{\"type\":\"choropleth\",\"colorbar\":{\"outlinewidth\":0,\"ticks\":\"\"}}],\"histogram2d\":[{\"type\":\"histogram2d\",\"colorbar\":{\"outlinewidth\":0,\"ticks\":\"\"},\"colorscale\":[[0.0,\"#0d0887\"],[0.1111111111111111,\"#46039f\"],[0.2222222222222222,\"#7201a8\"],[0.3333333333333333,\"#9c179e\"],[0.4444444444444444,\"#bd3786\"],[0.5555555555555556,\"#d8576b\"],[0.6666666666666666,\"#ed7953\"],[0.7777777777777778,\"#fb9f3a\"],[0.8888888888888888,\"#fdca26\"],[1.0,\"#f0f921\"]]}],\"heatmap\":[{\"type\":\"heatmap\",\"colorbar\":{\"outlinewidth\":0,\"ticks\":\"\"},\"colorscale\":[[0.0,\"#0d0887\"],[0.1111111111111111,\"#46039f\"],[0.2222222222222222,\"#7201a8\"],[0.3333333333333333,\"#9c179e\"],[0.4444444444444444,\"#bd3786\"],[0.5555555555555556,\"#d8576b\"],[0.6666666666666666,\"#ed7953\"],[0.7777777777777778,\"#fb9f3a\"],[0.8888888888888888,\"#fdca26\"],[1.0,\"#f0f921\"]]}],\"heatmapgl\":[{\"type\":\"heatmapgl\",\"colorbar\":{\"outlinewidth\":0,\"ticks\":\"\"},\"colorscale\":[[0.0,\"#0d0887\"],[0.1111111111111111,\"#46039f\"],[0.2222222222222222,\"#7201a8\"],[0.3333333333333333,\"#9c179e\"],[0.4444444444444444,\"#bd3786\"],[0.5555555555555556,\"#d8576b\"],[0.6666666666666666,\"#ed7953\"],[0.7777777777777778,\"#fb9f3a\"],[0.8888888888888888,\"#fdca26\"],[1.0,\"#f0f921\"]]}],\"contourcarpet\":[{\"type\":\"contourcarpet\",\"colorbar\":{\"outlinewidth\":0,\"ticks\":\"\"}}],\"contour\":[{\"type\":\"contour\",\"colorbar\":{\"outlinewidth\":0,\"ticks\":\"\"},\"colorscale\":[[0.0,\"#0d0887\"],[0.1111111111111111,\"#46039f\"],[0.2222222222222222,\"#7201a8\"],[0.3333333333333333,\"#9c179e\"],[0.4444444444444444,\"#bd3786\"],[0.5555555555555556,\"#d8576b\"],[0.6666666666666666,\"#ed7953\"],[0.7777777777777778,\"#fb9f3a\"],[0.8888888888888888,\"#fdca26\"],[1.0,\"#f0f921\"]]}],\"surface\":[{\"type\":\"surface\",\"colorbar\":{\"outlinewidth\":0,\"ticks\":\"\"},\"colorscale\":[[0.0,\"#0d0887\"],[0.1111111111111111,\"#46039f\"],[0.2222222222222222,\"#7201a8\"],[0.3333333333333333,\"#9c179e\"],[0.4444444444444444,\"#bd3786\"],[0.5555555555555556,\"#d8576b\"],[0.6666666666666666,\"#ed7953\"],[0.7777777777777778,\"#fb9f3a\"],[0.8888888888888888,\"#fdca26\"],[1.0,\"#f0f921\"]]}],\"mesh3d\":[{\"type\":\"mesh3d\",\"colorbar\":{\"outlinewidth\":0,\"ticks\":\"\"}}],\"scatter\":[{\"fillpattern\":{\"fillmode\":\"overlay\",\"size\":10,\"solidity\":0.2},\"type\":\"scatter\"}],\"parcoords\":[{\"type\":\"parcoords\",\"line\":{\"colorbar\":{\"outlinewidth\":0,\"ticks\":\"\"}}}],\"scatterpolargl\":[{\"type\":\"scatterpolargl\",\"marker\":{\"colorbar\":{\"outlinewidth\":0,\"ticks\":\"\"}}}],\"bar\":[{\"error_x\":{\"color\":\"#2a3f5f\"},\"error_y\":{\"color\":\"#2a3f5f\"},\"marker\":{\"line\":{\"color\":\"#E5ECF6\",\"width\":0.5},\"pattern\":{\"fillmode\":\"overlay\",\"size\":10,\"solidity\":0.2}},\"type\":\"bar\"}],\"scattergeo\":[{\"type\":\"scattergeo\",\"marker\":{\"colorbar\":{\"outlinewidth\":0,\"ticks\":\"\"}}}],\"scatterpolar\":[{\"type\":\"scatterpolar\",\"marker\":{\"colorbar\":{\"outlinewidth\":0,\"ticks\":\"\"}}}],\"histogram\":[{\"marker\":{\"pattern\":{\"fillmode\":\"overlay\",\"size\":10,\"solidity\":0.2}},\"type\":\"histogram\"}],\"scattergl\":[{\"type\":\"scattergl\",\"marker\":{\"colorbar\":{\"outlinewidth\":0,\"ticks\":\"\"}}}],\"scatter3d\":[{\"type\":\"scatter3d\",\"line\":{\"colorbar\":{\"outlinewidth\":0,\"ticks\":\"\"}},\"marker\":{\"colorbar\":{\"outlinewidth\":0,\"ticks\":\"\"}}}],\"scattermapbox\":[{\"type\":\"scattermapbox\",\"marker\":{\"colorbar\":{\"outlinewidth\":0,\"ticks\":\"\"}}}],\"scatterternary\":[{\"type\":\"scatterternary\",\"marker\":{\"colorbar\":{\"outlinewidth\":0,\"ticks\":\"\"}}}],\"scattercarpet\":[{\"type\":\"scattercarpet\",\"marker\":{\"colorbar\":{\"outlinewidth\":0,\"ticks\":\"\"}}}],\"carpet\":[{\"aaxis\":{\"endlinecolor\":\"#2a3f5f\",\"gridcolor\":\"white\",\"linecolor\":\"white\",\"minorgridcolor\":\"white\",\"startlinecolor\":\"#2a3f5f\"},\"baxis\":{\"endlinecolor\":\"#2a3f5f\",\"gridcolor\":\"white\",\"linecolor\":\"white\",\"minorgridcolor\":\"white\",\"startlinecolor\":\"#2a3f5f\"},\"type\":\"carpet\"}],\"table\":[{\"cells\":{\"fill\":{\"color\":\"#EBF0F8\"},\"line\":{\"color\":\"white\"}},\"header\":{\"fill\":{\"color\":\"#C8D4E3\"},\"line\":{\"color\":\"white\"}},\"type\":\"table\"}],\"barpolar\":[{\"marker\":{\"line\":{\"color\":\"#E5ECF6\",\"width\":0.5},\"pattern\":{\"fillmode\":\"overlay\",\"size\":10,\"solidity\":0.2}},\"type\":\"barpolar\"}],\"pie\":[{\"automargin\":true,\"type\":\"pie\"}]},\"layout\":{\"autotypenumbers\":\"strict\",\"colorway\":[\"#636efa\",\"#EF553B\",\"#00cc96\",\"#ab63fa\",\"#FFA15A\",\"#19d3f3\",\"#FF6692\",\"#B6E880\",\"#FF97FF\",\"#FECB52\"],\"font\":{\"color\":\"#2a3f5f\"},\"hovermode\":\"closest\",\"hoverlabel\":{\"align\":\"left\"},\"paper_bgcolor\":\"white\",\"plot_bgcolor\":\"#E5ECF6\",\"polar\":{\"bgcolor\":\"#E5ECF6\",\"angularaxis\":{\"gridcolor\":\"white\",\"linecolor\":\"white\",\"ticks\":\"\"},\"radialaxis\":{\"gridcolor\":\"white\",\"linecolor\":\"white\",\"ticks\":\"\"}},\"ternary\":{\"bgcolor\":\"#E5ECF6\",\"aaxis\":{\"gridcolor\":\"white\",\"linecolor\":\"white\",\"ticks\":\"\"},\"baxis\":{\"gridcolor\":\"white\",\"linecolor\":\"white\",\"ticks\":\"\"},\"caxis\":{\"gridcolor\":\"white\",\"linecolor\":\"white\",\"ticks\":\"\"}},\"coloraxis\":{\"colorbar\":{\"outlinewidth\":0,\"ticks\":\"\"}},\"colorscale\":{\"sequential\":[[0.0,\"#0d0887\"],[0.1111111111111111,\"#46039f\"],[0.2222222222222222,\"#7201a8\"],[0.3333333333333333,\"#9c179e\"],[0.4444444444444444,\"#bd3786\"],[0.5555555555555556,\"#d8576b\"],[0.6666666666666666,\"#ed7953\"],[0.7777777777777778,\"#fb9f3a\"],[0.8888888888888888,\"#fdca26\"],[1.0,\"#f0f921\"]],\"sequentialminus\":[[0.0,\"#0d0887\"],[0.1111111111111111,\"#46039f\"],[0.2222222222222222,\"#7201a8\"],[0.3333333333333333,\"#9c179e\"],[0.4444444444444444,\"#bd3786\"],[0.5555555555555556,\"#d8576b\"],[0.6666666666666666,\"#ed7953\"],[0.7777777777777778,\"#fb9f3a\"],[0.8888888888888888,\"#fdca26\"],[1.0,\"#f0f921\"]],\"diverging\":[[0,\"#8e0152\"],[0.1,\"#c51b7d\"],[0.2,\"#de77ae\"],[0.3,\"#f1b6da\"],[0.4,\"#fde0ef\"],[0.5,\"#f7f7f7\"],[0.6,\"#e6f5d0\"],[0.7,\"#b8e186\"],[0.8,\"#7fbc41\"],[0.9,\"#4d9221\"],[1,\"#276419\"]]},\"xaxis\":{\"gridcolor\":\"white\",\"linecolor\":\"white\",\"ticks\":\"\",\"title\":{\"standoff\":15},\"zerolinecolor\":\"white\",\"automargin\":true,\"zerolinewidth\":2},\"yaxis\":{\"gridcolor\":\"white\",\"linecolor\":\"white\",\"ticks\":\"\",\"title\":{\"standoff\":15},\"zerolinecolor\":\"white\",\"automargin\":true,\"zerolinewidth\":2},\"scene\":{\"xaxis\":{\"backgroundcolor\":\"#E5ECF6\",\"gridcolor\":\"white\",\"linecolor\":\"white\",\"showbackground\":true,\"ticks\":\"\",\"zerolinecolor\":\"white\",\"gridwidth\":2},\"yaxis\":{\"backgroundcolor\":\"#E5ECF6\",\"gridcolor\":\"white\",\"linecolor\":\"white\",\"showbackground\":true,\"ticks\":\"\",\"zerolinecolor\":\"white\",\"gridwidth\":2},\"zaxis\":{\"backgroundcolor\":\"#E5ECF6\",\"gridcolor\":\"white\",\"linecolor\":\"white\",\"showbackground\":true,\"ticks\":\"\",\"zerolinecolor\":\"white\",\"gridwidth\":2}},\"shapedefaults\":{\"line\":{\"color\":\"#2a3f5f\"}},\"annotationdefaults\":{\"arrowcolor\":\"#2a3f5f\",\"arrowhead\":0,\"arrowwidth\":1},\"geo\":{\"bgcolor\":\"white\",\"landcolor\":\"#E5ECF6\",\"subunitcolor\":\"white\",\"showland\":true,\"showlakes\":true,\"lakecolor\":\"white\"},\"title\":{\"x\":0.05},\"mapbox\":{\"style\":\"light\"}}},\"title\":{\"text\":\"Distribui\\u00e7\\u00e3o do tempo necess\\u00e1rio para realizar as duas primeiras movimenta\\u00e7\\u00f5es processuais\"}},                        {\"responsive\": true}                    ).then(function(){\n",
       "                            \n",
       "var gd = document.getElementById('73942fd6-1e65-4708-b8f4-fb0a5844946b');\n",
       "var x = new MutationObserver(function (mutations, observer) {{\n",
       "        var display = window.getComputedStyle(gd).display;\n",
       "        if (!display || display === 'none') {{\n",
       "            console.log([gd, 'removed!']);\n",
       "            Plotly.purge(gd);\n",
       "            observer.disconnect();\n",
       "        }}\n",
       "}});\n",
       "\n",
       "// Listen for the removal of the full notebook cells\n",
       "var notebookContainer = gd.closest('#notebook-container');\n",
       "if (notebookContainer) {{\n",
       "    x.observe(notebookContainer, {childList: true});\n",
       "}}\n",
       "\n",
       "// Listen for the clearing of the current output cell\n",
       "var outputEl = gd.closest('.output');\n",
       "if (outputEl) {{\n",
       "    x.observe(outputEl, {childList: true});\n",
       "}}\n",
       "\n",
       "                        })                };                });            </script>        </div>"
      ]
     },
     "metadata": {},
     "output_type": "display_data"
    }
   ],
   "source": [
    "fig = go.Figure()\n",
    "fig.add_trace(go.Box(y=df_sentenciados['tempo_entre_2e3_mov'], \n",
    "                     name='2ª e 3ª movimentação', marker_color = 'indianred'))\n",
    "fig.add_trace(go.Box(y=df_sentenciados['tempo_entre_3e4_mov'], \n",
    "                     name='3ª e 4ª movimentação', marker_color = 'lightseagreen'))\n",
    "fig.update_layout(title='Distribuição do tempo necessário para realizar as duas primeiras movimentações processuais')\n",
    "fig.show()\n"
   ]
  },
  {
   "cell_type": "code",
   "execution_count": 85,
   "metadata": {},
   "outputs": [
    {
     "data": {
      "application/vnd.plotly.v1+json": {
       "config": {
        "plotlyServerURL": "https://plot.ly"
       },
       "data": [
        {
         "hovertemplate": "data_sentenca=%{x}<br>tempo_ate_sentenca=%{y}<extra></extra>",
         "legendgroup": "",
         "line": {
          "color": "#636efa",
          "dash": "solid"
         },
         "marker": {
          "symbol": "circle"
         },
         "mode": "lines",
         "name": "",
         "orientation": "v",
         "showlegend": false,
         "type": "scatter",
         "x": [
          "2018-03-15",
          "2018-03-15",
          "2018-03-15",
          "2018-03-26",
          "2018-04-20",
          "2018-04-30",
          "2018-07-26",
          "2018-08-08",
          "2018-08-09",
          "2018-08-09",
          "2018-08-10",
          "2018-08-16",
          "2018-08-22",
          "2018-08-22",
          "2018-08-28",
          "2018-09-17",
          "2018-09-18",
          "2018-10-05",
          "2018-10-05",
          "2018-10-05",
          "2018-10-05",
          "2018-10-11",
          "2018-10-15",
          "2018-10-25",
          "2018-10-25",
          "2018-10-25",
          "2018-10-25",
          "2018-10-26",
          "2018-11-07",
          "2018-11-13",
          "2018-11-19",
          "2018-11-20",
          "2018-11-20",
          "2018-11-23",
          "2018-11-29",
          "2018-11-30",
          "2018-11-30",
          "2018-12-05",
          "2019-01-10",
          "2019-01-22",
          "2019-01-22",
          "2019-01-22",
          "2019-01-31",
          "2019-02-12",
          "2019-02-12",
          "2019-02-12",
          "2019-02-14",
          "2019-02-18",
          "2019-02-20",
          "2019-03-08",
          "2019-03-08",
          "2019-03-15",
          "2019-03-15",
          "2019-03-15",
          "2019-04-29",
          "2019-05-13",
          "2019-05-13",
          "2019-05-13",
          "2019-05-13",
          "2019-05-28",
          "2019-05-28",
          "2019-06-11",
          "2019-06-11",
          "2019-06-11",
          "2019-06-17",
          "2019-06-17",
          "2019-06-26",
          "2019-06-26",
          "2019-06-27",
          "2019-06-27",
          "2019-07-18",
          "2019-07-18",
          "2019-07-18",
          "2019-07-23",
          "2019-07-23",
          "2019-07-23",
          "2019-07-23",
          "2019-07-23",
          "2019-07-23",
          "2019-07-23",
          "2019-07-23",
          "2019-08-12",
          "2019-08-21",
          "2019-09-11",
          "2019-10-02",
          "2019-10-10",
          "2019-10-10",
          "2019-11-08",
          "2019-11-08",
          "2019-11-13",
          "2019-11-13",
          "2019-11-26",
          "2020-01-10",
          "2020-01-10",
          "2020-01-10",
          "2020-01-10",
          "2020-01-13",
          "2020-01-13",
          "2020-01-13",
          "2020-01-13",
          "2020-01-13",
          "2020-01-13",
          "2020-01-13",
          "2020-01-13",
          "2020-01-15",
          "2020-01-15",
          "2020-01-15",
          "2020-01-23",
          "2020-01-23",
          "2020-01-26",
          "2020-01-28",
          "2020-01-28",
          "2020-01-28",
          "2020-01-28",
          "2020-02-03",
          "2020-02-03",
          "2020-02-04",
          "2020-02-05",
          "2020-02-11",
          "2020-02-11",
          "2020-02-19",
          "2020-02-27",
          "2020-02-27",
          "2020-02-27",
          "2020-02-27",
          "2020-02-27",
          "2020-03-20",
          "2020-03-26",
          "2020-03-26",
          "2020-03-26",
          "2020-03-26",
          "2020-03-26",
          "2020-03-26",
          "2020-03-31",
          "2020-04-09",
          "2020-04-09",
          "2020-04-09",
          "2020-04-09",
          "2020-04-09",
          "2020-04-13",
          "2020-04-13",
          "2020-04-13",
          "2020-04-15",
          "2020-04-16",
          "2020-04-16",
          "2020-04-16",
          "2020-04-16",
          "2020-04-20",
          "2020-04-23",
          "2020-05-06",
          "2020-05-12",
          "2020-05-12",
          "2020-05-13",
          "2020-05-19",
          "2020-05-19",
          "2020-05-21",
          "2020-05-25",
          "2020-05-25",
          "2020-05-27",
          "2020-05-29",
          "2020-06-02",
          "2020-06-02",
          "2020-06-02",
          "2020-06-02",
          "2020-06-02",
          "2020-06-02",
          "2020-06-12",
          "2020-06-12",
          "2020-06-17",
          "2020-06-17",
          "2020-06-17",
          "2020-06-17",
          "2020-06-17",
          "2020-06-22",
          "2020-06-22",
          "2020-06-25",
          "2020-06-25",
          "2020-06-30",
          "2020-06-30",
          "2020-06-30",
          "2020-06-30",
          "2020-07-16",
          "2020-07-16",
          "2020-07-16",
          "2020-07-21",
          "2020-07-21",
          "2020-07-30",
          "2020-07-31",
          "2020-07-31",
          "2020-07-31",
          "2020-07-31",
          "2020-08-10",
          "2020-08-10",
          "2020-08-10",
          "2020-08-10",
          "2020-08-12",
          "2020-08-12",
          "2020-08-17",
          "2020-08-17",
          "2020-08-17",
          "2020-08-17",
          "2020-08-19",
          "2020-08-27",
          "2020-08-27",
          "2020-09-01",
          "2020-09-01",
          "2020-09-01",
          "2020-09-08",
          "2020-09-08",
          "2020-09-08",
          "2020-09-16",
          "2020-09-16",
          "2020-09-23",
          "2020-09-24",
          "2020-09-24",
          "2020-09-24",
          "2020-09-24",
          "2020-09-24",
          "2020-09-24",
          "2020-09-29",
          "2020-09-29",
          "2020-09-29",
          "2020-09-29",
          "2020-09-29",
          "2020-09-29",
          "2020-09-29",
          "2020-09-29",
          "2020-09-29",
          "2020-09-29",
          "2020-09-29",
          "2020-09-29",
          "2020-09-29",
          "2020-09-29",
          "2020-09-29",
          "2020-10-01",
          "2020-10-05",
          "2020-10-08",
          "2020-10-15",
          "2020-10-20",
          "2020-10-26",
          "2020-10-26",
          "2020-10-26",
          "2020-10-28",
          "2020-10-28",
          "2020-10-28",
          "2020-10-28",
          "2020-10-28",
          "2020-11-08",
          "2020-11-08",
          "2020-11-08",
          "2020-11-08",
          "2020-11-10",
          "2020-11-10",
          "2020-11-10",
          "2020-11-13",
          "2020-11-13",
          "2020-11-13",
          "2020-11-13",
          "2020-11-13",
          "2020-11-24",
          "2020-11-30",
          "2020-11-30",
          "2020-11-30",
          "2020-11-30",
          "2020-11-30",
          "2020-11-30",
          "2020-11-30",
          "2020-11-30",
          "2020-12-03",
          "2020-12-08",
          "2020-12-08",
          "2020-12-10",
          "2020-12-14",
          "2020-12-14",
          "2020-12-17",
          "2020-12-17",
          "2020-12-17",
          "2020-12-17",
          "2020-12-17",
          "2020-12-17",
          "2020-12-17",
          "2020-12-26",
          "2020-12-26",
          "2020-12-26",
          "2020-12-26",
          "2021-01-09",
          "2021-01-09",
          "2021-01-14",
          "2021-01-14",
          "2021-01-19",
          "2021-01-19",
          "2021-01-21",
          "2021-01-22",
          "2021-01-26",
          "2021-01-26",
          "2021-01-27",
          "2021-01-28",
          "2021-02-01",
          "2021-02-01",
          "2021-02-01",
          "2021-02-01",
          "2021-02-01",
          "2021-02-01",
          "2021-02-01",
          "2021-02-02",
          "2021-02-02",
          "2021-02-02",
          "2021-02-03",
          "2021-02-03",
          "2021-02-03",
          "2021-02-03",
          "2021-02-04",
          "2021-02-05",
          "2021-02-05",
          "2021-02-05",
          "2021-02-05",
          "2021-02-05",
          "2021-02-08",
          "2021-02-08",
          "2021-02-08",
          "2021-02-11",
          "2021-02-11",
          "2021-02-16",
          "2021-02-17",
          "2021-02-17",
          "2021-02-23",
          "2021-02-23",
          "2021-02-26",
          "2021-03-02",
          "2021-03-02",
          "2021-03-03",
          "2021-03-03",
          "2021-03-03",
          "2021-03-04",
          "2021-03-05",
          "2021-03-09",
          "2021-03-10",
          "2021-03-12",
          "2021-03-12",
          "2021-03-15",
          "2021-03-19",
          "2021-03-19",
          "2021-03-27",
          "2021-03-29",
          "2021-04-02",
          "2021-04-05",
          "2021-04-05",
          "2021-04-05",
          "2021-04-05",
          "2021-04-07",
          "2021-04-13",
          "2021-04-14",
          "2021-04-19",
          "2021-04-19",
          "2021-04-20",
          "2021-04-22",
          "2021-04-22",
          "2021-04-26",
          "2021-04-26",
          "2021-04-26",
          "2021-05-03",
          "2021-05-03",
          "2021-05-03",
          "2021-05-03",
          "2021-05-06",
          "2021-05-10",
          "2021-05-10",
          "2021-05-11",
          "2021-05-11",
          "2021-05-12",
          "2021-05-12",
          "2021-05-17",
          "2021-05-17",
          "2021-05-19",
          "2021-05-19",
          "2021-05-19",
          "2021-06-01",
          "2021-06-01",
          "2021-06-02",
          "2021-06-02",
          "2021-06-07",
          "2021-06-09",
          "2021-06-09",
          "2021-06-09",
          "2021-06-10",
          "2021-06-11",
          "2021-06-15",
          "2021-06-18",
          "2021-06-21",
          "2021-07-08",
          "2021-07-08",
          "2021-07-08",
          "2021-07-13",
          "2021-07-16",
          "2021-07-21",
          "2021-07-24",
          "2021-07-26",
          "2021-08-02",
          "2021-08-03",
          "2021-08-03",
          "2021-08-05",
          "2021-08-09",
          "2021-08-09",
          "2021-08-10",
          "2021-09-06",
          "2021-09-13",
          "2021-09-26",
          "2021-09-29",
          "2021-10-05",
          "2021-10-08",
          "2021-10-11",
          "2021-10-11",
          "2021-11-03",
          "2021-11-03",
          "2021-11-03",
          "2021-11-07",
          "2021-11-07",
          "2021-11-07",
          "2021-11-15",
          "2021-11-15",
          "2021-11-17",
          "2021-12-01",
          "2021-12-08",
          "2021-12-09",
          "2021-12-13",
          "2021-12-13",
          "2021-12-15",
          "2021-12-15",
          "2022-01-12",
          "2022-01-14",
          "2022-01-17",
          "2022-01-17",
          "2022-01-17",
          "2022-01-17",
          "2022-01-21",
          "2022-01-26",
          "2022-01-27",
          "2022-01-28",
          "2022-02-01",
          "2022-02-01",
          "2022-02-03",
          "2022-02-07",
          "2022-02-07",
          "2022-02-07",
          "2022-02-11",
          "2022-02-19",
          "2022-02-23",
          "2022-03-07",
          "2022-03-15",
          "2022-03-16",
          "2022-03-24",
          "2022-03-24",
          "2022-03-29",
          "2022-03-29",
          "2022-03-30",
          "2022-04-04",
          "2022-04-12",
          "2022-04-25",
          "2022-04-25",
          "2022-04-26",
          "2022-04-29",
          "2022-05-02",
          "2022-05-02",
          "2022-05-03",
          "2022-05-30",
          "2022-05-31",
          "2022-05-31",
          "2022-06-01",
          "2022-06-01",
          "2022-06-01",
          "2022-06-02",
          "2022-06-03",
          "2022-06-07",
          "2022-06-07",
          "2022-06-09",
          "2022-06-09",
          "2022-06-19",
          "2022-06-20",
          "2022-06-20",
          "2022-06-21",
          "2022-06-21",
          "2022-06-21",
          "2022-06-22",
          "2022-06-28",
          "2022-07-11",
          "2022-07-11",
          "2022-07-14",
          "2022-07-14",
          "2022-07-14",
          "2022-07-14",
          "2022-07-14",
          "2022-07-30",
          "2022-07-30",
          "2022-07-30",
          "2022-07-30",
          "2022-07-30",
          "2022-07-30",
          "2022-07-31",
          "2022-07-31",
          "2022-07-31",
          "2022-07-31",
          "2022-07-31",
          "2022-07-31",
          "2022-07-31",
          "2022-08-08",
          "2022-08-08",
          "2022-08-12",
          "2022-08-18",
          "2022-08-18",
          "2022-08-18",
          "2022-08-23",
          "2022-08-23",
          "2022-08-29",
          "2022-08-30",
          "2022-09-01",
          "2022-09-02",
          "2022-09-04",
          "2022-09-05",
          "2022-09-06",
          "2022-09-06",
          "2022-09-08",
          "2022-09-08",
          "2022-09-08",
          "2022-09-08",
          "2022-09-12",
          "2022-09-12",
          "2022-09-13",
          "2022-09-14",
          "2022-09-14",
          "2022-09-14",
          "2022-09-14",
          "2022-09-14",
          "2022-09-14",
          "2022-09-15",
          "2022-09-15",
          "2022-09-16",
          "2022-09-20",
          "2022-09-20",
          "2022-09-22",
          "2022-09-23",
          "2022-09-28",
          "2022-09-28",
          "2022-09-28",
          "2022-09-28",
          "2022-10-09",
          "2022-10-10",
          "2022-10-11",
          "2022-10-11",
          "2022-10-11",
          "2022-10-13",
          "2022-10-17",
          "2022-10-18",
          "2022-10-18",
          "2022-10-20",
          "2022-10-25",
          "2022-10-25",
          "2022-10-26",
          "2022-10-26",
          "2022-10-27",
          "2022-10-31",
          "2022-11-02",
          "2022-11-02",
          "2022-11-07",
          "2022-11-07",
          "2022-11-07",
          "2022-11-09",
          "2022-11-11",
          "2022-11-14",
          "2022-11-14",
          "2022-11-18",
          "2022-11-20",
          "2022-11-20",
          "2022-11-23",
          "2022-11-23",
          "2022-12-07",
          "2022-12-07",
          "2022-12-07",
          "2022-12-07",
          "2022-12-07",
          "2022-12-09",
          "2022-12-09",
          "2022-12-13",
          "2022-12-16",
          "2022-12-28",
          "2022-12-30",
          "2023-01-11",
          "2023-01-17",
          "2023-01-17",
          "2023-01-18",
          "2023-01-24",
          "2023-01-25",
          "2023-01-26",
          "2023-01-27",
          "2023-01-27",
          "2023-01-30",
          "2023-01-30",
          "2023-01-30",
          "2023-01-31",
          "2023-01-31",
          "2023-01-31",
          "2023-01-31",
          "2023-01-31",
          "2023-02-01",
          "2023-02-01",
          "2023-02-02",
          "2023-02-02",
          "2023-02-02",
          "2023-02-02",
          "2023-02-03",
          "2023-02-06",
          "2023-02-06",
          "2023-02-06",
          "2023-02-06",
          "2023-02-07",
          "2023-02-07",
          "2023-02-07",
          "2023-02-07",
          "2023-02-08",
          "2023-02-08",
          "2023-02-08",
          "2023-02-09",
          "2023-02-10",
          "2023-02-10",
          "2023-02-10",
          "2023-02-13",
          "2023-02-13",
          "2023-02-15",
          "2023-02-15",
          "2023-02-15",
          "2023-02-15",
          "2023-02-15",
          "2023-02-17",
          "2023-02-17",
          "2023-02-17",
          "2023-02-25",
          "2023-02-27",
          "2023-02-27",
          "2023-03-01",
          "2023-03-01",
          "2023-03-01",
          "2023-03-01",
          "2023-03-06",
          "2023-03-09",
          "2023-03-13",
          "2023-03-13",
          "2023-03-13",
          "2023-03-13",
          "2023-03-13",
          "2023-03-16",
          "2023-03-17",
          "2023-03-20",
          "2023-03-20",
          "2023-03-21",
          "2023-03-23",
          "2023-03-23",
          "2023-03-25",
          "2023-03-27",
          "2023-03-28",
          "2023-03-28",
          "2023-03-29",
          "2023-04-01",
          "2023-04-05",
          "2023-04-07",
          "2023-04-07",
          "2023-04-07",
          "2023-04-08",
          "2023-04-10",
          "2023-04-13",
          "2023-04-14",
          "2023-04-19",
          "2023-04-20",
          "2023-04-20",
          "2023-04-21",
          "2023-04-22",
          "2023-04-22",
          "2023-04-26",
          "2023-04-28",
          "2023-05-04",
          "2023-05-16",
          "2023-05-17",
          "2023-05-17",
          "2023-05-18",
          "2023-05-30",
          "2023-05-31",
          "2023-06-01",
          "2023-06-05",
          "2023-06-21",
          "2023-06-23",
          "2023-06-23",
          "2023-06-23",
          "2023-06-28",
          "2023-07-01",
          "2023-07-01",
          "2023-07-01",
          "2023-07-14",
          "2023-07-31",
          "2023-08-21",
          "2023-08-24",
          "2023-08-29",
          "2023-09-01",
          "2023-10-06",
          "2023-10-06"
         ],
         "xaxis": "x",
         "y": [
          379,
          379,
          379,
          303,
          402,
          203,
          184,
          396,
          492,
          492,
          575,
          413,
          587,
          414,
          4,
          175,
          377,
          373,
          520,
          520,
          173,
          378,
          479,
          591,
          455,
          591,
          549,
          463,
          622,
          62,
          129,
          526,
          526,
          451,
          162,
          619,
          619,
          443,
          371,
          155,
          155,
          680,
          139,
          167,
          167,
          159,
          147,
          153,
          344,
          207,
          105,
          186,
          196,
          196,
          216,
          164,
          256,
          164,
          195,
          182,
          92,
          188,
          207,
          188,
          56,
          56,
          140,
          226,
          136,
          108,
          189,
          228,
          107,
          112,
          146,
          76,
          146,
          150,
          76,
          215,
          150,
          258,
          187,
          749,
          758,
          171,
          58,
          620,
          414,
          337,
          337,
          127,
          224,
          169,
          395,
          155,
          164,
          250,
          154,
          251,
          207,
          397,
          250,
          138,
          174,
          159,
          159,
          91,
          161,
          139,
          131,
          85,
          125,
          125,
          129,
          129,
          135,
          148,
          158,
          158,
          113,
          132,
          114,
          132,
          143,
          143,
          179,
          135,
          167,
          198,
          198,
          139,
          139,
          132,
          184,
          169,
          184,
          127,
          205,
          131,
          125,
          131,
          266,
          329,
          140,
          329,
          140,
          301,
          255,
          83,
          56,
          243,
          99,
          188,
          181,
          248,
          319,
          235,
          265,
          185,
          202,
          202,
          131,
          131,
          173,
          133,
          128,
          225,
          100,
          103,
          98,
          89,
          100,
          262,
          245,
          854,
          576,
          134,
          211,
          119,
          119,
          135,
          112,
          135,
          106,
          292,
          175,
          126,
          126,
          109,
          109,
          72,
          293,
          236,
          72,
          246,
          246,
          97,
          136,
          114,
          97,
          209,
          117,
          114,
          251,
          214,
          216,
          131,
          133,
          131,
          219,
          300,
          350,
          280,
          135,
          197,
          171,
          308,
          280,
          96,
          103,
          127,
          132,
          103,
          250,
          64,
          105,
          127,
          105,
          131,
          105,
          60,
          131,
          103,
          86,
          69,
          350,
          307,
          211,
          116,
          117,
          117,
          133,
          133,
          224,
          133,
          80,
          328,
          187,
          243,
          103,
          144,
          144,
          88,
          150,
          92,
          134,
          134,
          150,
          230,
          110,
          160,
          247,
          237,
          110,
          172,
          160,
          247,
          198,
          239,
          161,
          135,
          203,
          109,
          136,
          105,
          105,
          144,
          144,
          118,
          114,
          165,
          131,
          128,
          156,
          421,
          122,
          261,
          203,
          252,
          252,
          352,
          227,
          131,
          131,
          252,
          318,
          180,
          164,
          169,
          165,
          180,
          213,
          417,
          231,
          231,
          295,
          153,
          141,
          175,
          156,
          385,
          152,
          150,
          431,
          152,
          150,
          377,
          175,
          1023,
          225,
          225,
          173,
          209,
          209,
          578,
          298,
          114,
          182,
          176,
          203,
          190,
          172,
          169,
          114,
          141,
          202,
          130,
          177,
          178,
          167,
          167,
          439,
          263,
          199,
          208,
          247,
          195,
          188,
          184,
          201,
          169,
          136,
          117,
          260,
          135,
          182,
          139,
          136,
          136,
          181,
          189,
          110,
          181,
          241,
          196,
          196,
          124,
          124,
          141,
          141,
          53,
          53,
          141,
          131,
          141,
          258,
          103,
          97,
          162,
          92,
          288,
          226,
          202,
          195,
          340,
          178,
          109,
          118,
          122,
          111,
          122,
          113,
          74,
          299,
          403,
          132,
          167,
          144,
          132,
          139,
          112,
          125,
          110,
          104,
          115,
          118,
          84,
          118,
          105,
          171,
          171,
          106,
          100,
          106,
          101,
          97,
          101,
          67,
          67,
          114,
          104,
          161,
          104,
          133,
          133,
          78,
          78,
          226,
          184,
          329,
          69,
          137,
          69,
          151,
          166,
          126,
          114,
          131,
          124,
          111,
          111,
          133,
          133,
          119,
          171,
          110,
          140,
          204,
          63,
          147,
          147,
          120,
          109,
          121,
          249,
          175,
          117,
          98,
          85,
          119,
          137,
          137,
          112,
          609,
          153,
          152,
          96,
          587,
          96,
          178,
          91,
          516,
          27,
          213,
          78,
          94,
          115,
          68,
          73,
          132,
          73,
          34,
          169,
          91,
          91,
          221,
          182,
          161,
          161,
          182,
          208,
          58,
          113,
          163,
          113,
          58,
          94,
          156,
          122,
          118,
          124,
          75,
          135,
          136,
          131,
          115,
          63,
          63,
          119,
          162,
          158,
          185,
          140,
          148,
          170,
          166,
          158,
          117,
          78,
          202,
          202,
          161,
          121,
          166,
          180,
          172,
          167,
          160,
          140,
          160,
          160,
          172,
          163,
          135,
          143,
          147,
          146,
          177,
          179,
          175,
          153,
          155,
          165,
          37,
          165,
          133,
          148,
          133,
          150,
          75,
          487,
          76,
          119,
          112,
          124,
          162,
          162,
          142,
          133,
          128,
          128,
          126,
          115,
          115,
          117,
          137,
          138,
          138,
          185,
          132,
          136,
          154,
          78,
          114,
          141,
          114,
          147,
          141,
          161,
          161,
          132,
          150,
          151,
          164,
          169,
          204,
          197,
          197,
          210,
          208,
          226,
          320,
          106,
          208,
          189,
          178,
          146,
          138,
          146,
          202,
          238,
          176,
          148,
          129,
          195,
          202,
          205,
          136,
          122,
          122,
          160,
          148,
          43,
          140,
          147,
          104,
          226,
          71,
          123,
          142,
          215,
          112,
          158,
          155,
          244,
          175,
          110,
          170,
          193,
          140,
          207,
          749,
          205,
          81,
          103,
          122,
          182,
          134,
          145,
          104,
          158,
          164,
          226,
          89,
          80,
          145,
          175,
          160,
          198,
          91,
          91,
          99,
          112,
          133,
          177,
          132,
          942,
          198,
          197,
          166,
          160,
          161,
          144,
          144,
          155,
          172,
          39,
          103,
          148,
          149,
          197,
          39,
          113,
          113,
          163,
          193,
          184,
          174,
          118,
          198,
          90,
          91,
          126,
          90,
          193,
          205,
          170,
          834,
          162,
          133,
          243,
          107,
          155,
          113,
          90,
          118,
          108,
          110,
          122,
          108,
          145
         ],
         "yaxis": "y"
        }
       ],
       "layout": {
        "legend": {
         "tracegroupgap": 0
        },
        "template": {
         "data": {
          "bar": [
           {
            "error_x": {
             "color": "#2a3f5f"
            },
            "error_y": {
             "color": "#2a3f5f"
            },
            "marker": {
             "line": {
              "color": "#E5ECF6",
              "width": 0.5
             },
             "pattern": {
              "fillmode": "overlay",
              "size": 10,
              "solidity": 0.2
             }
            },
            "type": "bar"
           }
          ],
          "barpolar": [
           {
            "marker": {
             "line": {
              "color": "#E5ECF6",
              "width": 0.5
             },
             "pattern": {
              "fillmode": "overlay",
              "size": 10,
              "solidity": 0.2
             }
            },
            "type": "barpolar"
           }
          ],
          "carpet": [
           {
            "aaxis": {
             "endlinecolor": "#2a3f5f",
             "gridcolor": "white",
             "linecolor": "white",
             "minorgridcolor": "white",
             "startlinecolor": "#2a3f5f"
            },
            "baxis": {
             "endlinecolor": "#2a3f5f",
             "gridcolor": "white",
             "linecolor": "white",
             "minorgridcolor": "white",
             "startlinecolor": "#2a3f5f"
            },
            "type": "carpet"
           }
          ],
          "choropleth": [
           {
            "colorbar": {
             "outlinewidth": 0,
             "ticks": ""
            },
            "type": "choropleth"
           }
          ],
          "contour": [
           {
            "colorbar": {
             "outlinewidth": 0,
             "ticks": ""
            },
            "colorscale": [
             [
              0,
              "#0d0887"
             ],
             [
              0.1111111111111111,
              "#46039f"
             ],
             [
              0.2222222222222222,
              "#7201a8"
             ],
             [
              0.3333333333333333,
              "#9c179e"
             ],
             [
              0.4444444444444444,
              "#bd3786"
             ],
             [
              0.5555555555555556,
              "#d8576b"
             ],
             [
              0.6666666666666666,
              "#ed7953"
             ],
             [
              0.7777777777777778,
              "#fb9f3a"
             ],
             [
              0.8888888888888888,
              "#fdca26"
             ],
             [
              1,
              "#f0f921"
             ]
            ],
            "type": "contour"
           }
          ],
          "contourcarpet": [
           {
            "colorbar": {
             "outlinewidth": 0,
             "ticks": ""
            },
            "type": "contourcarpet"
           }
          ],
          "heatmap": [
           {
            "colorbar": {
             "outlinewidth": 0,
             "ticks": ""
            },
            "colorscale": [
             [
              0,
              "#0d0887"
             ],
             [
              0.1111111111111111,
              "#46039f"
             ],
             [
              0.2222222222222222,
              "#7201a8"
             ],
             [
              0.3333333333333333,
              "#9c179e"
             ],
             [
              0.4444444444444444,
              "#bd3786"
             ],
             [
              0.5555555555555556,
              "#d8576b"
             ],
             [
              0.6666666666666666,
              "#ed7953"
             ],
             [
              0.7777777777777778,
              "#fb9f3a"
             ],
             [
              0.8888888888888888,
              "#fdca26"
             ],
             [
              1,
              "#f0f921"
             ]
            ],
            "type": "heatmap"
           }
          ],
          "heatmapgl": [
           {
            "colorbar": {
             "outlinewidth": 0,
             "ticks": ""
            },
            "colorscale": [
             [
              0,
              "#0d0887"
             ],
             [
              0.1111111111111111,
              "#46039f"
             ],
             [
              0.2222222222222222,
              "#7201a8"
             ],
             [
              0.3333333333333333,
              "#9c179e"
             ],
             [
              0.4444444444444444,
              "#bd3786"
             ],
             [
              0.5555555555555556,
              "#d8576b"
             ],
             [
              0.6666666666666666,
              "#ed7953"
             ],
             [
              0.7777777777777778,
              "#fb9f3a"
             ],
             [
              0.8888888888888888,
              "#fdca26"
             ],
             [
              1,
              "#f0f921"
             ]
            ],
            "type": "heatmapgl"
           }
          ],
          "histogram": [
           {
            "marker": {
             "pattern": {
              "fillmode": "overlay",
              "size": 10,
              "solidity": 0.2
             }
            },
            "type": "histogram"
           }
          ],
          "histogram2d": [
           {
            "colorbar": {
             "outlinewidth": 0,
             "ticks": ""
            },
            "colorscale": [
             [
              0,
              "#0d0887"
             ],
             [
              0.1111111111111111,
              "#46039f"
             ],
             [
              0.2222222222222222,
              "#7201a8"
             ],
             [
              0.3333333333333333,
              "#9c179e"
             ],
             [
              0.4444444444444444,
              "#bd3786"
             ],
             [
              0.5555555555555556,
              "#d8576b"
             ],
             [
              0.6666666666666666,
              "#ed7953"
             ],
             [
              0.7777777777777778,
              "#fb9f3a"
             ],
             [
              0.8888888888888888,
              "#fdca26"
             ],
             [
              1,
              "#f0f921"
             ]
            ],
            "type": "histogram2d"
           }
          ],
          "histogram2dcontour": [
           {
            "colorbar": {
             "outlinewidth": 0,
             "ticks": ""
            },
            "colorscale": [
             [
              0,
              "#0d0887"
             ],
             [
              0.1111111111111111,
              "#46039f"
             ],
             [
              0.2222222222222222,
              "#7201a8"
             ],
             [
              0.3333333333333333,
              "#9c179e"
             ],
             [
              0.4444444444444444,
              "#bd3786"
             ],
             [
              0.5555555555555556,
              "#d8576b"
             ],
             [
              0.6666666666666666,
              "#ed7953"
             ],
             [
              0.7777777777777778,
              "#fb9f3a"
             ],
             [
              0.8888888888888888,
              "#fdca26"
             ],
             [
              1,
              "#f0f921"
             ]
            ],
            "type": "histogram2dcontour"
           }
          ],
          "mesh3d": [
           {
            "colorbar": {
             "outlinewidth": 0,
             "ticks": ""
            },
            "type": "mesh3d"
           }
          ],
          "parcoords": [
           {
            "line": {
             "colorbar": {
              "outlinewidth": 0,
              "ticks": ""
             }
            },
            "type": "parcoords"
           }
          ],
          "pie": [
           {
            "automargin": true,
            "type": "pie"
           }
          ],
          "scatter": [
           {
            "fillpattern": {
             "fillmode": "overlay",
             "size": 10,
             "solidity": 0.2
            },
            "type": "scatter"
           }
          ],
          "scatter3d": [
           {
            "line": {
             "colorbar": {
              "outlinewidth": 0,
              "ticks": ""
             }
            },
            "marker": {
             "colorbar": {
              "outlinewidth": 0,
              "ticks": ""
             }
            },
            "type": "scatter3d"
           }
          ],
          "scattercarpet": [
           {
            "marker": {
             "colorbar": {
              "outlinewidth": 0,
              "ticks": ""
             }
            },
            "type": "scattercarpet"
           }
          ],
          "scattergeo": [
           {
            "marker": {
             "colorbar": {
              "outlinewidth": 0,
              "ticks": ""
             }
            },
            "type": "scattergeo"
           }
          ],
          "scattergl": [
           {
            "marker": {
             "colorbar": {
              "outlinewidth": 0,
              "ticks": ""
             }
            },
            "type": "scattergl"
           }
          ],
          "scattermapbox": [
           {
            "marker": {
             "colorbar": {
              "outlinewidth": 0,
              "ticks": ""
             }
            },
            "type": "scattermapbox"
           }
          ],
          "scatterpolar": [
           {
            "marker": {
             "colorbar": {
              "outlinewidth": 0,
              "ticks": ""
             }
            },
            "type": "scatterpolar"
           }
          ],
          "scatterpolargl": [
           {
            "marker": {
             "colorbar": {
              "outlinewidth": 0,
              "ticks": ""
             }
            },
            "type": "scatterpolargl"
           }
          ],
          "scatterternary": [
           {
            "marker": {
             "colorbar": {
              "outlinewidth": 0,
              "ticks": ""
             }
            },
            "type": "scatterternary"
           }
          ],
          "surface": [
           {
            "colorbar": {
             "outlinewidth": 0,
             "ticks": ""
            },
            "colorscale": [
             [
              0,
              "#0d0887"
             ],
             [
              0.1111111111111111,
              "#46039f"
             ],
             [
              0.2222222222222222,
              "#7201a8"
             ],
             [
              0.3333333333333333,
              "#9c179e"
             ],
             [
              0.4444444444444444,
              "#bd3786"
             ],
             [
              0.5555555555555556,
              "#d8576b"
             ],
             [
              0.6666666666666666,
              "#ed7953"
             ],
             [
              0.7777777777777778,
              "#fb9f3a"
             ],
             [
              0.8888888888888888,
              "#fdca26"
             ],
             [
              1,
              "#f0f921"
             ]
            ],
            "type": "surface"
           }
          ],
          "table": [
           {
            "cells": {
             "fill": {
              "color": "#EBF0F8"
             },
             "line": {
              "color": "white"
             }
            },
            "header": {
             "fill": {
              "color": "#C8D4E3"
             },
             "line": {
              "color": "white"
             }
            },
            "type": "table"
           }
          ]
         },
         "layout": {
          "annotationdefaults": {
           "arrowcolor": "#2a3f5f",
           "arrowhead": 0,
           "arrowwidth": 1
          },
          "autotypenumbers": "strict",
          "coloraxis": {
           "colorbar": {
            "outlinewidth": 0,
            "ticks": ""
           }
          },
          "colorscale": {
           "diverging": [
            [
             0,
             "#8e0152"
            ],
            [
             0.1,
             "#c51b7d"
            ],
            [
             0.2,
             "#de77ae"
            ],
            [
             0.3,
             "#f1b6da"
            ],
            [
             0.4,
             "#fde0ef"
            ],
            [
             0.5,
             "#f7f7f7"
            ],
            [
             0.6,
             "#e6f5d0"
            ],
            [
             0.7,
             "#b8e186"
            ],
            [
             0.8,
             "#7fbc41"
            ],
            [
             0.9,
             "#4d9221"
            ],
            [
             1,
             "#276419"
            ]
           ],
           "sequential": [
            [
             0,
             "#0d0887"
            ],
            [
             0.1111111111111111,
             "#46039f"
            ],
            [
             0.2222222222222222,
             "#7201a8"
            ],
            [
             0.3333333333333333,
             "#9c179e"
            ],
            [
             0.4444444444444444,
             "#bd3786"
            ],
            [
             0.5555555555555556,
             "#d8576b"
            ],
            [
             0.6666666666666666,
             "#ed7953"
            ],
            [
             0.7777777777777778,
             "#fb9f3a"
            ],
            [
             0.8888888888888888,
             "#fdca26"
            ],
            [
             1,
             "#f0f921"
            ]
           ],
           "sequentialminus": [
            [
             0,
             "#0d0887"
            ],
            [
             0.1111111111111111,
             "#46039f"
            ],
            [
             0.2222222222222222,
             "#7201a8"
            ],
            [
             0.3333333333333333,
             "#9c179e"
            ],
            [
             0.4444444444444444,
             "#bd3786"
            ],
            [
             0.5555555555555556,
             "#d8576b"
            ],
            [
             0.6666666666666666,
             "#ed7953"
            ],
            [
             0.7777777777777778,
             "#fb9f3a"
            ],
            [
             0.8888888888888888,
             "#fdca26"
            ],
            [
             1,
             "#f0f921"
            ]
           ]
          },
          "colorway": [
           "#636efa",
           "#EF553B",
           "#00cc96",
           "#ab63fa",
           "#FFA15A",
           "#19d3f3",
           "#FF6692",
           "#B6E880",
           "#FF97FF",
           "#FECB52"
          ],
          "font": {
           "color": "#2a3f5f"
          },
          "geo": {
           "bgcolor": "white",
           "lakecolor": "white",
           "landcolor": "#E5ECF6",
           "showlakes": true,
           "showland": true,
           "subunitcolor": "white"
          },
          "hoverlabel": {
           "align": "left"
          },
          "hovermode": "closest",
          "mapbox": {
           "style": "light"
          },
          "paper_bgcolor": "white",
          "plot_bgcolor": "#E5ECF6",
          "polar": {
           "angularaxis": {
            "gridcolor": "white",
            "linecolor": "white",
            "ticks": ""
           },
           "bgcolor": "#E5ECF6",
           "radialaxis": {
            "gridcolor": "white",
            "linecolor": "white",
            "ticks": ""
           }
          },
          "scene": {
           "xaxis": {
            "backgroundcolor": "#E5ECF6",
            "gridcolor": "white",
            "gridwidth": 2,
            "linecolor": "white",
            "showbackground": true,
            "ticks": "",
            "zerolinecolor": "white"
           },
           "yaxis": {
            "backgroundcolor": "#E5ECF6",
            "gridcolor": "white",
            "gridwidth": 2,
            "linecolor": "white",
            "showbackground": true,
            "ticks": "",
            "zerolinecolor": "white"
           },
           "zaxis": {
            "backgroundcolor": "#E5ECF6",
            "gridcolor": "white",
            "gridwidth": 2,
            "linecolor": "white",
            "showbackground": true,
            "ticks": "",
            "zerolinecolor": "white"
           }
          },
          "shapedefaults": {
           "line": {
            "color": "#2a3f5f"
           }
          },
          "ternary": {
           "aaxis": {
            "gridcolor": "white",
            "linecolor": "white",
            "ticks": ""
           },
           "baxis": {
            "gridcolor": "white",
            "linecolor": "white",
            "ticks": ""
           },
           "bgcolor": "#E5ECF6",
           "caxis": {
            "gridcolor": "white",
            "linecolor": "white",
            "ticks": ""
           }
          },
          "title": {
           "x": 0.05
          },
          "xaxis": {
           "automargin": true,
           "gridcolor": "white",
           "linecolor": "white",
           "ticks": "",
           "title": {
            "standoff": 15
           },
           "zerolinecolor": "white",
           "zerolinewidth": 2
          },
          "yaxis": {
           "automargin": true,
           "gridcolor": "white",
           "linecolor": "white",
           "ticks": "",
           "title": {
            "standoff": 15
           },
           "zerolinecolor": "white",
           "zerolinewidth": 2
          }
         }
        },
        "title": {
         "text": "Tempo até sentença ao longo dos anos"
        },
        "xaxis": {
         "anchor": "y",
         "domain": [
          0,
          1
         ],
         "title": {
          "text": "Ano"
         }
        },
        "yaxis": {
         "anchor": "x",
         "domain": [
          0,
          1
         ],
         "title": {
          "text": "Tempo até sentença"
         }
        }
       }
      },
      "text/html": [
       "<div>                            <div id=\"dc0d93ee-3937-45b2-80c8-7f6072c2ec15\" class=\"plotly-graph-div\" style=\"height:525px; width:100%;\"></div>            <script type=\"text/javascript\">                require([\"plotly\"], function(Plotly) {                    window.PLOTLYENV=window.PLOTLYENV || {};                                    if (document.getElementById(\"dc0d93ee-3937-45b2-80c8-7f6072c2ec15\")) {                    Plotly.newPlot(                        \"dc0d93ee-3937-45b2-80c8-7f6072c2ec15\",                        [{\"hovertemplate\":\"data_sentenca=%{x}\\u003cbr\\u003etempo_ate_sentenca=%{y}\\u003cextra\\u003e\\u003c\\u002fextra\\u003e\",\"legendgroup\":\"\",\"line\":{\"color\":\"#636efa\",\"dash\":\"solid\"},\"marker\":{\"symbol\":\"circle\"},\"mode\":\"lines\",\"name\":\"\",\"orientation\":\"v\",\"showlegend\":false,\"x\":[\"2018-03-15\",\"2018-03-15\",\"2018-03-15\",\"2018-03-26\",\"2018-04-20\",\"2018-04-30\",\"2018-07-26\",\"2018-08-08\",\"2018-08-09\",\"2018-08-09\",\"2018-08-10\",\"2018-08-16\",\"2018-08-22\",\"2018-08-22\",\"2018-08-28\",\"2018-09-17\",\"2018-09-18\",\"2018-10-05\",\"2018-10-05\",\"2018-10-05\",\"2018-10-05\",\"2018-10-11\",\"2018-10-15\",\"2018-10-25\",\"2018-10-25\",\"2018-10-25\",\"2018-10-25\",\"2018-10-26\",\"2018-11-07\",\"2018-11-13\",\"2018-11-19\",\"2018-11-20\",\"2018-11-20\",\"2018-11-23\",\"2018-11-29\",\"2018-11-30\",\"2018-11-30\",\"2018-12-05\",\"2019-01-10\",\"2019-01-22\",\"2019-01-22\",\"2019-01-22\",\"2019-01-31\",\"2019-02-12\",\"2019-02-12\",\"2019-02-12\",\"2019-02-14\",\"2019-02-18\",\"2019-02-20\",\"2019-03-08\",\"2019-03-08\",\"2019-03-15\",\"2019-03-15\",\"2019-03-15\",\"2019-04-29\",\"2019-05-13\",\"2019-05-13\",\"2019-05-13\",\"2019-05-13\",\"2019-05-28\",\"2019-05-28\",\"2019-06-11\",\"2019-06-11\",\"2019-06-11\",\"2019-06-17\",\"2019-06-17\",\"2019-06-26\",\"2019-06-26\",\"2019-06-27\",\"2019-06-27\",\"2019-07-18\",\"2019-07-18\",\"2019-07-18\",\"2019-07-23\",\"2019-07-23\",\"2019-07-23\",\"2019-07-23\",\"2019-07-23\",\"2019-07-23\",\"2019-07-23\",\"2019-07-23\",\"2019-08-12\",\"2019-08-21\",\"2019-09-11\",\"2019-10-02\",\"2019-10-10\",\"2019-10-10\",\"2019-11-08\",\"2019-11-08\",\"2019-11-13\",\"2019-11-13\",\"2019-11-26\",\"2020-01-10\",\"2020-01-10\",\"2020-01-10\",\"2020-01-10\",\"2020-01-13\",\"2020-01-13\",\"2020-01-13\",\"2020-01-13\",\"2020-01-13\",\"2020-01-13\",\"2020-01-13\",\"2020-01-13\",\"2020-01-15\",\"2020-01-15\",\"2020-01-15\",\"2020-01-23\",\"2020-01-23\",\"2020-01-26\",\"2020-01-28\",\"2020-01-28\",\"2020-01-28\",\"2020-01-28\",\"2020-02-03\",\"2020-02-03\",\"2020-02-04\",\"2020-02-05\",\"2020-02-11\",\"2020-02-11\",\"2020-02-19\",\"2020-02-27\",\"2020-02-27\",\"2020-02-27\",\"2020-02-27\",\"2020-02-27\",\"2020-03-20\",\"2020-03-26\",\"2020-03-26\",\"2020-03-26\",\"2020-03-26\",\"2020-03-26\",\"2020-03-26\",\"2020-03-31\",\"2020-04-09\",\"2020-04-09\",\"2020-04-09\",\"2020-04-09\",\"2020-04-09\",\"2020-04-13\",\"2020-04-13\",\"2020-04-13\",\"2020-04-15\",\"2020-04-16\",\"2020-04-16\",\"2020-04-16\",\"2020-04-16\",\"2020-04-20\",\"2020-04-23\",\"2020-05-06\",\"2020-05-12\",\"2020-05-12\",\"2020-05-13\",\"2020-05-19\",\"2020-05-19\",\"2020-05-21\",\"2020-05-25\",\"2020-05-25\",\"2020-05-27\",\"2020-05-29\",\"2020-06-02\",\"2020-06-02\",\"2020-06-02\",\"2020-06-02\",\"2020-06-02\",\"2020-06-02\",\"2020-06-12\",\"2020-06-12\",\"2020-06-17\",\"2020-06-17\",\"2020-06-17\",\"2020-06-17\",\"2020-06-17\",\"2020-06-22\",\"2020-06-22\",\"2020-06-25\",\"2020-06-25\",\"2020-06-30\",\"2020-06-30\",\"2020-06-30\",\"2020-06-30\",\"2020-07-16\",\"2020-07-16\",\"2020-07-16\",\"2020-07-21\",\"2020-07-21\",\"2020-07-30\",\"2020-07-31\",\"2020-07-31\",\"2020-07-31\",\"2020-07-31\",\"2020-08-10\",\"2020-08-10\",\"2020-08-10\",\"2020-08-10\",\"2020-08-12\",\"2020-08-12\",\"2020-08-17\",\"2020-08-17\",\"2020-08-17\",\"2020-08-17\",\"2020-08-19\",\"2020-08-27\",\"2020-08-27\",\"2020-09-01\",\"2020-09-01\",\"2020-09-01\",\"2020-09-08\",\"2020-09-08\",\"2020-09-08\",\"2020-09-16\",\"2020-09-16\",\"2020-09-23\",\"2020-09-24\",\"2020-09-24\",\"2020-09-24\",\"2020-09-24\",\"2020-09-24\",\"2020-09-24\",\"2020-09-29\",\"2020-09-29\",\"2020-09-29\",\"2020-09-29\",\"2020-09-29\",\"2020-09-29\",\"2020-09-29\",\"2020-09-29\",\"2020-09-29\",\"2020-09-29\",\"2020-09-29\",\"2020-09-29\",\"2020-09-29\",\"2020-09-29\",\"2020-09-29\",\"2020-10-01\",\"2020-10-05\",\"2020-10-08\",\"2020-10-15\",\"2020-10-20\",\"2020-10-26\",\"2020-10-26\",\"2020-10-26\",\"2020-10-28\",\"2020-10-28\",\"2020-10-28\",\"2020-10-28\",\"2020-10-28\",\"2020-11-08\",\"2020-11-08\",\"2020-11-08\",\"2020-11-08\",\"2020-11-10\",\"2020-11-10\",\"2020-11-10\",\"2020-11-13\",\"2020-11-13\",\"2020-11-13\",\"2020-11-13\",\"2020-11-13\",\"2020-11-24\",\"2020-11-30\",\"2020-11-30\",\"2020-11-30\",\"2020-11-30\",\"2020-11-30\",\"2020-11-30\",\"2020-11-30\",\"2020-11-30\",\"2020-12-03\",\"2020-12-08\",\"2020-12-08\",\"2020-12-10\",\"2020-12-14\",\"2020-12-14\",\"2020-12-17\",\"2020-12-17\",\"2020-12-17\",\"2020-12-17\",\"2020-12-17\",\"2020-12-17\",\"2020-12-17\",\"2020-12-26\",\"2020-12-26\",\"2020-12-26\",\"2020-12-26\",\"2021-01-09\",\"2021-01-09\",\"2021-01-14\",\"2021-01-14\",\"2021-01-19\",\"2021-01-19\",\"2021-01-21\",\"2021-01-22\",\"2021-01-26\",\"2021-01-26\",\"2021-01-27\",\"2021-01-28\",\"2021-02-01\",\"2021-02-01\",\"2021-02-01\",\"2021-02-01\",\"2021-02-01\",\"2021-02-01\",\"2021-02-01\",\"2021-02-02\",\"2021-02-02\",\"2021-02-02\",\"2021-02-03\",\"2021-02-03\",\"2021-02-03\",\"2021-02-03\",\"2021-02-04\",\"2021-02-05\",\"2021-02-05\",\"2021-02-05\",\"2021-02-05\",\"2021-02-05\",\"2021-02-08\",\"2021-02-08\",\"2021-02-08\",\"2021-02-11\",\"2021-02-11\",\"2021-02-16\",\"2021-02-17\",\"2021-02-17\",\"2021-02-23\",\"2021-02-23\",\"2021-02-26\",\"2021-03-02\",\"2021-03-02\",\"2021-03-03\",\"2021-03-03\",\"2021-03-03\",\"2021-03-04\",\"2021-03-05\",\"2021-03-09\",\"2021-03-10\",\"2021-03-12\",\"2021-03-12\",\"2021-03-15\",\"2021-03-19\",\"2021-03-19\",\"2021-03-27\",\"2021-03-29\",\"2021-04-02\",\"2021-04-05\",\"2021-04-05\",\"2021-04-05\",\"2021-04-05\",\"2021-04-07\",\"2021-04-13\",\"2021-04-14\",\"2021-04-19\",\"2021-04-19\",\"2021-04-20\",\"2021-04-22\",\"2021-04-22\",\"2021-04-26\",\"2021-04-26\",\"2021-04-26\",\"2021-05-03\",\"2021-05-03\",\"2021-05-03\",\"2021-05-03\",\"2021-05-06\",\"2021-05-10\",\"2021-05-10\",\"2021-05-11\",\"2021-05-11\",\"2021-05-12\",\"2021-05-12\",\"2021-05-17\",\"2021-05-17\",\"2021-05-19\",\"2021-05-19\",\"2021-05-19\",\"2021-06-01\",\"2021-06-01\",\"2021-06-02\",\"2021-06-02\",\"2021-06-07\",\"2021-06-09\",\"2021-06-09\",\"2021-06-09\",\"2021-06-10\",\"2021-06-11\",\"2021-06-15\",\"2021-06-18\",\"2021-06-21\",\"2021-07-08\",\"2021-07-08\",\"2021-07-08\",\"2021-07-13\",\"2021-07-16\",\"2021-07-21\",\"2021-07-24\",\"2021-07-26\",\"2021-08-02\",\"2021-08-03\",\"2021-08-03\",\"2021-08-05\",\"2021-08-09\",\"2021-08-09\",\"2021-08-10\",\"2021-09-06\",\"2021-09-13\",\"2021-09-26\",\"2021-09-29\",\"2021-10-05\",\"2021-10-08\",\"2021-10-11\",\"2021-10-11\",\"2021-11-03\",\"2021-11-03\",\"2021-11-03\",\"2021-11-07\",\"2021-11-07\",\"2021-11-07\",\"2021-11-15\",\"2021-11-15\",\"2021-11-17\",\"2021-12-01\",\"2021-12-08\",\"2021-12-09\",\"2021-12-13\",\"2021-12-13\",\"2021-12-15\",\"2021-12-15\",\"2022-01-12\",\"2022-01-14\",\"2022-01-17\",\"2022-01-17\",\"2022-01-17\",\"2022-01-17\",\"2022-01-21\",\"2022-01-26\",\"2022-01-27\",\"2022-01-28\",\"2022-02-01\",\"2022-02-01\",\"2022-02-03\",\"2022-02-07\",\"2022-02-07\",\"2022-02-07\",\"2022-02-11\",\"2022-02-19\",\"2022-02-23\",\"2022-03-07\",\"2022-03-15\",\"2022-03-16\",\"2022-03-24\",\"2022-03-24\",\"2022-03-29\",\"2022-03-29\",\"2022-03-30\",\"2022-04-04\",\"2022-04-12\",\"2022-04-25\",\"2022-04-25\",\"2022-04-26\",\"2022-04-29\",\"2022-05-02\",\"2022-05-02\",\"2022-05-03\",\"2022-05-30\",\"2022-05-31\",\"2022-05-31\",\"2022-06-01\",\"2022-06-01\",\"2022-06-01\",\"2022-06-02\",\"2022-06-03\",\"2022-06-07\",\"2022-06-07\",\"2022-06-09\",\"2022-06-09\",\"2022-06-19\",\"2022-06-20\",\"2022-06-20\",\"2022-06-21\",\"2022-06-21\",\"2022-06-21\",\"2022-06-22\",\"2022-06-28\",\"2022-07-11\",\"2022-07-11\",\"2022-07-14\",\"2022-07-14\",\"2022-07-14\",\"2022-07-14\",\"2022-07-14\",\"2022-07-30\",\"2022-07-30\",\"2022-07-30\",\"2022-07-30\",\"2022-07-30\",\"2022-07-30\",\"2022-07-31\",\"2022-07-31\",\"2022-07-31\",\"2022-07-31\",\"2022-07-31\",\"2022-07-31\",\"2022-07-31\",\"2022-08-08\",\"2022-08-08\",\"2022-08-12\",\"2022-08-18\",\"2022-08-18\",\"2022-08-18\",\"2022-08-23\",\"2022-08-23\",\"2022-08-29\",\"2022-08-30\",\"2022-09-01\",\"2022-09-02\",\"2022-09-04\",\"2022-09-05\",\"2022-09-06\",\"2022-09-06\",\"2022-09-08\",\"2022-09-08\",\"2022-09-08\",\"2022-09-08\",\"2022-09-12\",\"2022-09-12\",\"2022-09-13\",\"2022-09-14\",\"2022-09-14\",\"2022-09-14\",\"2022-09-14\",\"2022-09-14\",\"2022-09-14\",\"2022-09-15\",\"2022-09-15\",\"2022-09-16\",\"2022-09-20\",\"2022-09-20\",\"2022-09-22\",\"2022-09-23\",\"2022-09-28\",\"2022-09-28\",\"2022-09-28\",\"2022-09-28\",\"2022-10-09\",\"2022-10-10\",\"2022-10-11\",\"2022-10-11\",\"2022-10-11\",\"2022-10-13\",\"2022-10-17\",\"2022-10-18\",\"2022-10-18\",\"2022-10-20\",\"2022-10-25\",\"2022-10-25\",\"2022-10-26\",\"2022-10-26\",\"2022-10-27\",\"2022-10-31\",\"2022-11-02\",\"2022-11-02\",\"2022-11-07\",\"2022-11-07\",\"2022-11-07\",\"2022-11-09\",\"2022-11-11\",\"2022-11-14\",\"2022-11-14\",\"2022-11-18\",\"2022-11-20\",\"2022-11-20\",\"2022-11-23\",\"2022-11-23\",\"2022-12-07\",\"2022-12-07\",\"2022-12-07\",\"2022-12-07\",\"2022-12-07\",\"2022-12-09\",\"2022-12-09\",\"2022-12-13\",\"2022-12-16\",\"2022-12-28\",\"2022-12-30\",\"2023-01-11\",\"2023-01-17\",\"2023-01-17\",\"2023-01-18\",\"2023-01-24\",\"2023-01-25\",\"2023-01-26\",\"2023-01-27\",\"2023-01-27\",\"2023-01-30\",\"2023-01-30\",\"2023-01-30\",\"2023-01-31\",\"2023-01-31\",\"2023-01-31\",\"2023-01-31\",\"2023-01-31\",\"2023-02-01\",\"2023-02-01\",\"2023-02-02\",\"2023-02-02\",\"2023-02-02\",\"2023-02-02\",\"2023-02-03\",\"2023-02-06\",\"2023-02-06\",\"2023-02-06\",\"2023-02-06\",\"2023-02-07\",\"2023-02-07\",\"2023-02-07\",\"2023-02-07\",\"2023-02-08\",\"2023-02-08\",\"2023-02-08\",\"2023-02-09\",\"2023-02-10\",\"2023-02-10\",\"2023-02-10\",\"2023-02-13\",\"2023-02-13\",\"2023-02-15\",\"2023-02-15\",\"2023-02-15\",\"2023-02-15\",\"2023-02-15\",\"2023-02-17\",\"2023-02-17\",\"2023-02-17\",\"2023-02-25\",\"2023-02-27\",\"2023-02-27\",\"2023-03-01\",\"2023-03-01\",\"2023-03-01\",\"2023-03-01\",\"2023-03-06\",\"2023-03-09\",\"2023-03-13\",\"2023-03-13\",\"2023-03-13\",\"2023-03-13\",\"2023-03-13\",\"2023-03-16\",\"2023-03-17\",\"2023-03-20\",\"2023-03-20\",\"2023-03-21\",\"2023-03-23\",\"2023-03-23\",\"2023-03-25\",\"2023-03-27\",\"2023-03-28\",\"2023-03-28\",\"2023-03-29\",\"2023-04-01\",\"2023-04-05\",\"2023-04-07\",\"2023-04-07\",\"2023-04-07\",\"2023-04-08\",\"2023-04-10\",\"2023-04-13\",\"2023-04-14\",\"2023-04-19\",\"2023-04-20\",\"2023-04-20\",\"2023-04-21\",\"2023-04-22\",\"2023-04-22\",\"2023-04-26\",\"2023-04-28\",\"2023-05-04\",\"2023-05-16\",\"2023-05-17\",\"2023-05-17\",\"2023-05-18\",\"2023-05-30\",\"2023-05-31\",\"2023-06-01\",\"2023-06-05\",\"2023-06-21\",\"2023-06-23\",\"2023-06-23\",\"2023-06-23\",\"2023-06-28\",\"2023-07-01\",\"2023-07-01\",\"2023-07-01\",\"2023-07-14\",\"2023-07-31\",\"2023-08-21\",\"2023-08-24\",\"2023-08-29\",\"2023-09-01\",\"2023-10-06\",\"2023-10-06\"],\"xaxis\":\"x\",\"y\":[379.0,379.0,379.0,303.0,402.0,203.0,184.0,396.0,492.0,492.0,575.0,413.0,587.0,414.0,4.0,175.0,377.0,373.0,520.0,520.0,173.0,378.0,479.0,591.0,455.0,591.0,549.0,463.0,622.0,62.0,129.0,526.0,526.0,451.0,162.0,619.0,619.0,443.0,371.0,155.0,155.0,680.0,139.0,167.0,167.0,159.0,147.0,153.0,344.0,207.0,105.0,186.0,196.0,196.0,216.0,164.0,256.0,164.0,195.0,182.0,92.0,188.0,207.0,188.0,56.0,56.0,140.0,226.0,136.0,108.0,189.0,228.0,107.0,112.0,146.0,76.0,146.0,150.0,76.0,215.0,150.0,258.0,187.0,749.0,758.0,171.0,58.0,620.0,414.0,337.0,337.0,127.0,224.0,169.0,395.0,155.0,164.0,250.0,154.0,251.0,207.0,397.0,250.0,138.0,174.0,159.0,159.0,91.0,161.0,139.0,131.0,85.0,125.0,125.0,129.0,129.0,135.0,148.0,158.0,158.0,113.0,132.0,114.0,132.0,143.0,143.0,179.0,135.0,167.0,198.0,198.0,139.0,139.0,132.0,184.0,169.0,184.0,127.0,205.0,131.0,125.0,131.0,266.0,329.0,140.0,329.0,140.0,301.0,255.0,83.0,56.0,243.0,99.0,188.0,181.0,248.0,319.0,235.0,265.0,185.0,202.0,202.0,131.0,131.0,173.0,133.0,128.0,225.0,100.0,103.0,98.0,89.0,100.0,262.0,245.0,854.0,576.0,134.0,211.0,119.0,119.0,135.0,112.0,135.0,106.0,292.0,175.0,126.0,126.0,109.0,109.0,72.0,293.0,236.0,72.0,246.0,246.0,97.0,136.0,114.0,97.0,209.0,117.0,114.0,251.0,214.0,216.0,131.0,133.0,131.0,219.0,300.0,350.0,280.0,135.0,197.0,171.0,308.0,280.0,96.0,103.0,127.0,132.0,103.0,250.0,64.0,105.0,127.0,105.0,131.0,105.0,60.0,131.0,103.0,86.0,69.0,350.0,307.0,211.0,116.0,117.0,117.0,133.0,133.0,224.0,133.0,80.0,328.0,187.0,243.0,103.0,144.0,144.0,88.0,150.0,92.0,134.0,134.0,150.0,230.0,110.0,160.0,247.0,237.0,110.0,172.0,160.0,247.0,198.0,239.0,161.0,135.0,203.0,109.0,136.0,105.0,105.0,144.0,144.0,118.0,114.0,165.0,131.0,128.0,156.0,421.0,122.0,261.0,203.0,252.0,252.0,352.0,227.0,131.0,131.0,252.0,318.0,180.0,164.0,169.0,165.0,180.0,213.0,417.0,231.0,231.0,295.0,153.0,141.0,175.0,156.0,385.0,152.0,150.0,431.0,152.0,150.0,377.0,175.0,1023.0,225.0,225.0,173.0,209.0,209.0,578.0,298.0,114.0,182.0,176.0,203.0,190.0,172.0,169.0,114.0,141.0,202.0,130.0,177.0,178.0,167.0,167.0,439.0,263.0,199.0,208.0,247.0,195.0,188.0,184.0,201.0,169.0,136.0,117.0,260.0,135.0,182.0,139.0,136.0,136.0,181.0,189.0,110.0,181.0,241.0,196.0,196.0,124.0,124.0,141.0,141.0,53.0,53.0,141.0,131.0,141.0,258.0,103.0,97.0,162.0,92.0,288.0,226.0,202.0,195.0,340.0,178.0,109.0,118.0,122.0,111.0,122.0,113.0,74.0,299.0,403.0,132.0,167.0,144.0,132.0,139.0,112.0,125.0,110.0,104.0,115.0,118.0,84.0,118.0,105.0,171.0,171.0,106.0,100.0,106.0,101.0,97.0,101.0,67.0,67.0,114.0,104.0,161.0,104.0,133.0,133.0,78.0,78.0,226.0,184.0,329.0,69.0,137.0,69.0,151.0,166.0,126.0,114.0,131.0,124.0,111.0,111.0,133.0,133.0,119.0,171.0,110.0,140.0,204.0,63.0,147.0,147.0,120.0,109.0,121.0,249.0,175.0,117.0,98.0,85.0,119.0,137.0,137.0,112.0,609.0,153.0,152.0,96.0,587.0,96.0,178.0,91.0,516.0,27.0,213.0,78.0,94.0,115.0,68.0,73.0,132.0,73.0,34.0,169.0,91.0,91.0,221.0,182.0,161.0,161.0,182.0,208.0,58.0,113.0,163.0,113.0,58.0,94.0,156.0,122.0,118.0,124.0,75.0,135.0,136.0,131.0,115.0,63.0,63.0,119.0,162.0,158.0,185.0,140.0,148.0,170.0,166.0,158.0,117.0,78.0,202.0,202.0,161.0,121.0,166.0,180.0,172.0,167.0,160.0,140.0,160.0,160.0,172.0,163.0,135.0,143.0,147.0,146.0,177.0,179.0,175.0,153.0,155.0,165.0,37.0,165.0,133.0,148.0,133.0,150.0,75.0,487.0,76.0,119.0,112.0,124.0,162.0,162.0,142.0,133.0,128.0,128.0,126.0,115.0,115.0,117.0,137.0,138.0,138.0,185.0,132.0,136.0,154.0,78.0,114.0,141.0,114.0,147.0,141.0,161.0,161.0,132.0,150.0,151.0,164.0,169.0,204.0,197.0,197.0,210.0,208.0,226.0,320.0,106.0,208.0,189.0,178.0,146.0,138.0,146.0,202.0,238.0,176.0,148.0,129.0,195.0,202.0,205.0,136.0,122.0,122.0,160.0,148.0,43.0,140.0,147.0,104.0,226.0,71.0,123.0,142.0,215.0,112.0,158.0,155.0,244.0,175.0,110.0,170.0,193.0,140.0,207.0,749.0,205.0,81.0,103.0,122.0,182.0,134.0,145.0,104.0,158.0,164.0,226.0,89.0,80.0,145.0,175.0,160.0,198.0,91.0,91.0,99.0,112.0,133.0,177.0,132.0,942.0,198.0,197.0,166.0,160.0,161.0,144.0,144.0,155.0,172.0,39.0,103.0,148.0,149.0,197.0,39.0,113.0,113.0,163.0,193.0,184.0,174.0,118.0,198.0,90.0,91.0,126.0,90.0,193.0,205.0,170.0,834.0,162.0,133.0,243.0,107.0,155.0,113.0,90.0,118.0,108.0,110.0,122.0,108.0,145.0],\"yaxis\":\"y\",\"type\":\"scatter\"}],                        {\"template\":{\"data\":{\"histogram2dcontour\":[{\"type\":\"histogram2dcontour\",\"colorbar\":{\"outlinewidth\":0,\"ticks\":\"\"},\"colorscale\":[[0.0,\"#0d0887\"],[0.1111111111111111,\"#46039f\"],[0.2222222222222222,\"#7201a8\"],[0.3333333333333333,\"#9c179e\"],[0.4444444444444444,\"#bd3786\"],[0.5555555555555556,\"#d8576b\"],[0.6666666666666666,\"#ed7953\"],[0.7777777777777778,\"#fb9f3a\"],[0.8888888888888888,\"#fdca26\"],[1.0,\"#f0f921\"]]}],\"choropleth\":[{\"type\":\"choropleth\",\"colorbar\":{\"outlinewidth\":0,\"ticks\":\"\"}}],\"histogram2d\":[{\"type\":\"histogram2d\",\"colorbar\":{\"outlinewidth\":0,\"ticks\":\"\"},\"colorscale\":[[0.0,\"#0d0887\"],[0.1111111111111111,\"#46039f\"],[0.2222222222222222,\"#7201a8\"],[0.3333333333333333,\"#9c179e\"],[0.4444444444444444,\"#bd3786\"],[0.5555555555555556,\"#d8576b\"],[0.6666666666666666,\"#ed7953\"],[0.7777777777777778,\"#fb9f3a\"],[0.8888888888888888,\"#fdca26\"],[1.0,\"#f0f921\"]]}],\"heatmap\":[{\"type\":\"heatmap\",\"colorbar\":{\"outlinewidth\":0,\"ticks\":\"\"},\"colorscale\":[[0.0,\"#0d0887\"],[0.1111111111111111,\"#46039f\"],[0.2222222222222222,\"#7201a8\"],[0.3333333333333333,\"#9c179e\"],[0.4444444444444444,\"#bd3786\"],[0.5555555555555556,\"#d8576b\"],[0.6666666666666666,\"#ed7953\"],[0.7777777777777778,\"#fb9f3a\"],[0.8888888888888888,\"#fdca26\"],[1.0,\"#f0f921\"]]}],\"heatmapgl\":[{\"type\":\"heatmapgl\",\"colorbar\":{\"outlinewidth\":0,\"ticks\":\"\"},\"colorscale\":[[0.0,\"#0d0887\"],[0.1111111111111111,\"#46039f\"],[0.2222222222222222,\"#7201a8\"],[0.3333333333333333,\"#9c179e\"],[0.4444444444444444,\"#bd3786\"],[0.5555555555555556,\"#d8576b\"],[0.6666666666666666,\"#ed7953\"],[0.7777777777777778,\"#fb9f3a\"],[0.8888888888888888,\"#fdca26\"],[1.0,\"#f0f921\"]]}],\"contourcarpet\":[{\"type\":\"contourcarpet\",\"colorbar\":{\"outlinewidth\":0,\"ticks\":\"\"}}],\"contour\":[{\"type\":\"contour\",\"colorbar\":{\"outlinewidth\":0,\"ticks\":\"\"},\"colorscale\":[[0.0,\"#0d0887\"],[0.1111111111111111,\"#46039f\"],[0.2222222222222222,\"#7201a8\"],[0.3333333333333333,\"#9c179e\"],[0.4444444444444444,\"#bd3786\"],[0.5555555555555556,\"#d8576b\"],[0.6666666666666666,\"#ed7953\"],[0.7777777777777778,\"#fb9f3a\"],[0.8888888888888888,\"#fdca26\"],[1.0,\"#f0f921\"]]}],\"surface\":[{\"type\":\"surface\",\"colorbar\":{\"outlinewidth\":0,\"ticks\":\"\"},\"colorscale\":[[0.0,\"#0d0887\"],[0.1111111111111111,\"#46039f\"],[0.2222222222222222,\"#7201a8\"],[0.3333333333333333,\"#9c179e\"],[0.4444444444444444,\"#bd3786\"],[0.5555555555555556,\"#d8576b\"],[0.6666666666666666,\"#ed7953\"],[0.7777777777777778,\"#fb9f3a\"],[0.8888888888888888,\"#fdca26\"],[1.0,\"#f0f921\"]]}],\"mesh3d\":[{\"type\":\"mesh3d\",\"colorbar\":{\"outlinewidth\":0,\"ticks\":\"\"}}],\"scatter\":[{\"fillpattern\":{\"fillmode\":\"overlay\",\"size\":10,\"solidity\":0.2},\"type\":\"scatter\"}],\"parcoords\":[{\"type\":\"parcoords\",\"line\":{\"colorbar\":{\"outlinewidth\":0,\"ticks\":\"\"}}}],\"scatterpolargl\":[{\"type\":\"scatterpolargl\",\"marker\":{\"colorbar\":{\"outlinewidth\":0,\"ticks\":\"\"}}}],\"bar\":[{\"error_x\":{\"color\":\"#2a3f5f\"},\"error_y\":{\"color\":\"#2a3f5f\"},\"marker\":{\"line\":{\"color\":\"#E5ECF6\",\"width\":0.5},\"pattern\":{\"fillmode\":\"overlay\",\"size\":10,\"solidity\":0.2}},\"type\":\"bar\"}],\"scattergeo\":[{\"type\":\"scattergeo\",\"marker\":{\"colorbar\":{\"outlinewidth\":0,\"ticks\":\"\"}}}],\"scatterpolar\":[{\"type\":\"scatterpolar\",\"marker\":{\"colorbar\":{\"outlinewidth\":0,\"ticks\":\"\"}}}],\"histogram\":[{\"marker\":{\"pattern\":{\"fillmode\":\"overlay\",\"size\":10,\"solidity\":0.2}},\"type\":\"histogram\"}],\"scattergl\":[{\"type\":\"scattergl\",\"marker\":{\"colorbar\":{\"outlinewidth\":0,\"ticks\":\"\"}}}],\"scatter3d\":[{\"type\":\"scatter3d\",\"line\":{\"colorbar\":{\"outlinewidth\":0,\"ticks\":\"\"}},\"marker\":{\"colorbar\":{\"outlinewidth\":0,\"ticks\":\"\"}}}],\"scattermapbox\":[{\"type\":\"scattermapbox\",\"marker\":{\"colorbar\":{\"outlinewidth\":0,\"ticks\":\"\"}}}],\"scatterternary\":[{\"type\":\"scatterternary\",\"marker\":{\"colorbar\":{\"outlinewidth\":0,\"ticks\":\"\"}}}],\"scattercarpet\":[{\"type\":\"scattercarpet\",\"marker\":{\"colorbar\":{\"outlinewidth\":0,\"ticks\":\"\"}}}],\"carpet\":[{\"aaxis\":{\"endlinecolor\":\"#2a3f5f\",\"gridcolor\":\"white\",\"linecolor\":\"white\",\"minorgridcolor\":\"white\",\"startlinecolor\":\"#2a3f5f\"},\"baxis\":{\"endlinecolor\":\"#2a3f5f\",\"gridcolor\":\"white\",\"linecolor\":\"white\",\"minorgridcolor\":\"white\",\"startlinecolor\":\"#2a3f5f\"},\"type\":\"carpet\"}],\"table\":[{\"cells\":{\"fill\":{\"color\":\"#EBF0F8\"},\"line\":{\"color\":\"white\"}},\"header\":{\"fill\":{\"color\":\"#C8D4E3\"},\"line\":{\"color\":\"white\"}},\"type\":\"table\"}],\"barpolar\":[{\"marker\":{\"line\":{\"color\":\"#E5ECF6\",\"width\":0.5},\"pattern\":{\"fillmode\":\"overlay\",\"size\":10,\"solidity\":0.2}},\"type\":\"barpolar\"}],\"pie\":[{\"automargin\":true,\"type\":\"pie\"}]},\"layout\":{\"autotypenumbers\":\"strict\",\"colorway\":[\"#636efa\",\"#EF553B\",\"#00cc96\",\"#ab63fa\",\"#FFA15A\",\"#19d3f3\",\"#FF6692\",\"#B6E880\",\"#FF97FF\",\"#FECB52\"],\"font\":{\"color\":\"#2a3f5f\"},\"hovermode\":\"closest\",\"hoverlabel\":{\"align\":\"left\"},\"paper_bgcolor\":\"white\",\"plot_bgcolor\":\"#E5ECF6\",\"polar\":{\"bgcolor\":\"#E5ECF6\",\"angularaxis\":{\"gridcolor\":\"white\",\"linecolor\":\"white\",\"ticks\":\"\"},\"radialaxis\":{\"gridcolor\":\"white\",\"linecolor\":\"white\",\"ticks\":\"\"}},\"ternary\":{\"bgcolor\":\"#E5ECF6\",\"aaxis\":{\"gridcolor\":\"white\",\"linecolor\":\"white\",\"ticks\":\"\"},\"baxis\":{\"gridcolor\":\"white\",\"linecolor\":\"white\",\"ticks\":\"\"},\"caxis\":{\"gridcolor\":\"white\",\"linecolor\":\"white\",\"ticks\":\"\"}},\"coloraxis\":{\"colorbar\":{\"outlinewidth\":0,\"ticks\":\"\"}},\"colorscale\":{\"sequential\":[[0.0,\"#0d0887\"],[0.1111111111111111,\"#46039f\"],[0.2222222222222222,\"#7201a8\"],[0.3333333333333333,\"#9c179e\"],[0.4444444444444444,\"#bd3786\"],[0.5555555555555556,\"#d8576b\"],[0.6666666666666666,\"#ed7953\"],[0.7777777777777778,\"#fb9f3a\"],[0.8888888888888888,\"#fdca26\"],[1.0,\"#f0f921\"]],\"sequentialminus\":[[0.0,\"#0d0887\"],[0.1111111111111111,\"#46039f\"],[0.2222222222222222,\"#7201a8\"],[0.3333333333333333,\"#9c179e\"],[0.4444444444444444,\"#bd3786\"],[0.5555555555555556,\"#d8576b\"],[0.6666666666666666,\"#ed7953\"],[0.7777777777777778,\"#fb9f3a\"],[0.8888888888888888,\"#fdca26\"],[1.0,\"#f0f921\"]],\"diverging\":[[0,\"#8e0152\"],[0.1,\"#c51b7d\"],[0.2,\"#de77ae\"],[0.3,\"#f1b6da\"],[0.4,\"#fde0ef\"],[0.5,\"#f7f7f7\"],[0.6,\"#e6f5d0\"],[0.7,\"#b8e186\"],[0.8,\"#7fbc41\"],[0.9,\"#4d9221\"],[1,\"#276419\"]]},\"xaxis\":{\"gridcolor\":\"white\",\"linecolor\":\"white\",\"ticks\":\"\",\"title\":{\"standoff\":15},\"zerolinecolor\":\"white\",\"automargin\":true,\"zerolinewidth\":2},\"yaxis\":{\"gridcolor\":\"white\",\"linecolor\":\"white\",\"ticks\":\"\",\"title\":{\"standoff\":15},\"zerolinecolor\":\"white\",\"automargin\":true,\"zerolinewidth\":2},\"scene\":{\"xaxis\":{\"backgroundcolor\":\"#E5ECF6\",\"gridcolor\":\"white\",\"linecolor\":\"white\",\"showbackground\":true,\"ticks\":\"\",\"zerolinecolor\":\"white\",\"gridwidth\":2},\"yaxis\":{\"backgroundcolor\":\"#E5ECF6\",\"gridcolor\":\"white\",\"linecolor\":\"white\",\"showbackground\":true,\"ticks\":\"\",\"zerolinecolor\":\"white\",\"gridwidth\":2},\"zaxis\":{\"backgroundcolor\":\"#E5ECF6\",\"gridcolor\":\"white\",\"linecolor\":\"white\",\"showbackground\":true,\"ticks\":\"\",\"zerolinecolor\":\"white\",\"gridwidth\":2}},\"shapedefaults\":{\"line\":{\"color\":\"#2a3f5f\"}},\"annotationdefaults\":{\"arrowcolor\":\"#2a3f5f\",\"arrowhead\":0,\"arrowwidth\":1},\"geo\":{\"bgcolor\":\"white\",\"landcolor\":\"#E5ECF6\",\"subunitcolor\":\"white\",\"showland\":true,\"showlakes\":true,\"lakecolor\":\"white\"},\"title\":{\"x\":0.05},\"mapbox\":{\"style\":\"light\"}}},\"xaxis\":{\"anchor\":\"y\",\"domain\":[0.0,1.0],\"title\":{\"text\":\"Ano\"}},\"yaxis\":{\"anchor\":\"x\",\"domain\":[0.0,1.0],\"title\":{\"text\":\"Tempo at\\u00e9 senten\\u00e7a\"}},\"legend\":{\"tracegroupgap\":0},\"title\":{\"text\":\"Tempo at\\u00e9 senten\\u00e7a ao longo dos anos\"}},                        {\"responsive\": true}                    ).then(function(){\n",
       "                            \n",
       "var gd = document.getElementById('dc0d93ee-3937-45b2-80c8-7f6072c2ec15');\n",
       "var x = new MutationObserver(function (mutations, observer) {{\n",
       "        var display = window.getComputedStyle(gd).display;\n",
       "        if (!display || display === 'none') {{\n",
       "            console.log([gd, 'removed!']);\n",
       "            Plotly.purge(gd);\n",
       "            observer.disconnect();\n",
       "        }}\n",
       "}});\n",
       "\n",
       "// Listen for the removal of the full notebook cells\n",
       "var notebookContainer = gd.closest('#notebook-container');\n",
       "if (notebookContainer) {{\n",
       "    x.observe(notebookContainer, {childList: true});\n",
       "}}\n",
       "\n",
       "// Listen for the clearing of the current output cell\n",
       "var outputEl = gd.closest('.output');\n",
       "if (outputEl) {{\n",
       "    x.observe(outputEl, {childList: true});\n",
       "}}\n",
       "\n",
       "                        })                };                });            </script>        </div>"
      ]
     },
     "metadata": {},
     "output_type": "display_data"
    }
   ],
   "source": [
    "#df_sentenciados.groupby(['data_sentenca'])['tempo_ate_sentenca'].count()\n",
    "df_ordenado = df_sentenciados.sort_values(by='data_sentenca')\n",
    "fig = px.line(df_ordenado, x='data_sentenca', y='tempo_ate_sentenca', title='Tempo até sentença ao longo dos anos').update_layout(\n",
    "    yaxis_title=\"Tempo até sentença\", xaxis_title=\"Ano\")\n",
    "fig.show()"
   ]
  },
  {
   "cell_type": "code",
   "execution_count": 128,
   "metadata": {},
   "outputs": [
    {
     "name": "stdout",
     "output_type": "stream",
     "text": [
      "(99% dos processos são sentenciados em até 213.8 dias)\n"
     ]
    }
   ],
   "source": [
    "top99_sentenciados = df_sentenciados['tempo_ate_sentenca'].quantile(0.80)\n",
    "print(f'(80% dos processos são sentenciados em até {top99_sentenciados:.1f} dias)')"
   ]
  },
  {
   "cell_type": "code",
   "execution_count": 151,
   "metadata": {},
   "outputs": [
    {
     "data": {
      "image/png": "[encoded data removed]",
      "text/plain": [
       "<Figure size 1250x1250 with 30 Axes>"
      ]
     },
     "metadata": {},
     "output_type": "display_data"
    }
   ],
   "source": [
    "sns.set()\n",
    "fig = sns.pairplot(df_sentenciados[['tempo_entre_1e2_mov', 'tempo_entre_2e3_mov', \n",
    "                             'tempo_entre_3e4_mov', 'mais60d', 'tempo_ate_sentenca']], size = 2.5)\n",
    "fig.fig.suptitle('Relacionamento entre as variáveis', y=1.03)\n",
    "plt.show()"
   ]
  },
  {
   "cell_type": "code",
   "execution_count": 95,
   "metadata": {},
   "outputs": [
    {
     "data": {
      "image/png": "[encoded data removed]",
      "text/plain": [
       "<Figure size 640x480 with 2 Axes>"
      ]
     },
     "metadata": {},
     "output_type": "display_data"
    }
   ],
   "source": [
    "sns.heatmap(df_sentenciados[['tempo_entre_1e2_mov', 'tempo_entre_2e3_mov', \n",
    "                             'tempo_entre_3e4_mov', 'mais60d', 'tempo_ate_sentenca']].corr(),annot=True,cmap='RdYlGn',linewidths=0.2)\n",
    "fig=plt.gcf()\n",
    "plt.xticks(fontsize=12)\n",
    "plt.yticks(fontsize=12)\n",
    "plt.show()"
   ]
  },
  {
   "cell_type": "code",
   "execution_count": 129,
   "metadata": {},
   "outputs": [
    {
     "name": "stdout",
     "output_type": "stream",
     "text": [
      "['51', '581', '332', '785', '792', '889', '11020', '85', '12164', '11010', '941']\n",
      "Das movimentações mais demoradas, 0 são realizadas pela secretaria, 1 pelo gabinete e 0 são sentenças\n"
     ]
    }
   ],
   "source": [
    "def lista_movimentacoes(movimentacoes, posicao):\n",
    "    movimentacoes_posicao_3 = list()\n",
    "    for movimento in movimentacoes:\n",
    "        movimentacoes_posicao_3.append(movimento[posicao -1][0])\n",
    "    return list(set(movimentacoes_posicao_3))\n",
    "\n",
    "    \n",
    "mais_demoradas_movimentacoes_pos_3 = lista_movimentacoes(df_sentenciados['movimentos'].to_list(), 3)\n",
    "print(mais_demoradas_movimentacoes_pos_3)\n",
    "\n",
    "\n",
    "for codigo in mais_demoradas_movimentacoes_pos_3:\n",
    "    acoes_secretaria = 0\n",
    "    acoes_gabinete = 0\n",
    "    acoes_sentenca = 0\n",
    "    if int(codigo) in lista_movimentacoes_secretaria:\n",
    "        acoes_secretaria += 1\n",
    "    elif int(codigo) in lista_movimentacoes_gabinete:\n",
    "        acoes_gabinete += 1\n",
    "    elif int(codigo) in lista_movimentacoes_sentenca:\n",
    "        acoes_sentenca += 1\n",
    "\n",
    "print(f'Das movimentações mais demoradas, {acoes_secretaria} são realizadas pela secretaria, {acoes_gabinete} pelo gabinete e {acoes_sentenca} são sentenças')\n",
    "        "
   ]
  },
  {
   "cell_type": "markdown",
   "metadata": {},
   "source": [
    "### Testes com Séries Temporais"
   ]
  },
  {
   "cell_type": "code",
   "execution_count": 154,
   "metadata": {},
   "outputs": [],
   "source": [
    "from statsmodels.graphics.tsaplots import plot_acf, plot_pacf\n",
    "from pmdarima.arima import KPSSTest, auto_arima\n",
    "from tqdm import tqdm\n",
    "\n",
    "from sklearn.preprocessing import MinMaxScaler"
   ]
  },
  {
   "cell_type": "code",
   "execution_count": 155,
   "metadata": {},
   "outputs": [],
   "source": [
    "def mean_square_error(y_true, y_pred):\n",
    "    y_true = np.asmatrix(y_true).reshape(-1)\n",
    "    y_pred = np.asmatrix(y_pred).reshape(-1)\n",
    "\n",
    "    return np.square(np.subtract(y_true, y_pred)).mean()\n",
    "\n",
    "def root_mean_square_error(y_true, y_pred):\n",
    "\n",
    "    return mean_square_error(y_true, y_pred)**0.5\n",
    "\n",
    "\n",
    "def mean_absolute_percentage_error(y_true, y_pred):\n",
    "    y_true = np.asarray(y_true).reshape(-1)\n",
    "    y_pred = np.asarray(y_pred).reshape(-1)\n",
    "\n",
    "    if len(np.where(y_true == 0)[0]) > 0:\n",
    "        return np.inf\n",
    "    else:\n",
    "        return np.mean(np.abs((y_true - y_pred) / y_true)) * 100\n",
    "\n",
    "\n",
    "def mean_absolute_error(y_true, y_pred):\n",
    "\n",
    "    y_true = np.asarray(y_true).reshape(-1)\n",
    "    y_pred = np.asarray(y_pred).reshape(-1)\n",
    "\n",
    "    return np.mean(np.abs(y_true - y_pred))\n",
    "\n",
    "\n",
    "def u_theil(y_true, y_pred):\n",
    "    y_true = np.asarray(y_true).reshape(-1)\n",
    "    y_pred = np.asarray(y_pred).reshape(-1)\n",
    "\n",
    "    error_sup = np.square(np.subtract(y_true, y_pred)).sum()\n",
    "    error_inf = np.square(np.subtract(y_pred[0:(len(y_pred) - 1)], y_pred[1:(len(y_pred))])).sum()\n",
    "\n",
    "    return error_sup / error_inf\n",
    "\n",
    "\n",
    "def average_relative_variance(y_true, y_pred):\n",
    "    y_true = np.asarray(y_true).reshape(-1)\n",
    "    y_pred = np.asarray(y_pred).reshape(-1)\n",
    "    mean = np.mean(y_true)\n",
    "\n",
    "    error_sup = np.square(np.subtract(y_true, y_pred)).sum()\n",
    "    error_inf = np.square(np.subtract(y_pred, mean)).sum()\n",
    "\n",
    "    return error_sup / error_inf\n",
    "\n",
    "\n",
    "def prediction_of_change_in_direction(y_true, y_pred):\n",
    "    y_true = np.asarray(y_true).reshape(-1)\n",
    "    y_pred = np.asarray(y_pred).reshape(-1)\n",
    "\n",
    "    true_sub = np.subtract(y_true[0:(len(y_true) - 1)], y_true[1:(len(y_true))])\n",
    "    pred_sub = np.subtract(y_pred[0:(len(y_pred) - 1)], y_pred[1:(len(y_pred))])\n",
    "\n",
    "    mult = true_sub * pred_sub\n",
    "    result = 0\n",
    "    for m in mult:\n",
    "        if m > 0:\n",
    "            result = result + 1\n",
    "\n",
    "    return (100 * (result / len(y_true)))\n",
    "\n",
    "\n",
    "def gerenerate_metric_results(y_true, y_pred):\n",
    "    return {'MSE': mean_square_error(y_true, y_pred),\n",
    "            'RMSE':root_mean_square_error(y_true, y_pred),\n",
    "            'MAPE': mean_absolute_percentage_error(y_true, y_pred),\n",
    "            'MAE': mean_absolute_error(y_true, y_pred),\n",
    "            'theil': u_theil(y_true, y_pred),\n",
    "            'ARV': average_relative_variance(y_true, y_pred),\n",
    "            'POCID': prediction_of_change_in_direction(y_true, y_pred)}\n"
   ]
  },
  {
   "cell_type": "code",
   "execution_count": 156,
   "metadata": {},
   "outputs": [],
   "source": []
  },
  {
   "cell_type": "code",
   "execution_count": 157,
   "metadata": {},
   "outputs": [],
   "source": [
    "def show_tendencia(ts, rm_size):\n",
    "  df_show = pd.DataFrame()\n",
    "\n",
    "  df_show['serie'] = ts.values[rm_size:]\n",
    "  df_show['rm'] = ts.rolling(rm_size).mean().values[rm_size:]\n",
    "\n",
    "  df_show['date'] = ts.index.to_list()[rm_size:]\n",
    "  df_show.set_index('date', inplace=True)\n",
    "  df_show.plot()\n",
    "  plt.show()"
   ]
  },
  {
   "cell_type": "code",
   "execution_count": null,
   "metadata": {},
   "outputs": [],
   "source": []
  },
  {
   "cell_type": "markdown",
   "metadata": {},
   "source": [
    "## Testes com ML"
   ]
  },
  {
   "cell_type": "code",
   "execution_count": null,
   "metadata": {},
   "outputs": [],
   "source": [
    "print(df_tjrn.columns)"
   ]
  },
  {
   "cell_type": "code",
   "execution_count": null,
   "metadata": {},
   "outputs": [],
   "source": [
    "df_ml = df_sentenciados.drop(columns=['movimentos', 'numero_processo', 'data_ajuizamento', 'ultima_atualizacao', 'codigo', 'data_sentenca' ])\n",
    "df_ml = pd.get_dummies(df_ml, columns=['assuntos'], drop_first=True)\n",
    "df_x = df_ml.drop(columns=['tempo_ate_sentenca', 'mais60d', 'tempo_entre_3e4_mov'])\n",
    "#print(df_ml.head(1))\n",
    "print(df_ml.columns)"
   ]
  },
  {
   "cell_type": "code",
   "execution_count": null,
   "metadata": {},
   "outputs": [],
   "source": [
    "from sklearn.ensemble import RandomForestClassifier\n",
    "from sklearn.ensemble import AdaBoostClassifier\n",
    "from sklearn.neural_network import MLPClassifier\n",
    "from sklearn.tree import DecisionTreeClassifier\n",
    "from sklearn.naive_bayes import CategoricalNB\n",
    "from sklearn.model_selection import cross_validate\n",
    "from sklearn.model_selection import StratifiedKFold\n",
    "\n",
    "metricas = ['accuracy', 'f1', 'precision', 'recall']\n",
    "rfc = RandomForestClassifier(random_state=19, n_jobs=-1)\n",
    "adc = AdaBoostClassifier(random_state=19,algorithm=\"SAMME\", n_estimators=200)\n",
    "mlp = MLPClassifier(random_state=19)\n",
    "dtc = DecisionTreeClassifier(random_state=19)\n",
    "\n",
    "scores_rfc = cross_validate(rfc, df_x,\n",
    "                             df_ml['mais60d'], cv=10, scoring=metricas)\n",
    "scores_adc = cross_validate(adc, df_x,\n",
    "                             df_ml['mais60d'], cv=10, scoring=metricas)\n",
    "scores_mlp = cross_validate(mlp, df_x,\n",
    "                             df_ml['mais60d'], cv=10, scoring=metricas)\n",
    "scores_dtc = cross_validate(dtc, df_x,\n",
    "                             df_ml['mais60d'], cv=10, scoring=metricas)"
   ]
  },
  {
   "cell_type": "code",
   "execution_count": null,
   "metadata": {},
   "outputs": [],
   "source": [
    "chaves = scores_dtc.keys()\n",
    "print(f'Usando as colunas {df_x.columns} chegou-se ao seguinte resultado\\n\\n')\n",
    "print(f'Métrica \\tRandomForest \\tAdaBoost \\tMLP \\tDecisionTree')\n",
    "for chave in chaves:\n",
    "    print(f'{chave}:\\t {scores_rfc[chave].mean():.3f} \\t\\t{scores_adc[chave].mean():.3f} \\t\\t{scores_mlp[chave].mean():.3f} \\t\\t{scores_dtc[chave].mean():.3f}')\n"
   ]
  },
  {
   "cell_type": "markdown",
   "metadata": {},
   "source": [
    "### Modelo tentando prever se vai atrasar ou não"
   ]
  },
  {
   "cell_type": "code",
   "execution_count": null,
   "metadata": {},
   "outputs": [],
   "source": [
    "from sklearn.tree import export_text\n",
    "from sklearn.model_selection import train_test_split\n",
    "\n",
    "X_train, X_test, y_train, y_test = train_test_split(df_x, df_ml['mais60d'],test_size=0.20, random_state=19)\n",
    "\n",
    "clf = DecisionTreeClassifier(max_depth=10).fit(X_train, y_train)\n",
    "print(clf.score(X_test,y_test))\n",
    "r = export_text(clf, feature_names=df_x.columns)\n",
    "\n",
    "print(r)\n",
    " "
   ]
  },
  {
   "cell_type": "markdown",
   "metadata": {},
   "source": [
    "### Regressão para o tempo até a sentença"
   ]
  },
  {
   "cell_type": "code",
   "execution_count": null,
   "metadata": {},
   "outputs": [],
   "source": [
    "from sklearn.model_selection import train_test_split\n",
    "X_train, X_test, y_train, y_test = train_test_split(df_x, \n",
    "                                                    df_ml['tempo_ate_sentenca'], test_size=0.20, random_state=19)"
   ]
  },
  {
   "cell_type": "code",
   "execution_count": null,
   "metadata": {},
   "outputs": [],
   "source": [
    "from sklearn.ensemble import RandomForestRegressor\n",
    "from sklearn.ensemble import AdaBoostRegressor\n",
    "from sklearn.neural_network import MLPRegressor\n",
    "from sklearn.tree import DecisionTreeRegressor\n",
    "from sklearn import metrics\n",
    "from sklearn.metrics import mean_squared_error, r2_score, mean_absolute_error\n",
    "\n",
    "\n",
    "model = RandomForestRegressor(max_depth=50, random_state=0, n_estimators=250)\n",
    "model.fit(X_train, y_train)\n",
    "rf_y_pred = model.predict(X_test)\n",
    "\n",
    "rf_r2 = r2_score(y_test, rf_y_pred)\n",
    "rf_mae = mean_absolute_error(y_test, rf_y_pred)\n",
    "rf_rmse = mean_squared_error(y_test, rf_y_pred, squared=False)\n",
    "rf_mse = mean_squared_error(y_test, rf_y_pred)\n",
    "\n",
    "print('----------------------------------------------------')\n",
    "\n",
    "print(f'AdaBoost Regressor')\n",
    "regr = AdaBoostRegressor(random_state=0, n_estimators=100)\n",
    "regr.fit(X_train, y_train)\n",
    "ada_y_pred = regr.predict(X_test)\n",
    "\n",
    "ada_r2 = r2_score(y_test, ada_y_pred)\n",
    "ada_mae = mean_absolute_error(y_test, ada_y_pred)\n",
    "ada_rmse = mean_squared_error(y_test, ada_y_pred, squared=False)\n",
    "ada_mse = mean_squared_error(y_test, ada_y_pred)\n",
    "\n",
    "print('----------------------------------------------------')\n",
    "\n",
    "print(f'MLP Regressor')\n",
    "\n",
    "regr_mlp = MLPRegressor(random_state=1, max_iter=500).fit(X_train, y_train)\n",
    "mlp_y_pred = regr_mlp.predict(X_test)\n",
    "\n",
    "mlp_r2 = r2_score(y_test, mlp_y_pred)\n",
    "mlp_mae = mean_absolute_error(y_test, mlp_y_pred)\n",
    "mlp_rmse = mean_squared_error(y_test, mlp_y_pred, squared=False)\n",
    "mlp_mse = mean_squared_error(y_test, mlp_y_pred)\n",
    "\n",
    "print('----------------------------------------------------')\n",
    "\n",
    "print(f'DT Regressor')\n",
    "regressor = DecisionTreeRegressor(random_state=0).fit(X_train, y_train)\n",
    "dt_y_pred = regr_mlp.predict(X_test)\n",
    "\n",
    "dt_r2 = r2_score(y_test, dt_y_pred)\n",
    "dt_mae = mean_absolute_error(y_test, dt_y_pred)\n",
    "dt_rmse = mean_squared_error(y_test, dt_y_pred, squared=False)\n",
    "dt_mse = mean_squared_error(y_test, dt_y_pred)\n",
    "\n",
    "print(f'Metric\\t\\t\\t\\t RF\\t AdaBoost\\t MLP\\t\\t DT')\n",
    "print(f\"Mean Squared Error:\\t\\t {rf_r2:.3f}\\t {ada_r2:.3f}\\t\\t {mlp_r2:.3f}\\t\\t {dt_r2:.3f}\")\n",
    "print(f\"R-squared (R²):\\t\\t\\t {rf_mae:.3f}\\t {ada_mae:.3f}\\t {mlp_mae:.3f}\\t\\t {dt_mae:.3f}\")\n",
    "print(f\"Mean Absolute Error (MAE):\\t {rf_mae:.3f}\\t {ada_rmse:.3f}\\t {mlp_rmse:.3f}\\t {dt_rmse:.3f}\")\n",
    "print(f\"Root Mean Squared Error (RMSE):\\t {rf_rmse:.3f} {ada_mse:.3f}\\t {mlp_mse:.3f}\\t {dt_mse:.3f}\")"
   ]
  },
  {
   "cell_type": "code",
   "execution_count": null,
   "metadata": {},
   "outputs": [],
   "source": [
    "\"\"\" from sklearn.ensemble import RandomForestRegressor\n",
    "from sklearn.model_selection import GridSearchCV\n",
    "from sklearn.metrics import r2_score\n",
    "from sklearn.metrics import mean_squared_error\n",
    "from sklearn.model_selection import RepeatedStratifiedKFold\n",
    "\n",
    "cv = RepeatedStratifiedKFold(n_splits=2, n_repeats=3, random_state=19)\n",
    "rfc = RandomForestRegressor()\n",
    "\n",
    "param_grid = [{'n_estimators': [100, 300, 500],\n",
    "               'min_samples_split': [2, 5, 25],\n",
    "               'min_samples_leaf': [3, 4, 5, 20],\n",
    "               'max_depth': [5, 35, 50]}]\n",
    "\n",
    "clf = GridSearchCV(rfc, param_grid = param_grid, n_jobs=-1, scoring='roc_auc', verbose=1)\n",
    "\n",
    "clf.fit(X_train, y_train)\n",
    "best_model = clf.best_estimator_ \"\"\""
   ]
  },
  {
   "cell_type": "code",
   "execution_count": null,
   "metadata": {},
   "outputs": [],
   "source": [
    "\"\"\" results_df = pd.DataFrame(clf.cv_results_)\n",
    "\n",
    "results_df = results_df.sort_values(by=[\"rank_test_score\"])\n",
    "results_df = results_df.set_index(\n",
    "    results_df[\"params\"].apply(lambda x: \"_\".join(str(val) for val in x.values()))\n",
    ").rename_axis(\"kernel\")\n",
    "#print(results_df.columns)\n",
    "results_df = results_df[[\"params\", \"rank_test_score\", \"mean_test_score\", \"std_test_score\"]]\n",
    "\n",
    "print(results_df.head(3)) \"\"\""
   ]
  }
 ],
 "metadata": {
  "kernelspec": {
   "display_name": "Python 3",
   "language": "python",
   "name": "python3"
  },
  "language_info": {
   "codemirror_mode": {
    "name": "ipython",
    "version": 3
   },
   "file_extension": ".py",
   "mimetype": "text/x-python",
   "name": "python",
   "nbconvert_exporter": "python",
   "pygments_lexer": "ipython3",
   "version": "3.10.12"
  }
 },
 "nbformat": 4,
 "nbformat_minor": 2
}
